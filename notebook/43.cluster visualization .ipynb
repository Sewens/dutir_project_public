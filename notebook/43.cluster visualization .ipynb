{
 "cells": [
  {
   "cell_type": "code",
   "execution_count": 1,
   "metadata": {
    "ExecuteTime": {
     "end_time": "2019-07-25T06:26:50.591384Z",
     "start_time": "2019-07-25T06:26:49.802306Z"
    }
   },
   "outputs": [],
   "source": [
    "import os\n",
    "import time\n",
    "import random\n",
    "import re\n",
    "import pandas as pd\n",
    "import numpy as np\n",
    "import jieba\n",
    "import pickle\n",
    "\n",
    "%matplotlib inline"
   ]
  },
  {
   "cell_type": "code",
   "execution_count": 2,
   "metadata": {
    "ExecuteTime": {
     "end_time": "2019-07-25T06:26:50.601788Z",
     "start_time": "2019-07-25T06:26:50.595424Z"
    }
   },
   "outputs": [],
   "source": [
    "def dump_pickle(obj,fname):\n",
    "    with open(fname,'wb') as file:\n",
    "        pickle.dump(obj,file)\n",
    "def load_pickle(fname):\n",
    "    return pickle.load(open(fname,'rb'))"
   ]
  },
  {
   "cell_type": "code",
   "execution_count": 3,
   "metadata": {
    "ExecuteTime": {
     "end_time": "2019-07-25T06:28:41.438500Z",
     "start_time": "2019-07-25T06:26:51.510612Z"
    }
   },
   "outputs": [],
   "source": [
    "claim_df = pd.read_pickle('../data/patent_data/processed/claim_df_seg_0630.pkl')"
   ]
  },
  {
   "cell_type": "code",
   "execution_count": 4,
   "metadata": {
    "ExecuteTime": {
     "end_time": "2019-07-25T06:28:56.326906Z",
     "start_time": "2019-07-25T06:28:41.442715Z"
    }
   },
   "outputs": [],
   "source": [
    "patent_text = claim_df.seg_text.tolist()\n",
    "patent_text = [' '.join(i) for i in patent_text]"
   ]
  },
  {
   "cell_type": "markdown",
   "metadata": {},
   "source": [
    "# 向量化 使用tfidf 重新训练 限定词表"
   ]
  },
  {
   "cell_type": "code",
   "execution_count": 5,
   "metadata": {
    "ExecuteTime": {
     "end_time": "2019-07-25T06:28:56.821092Z",
     "start_time": "2019-07-25T06:28:56.331194Z"
    }
   },
   "outputs": [],
   "source": [
    "from sklearn.feature_extraction.text import TfidfVectorizer"
   ]
  },
  {
   "cell_type": "code",
   "execution_count": 6,
   "metadata": {
    "ExecuteTime": {
     "end_time": "2019-07-25T06:31:20.443701Z",
     "start_time": "2019-07-25T06:28:56.825677Z"
    }
   },
   "outputs": [],
   "source": [
    "patent_tfidf_obj = load_pickle('../data/patent_data/processed/patent_tfidf_obj_default_0701.pkl')"
   ]
  },
  {
   "cell_type": "code",
   "execution_count": null,
   "metadata": {
    "ExecuteTime": {
     "start_time": "2019-07-25T06:20:44.082Z"
    },
    "scrolled": true
   },
   "outputs": [],
   "source": [
    "patent_all_tfidf_matrix = patent_tfidf_obj.transform(patent_text)"
   ]
  },
  {
   "cell_type": "markdown",
   "metadata": {},
   "source": [
    "# 样例数据准备"
   ]
  },
  {
   "cell_type": "code",
   "execution_count": null,
   "metadata": {
    "ExecuteTime": {
     "start_time": "2019-07-25T06:20:49.560Z"
    },
    "scrolled": true
   },
   "outputs": [],
   "source": [
    "sample_patent_data_tfidf = patent_tfidf_obj.transform(patent_text[:3000])"
   ]
  },
  {
   "cell_type": "markdown",
   "metadata": {},
   "source": [
    "# 聚类 使用Mean-Shift进行聚类\n",
    "\n",
    "bandwidth 是搜索时使用的带宽大小 可以设置\n",
    "\n",
    "也可以使用estimate_bandwidth来进行估测"
   ]
  },
  {
   "cell_type": "code",
   "execution_count": null,
   "metadata": {
    "ExecuteTime": {
     "start_time": "2019-07-25T06:20:50.031Z"
    }
   },
   "outputs": [],
   "source": [
    "from sklearn.cluster import MeanShift,estimate_bandwidth"
   ]
  },
  {
   "cell_type": "code",
   "execution_count": null,
   "metadata": {
    "ExecuteTime": {
     "start_time": "2019-07-25T06:20:50.232Z"
    },
    "scrolled": true
   },
   "outputs": [],
   "source": [
    "# band_est = estimate_bandwidth(sample_patent_data_tfidf.toarray())\n",
    "\n",
    "# ms = MeanShift(bandwidth=band_est)\n",
    "\n",
    "# ms.fit(sample_patent_data_tfidf.toarray())\n",
    "\n",
    "# ms_cluster = ms.predict(sample_patent_data_tfidf.toarray())"
   ]
  },
  {
   "cell_type": "markdown",
   "metadata": {},
   "source": [
    "# 聚类 使用 k-means 对文档进行聚类"
   ]
  },
  {
   "cell_type": "code",
   "execution_count": null,
   "metadata": {
    "ExecuteTime": {
     "start_time": "2019-07-25T06:20:51.320Z"
    }
   },
   "outputs": [],
   "source": [
    "from sklearn.cluster import KMeans"
   ]
  },
  {
   "cell_type": "code",
   "execution_count": null,
   "metadata": {
    "ExecuteTime": {
     "start_time": "2019-07-25T06:20:51.503Z"
    }
   },
   "outputs": [],
   "source": [
    "km = KMeans(n_clusters=5)"
   ]
  },
  {
   "cell_type": "code",
   "execution_count": null,
   "metadata": {
    "ExecuteTime": {
     "start_time": "2019-07-25T06:20:51.680Z"
    },
    "scrolled": true
   },
   "outputs": [
    {
     "data": {
      "text/plain": [
       "array([[1.04924452, 1.00082229, 1.00770167, 1.02927687, 0.98681073],\n",
       "       [1.04152891, 0.95782296, 1.00760521, 1.01451857, 0.97992224],\n",
       "       [1.04046344, 0.9774448 , 0.97355755, 1.01691987, 0.97928094],\n",
       "       ...,\n",
       "       [1.04121422, 0.9615201 , 0.99998648, 1.01493167, 0.97869379],\n",
       "       [1.03930549, 0.93249612, 0.98700461, 1.00947179, 0.97267615],\n",
       "       [1.03861034, 1.03050888, 1.04325315, 0.94098396, 0.99776121]])"
      ]
     },
     "execution_count": 13,
     "metadata": {},
     "output_type": "execute_result"
    }
   ],
   "source": [
    "km.fit_transform(sample_patent_data_tfidf)"
   ]
  },
  {
   "cell_type": "code",
   "execution_count": null,
   "metadata": {
    "ExecuteTime": {
     "start_time": "2019-07-25T06:20:51.865Z"
    }
   },
   "outputs": [],
   "source": [
    "km_cluster = km.predict(sample_patent_data_tfidf)"
   ]
  },
  {
   "cell_type": "markdown",
   "metadata": {},
   "source": [
    "# 聚类 使用 TSNE\n",
    "\n",
    "tsne 降维之后可以得到所有点在空间中对应的布局 在此基础上使用kmeans得到的聚类分组进行可视化"
   ]
  },
  {
   "cell_type": "code",
   "execution_count": null,
   "metadata": {
    "ExecuteTime": {
     "start_time": "2019-07-25T06:20:52.739Z"
    }
   },
   "outputs": [],
   "source": [
    "import bokeh\n",
    "from bokeh.io import output_file, output_notebook\n",
    "from bokeh.plotting import figure, show\n",
    "from bokeh.models import ColumnDataSource\n",
    "from bokeh.layouts import row, column, gridplot\n",
    "from bokeh.models.widgets import Tabs, Panel"
   ]
  },
  {
   "cell_type": "code",
   "execution_count": null,
   "metadata": {
    "ExecuteTime": {
     "start_time": "2019-07-25T06:20:52.920Z"
    }
   },
   "outputs": [],
   "source": [
    "from sklearn.manifold.t_sne import TSNE"
   ]
  },
  {
   "cell_type": "code",
   "execution_count": null,
   "metadata": {
    "ExecuteTime": {
     "start_time": "2019-07-25T06:20:53.095Z"
    }
   },
   "outputs": [],
   "source": [
    "tsne_obj_2d = TSNE(n_components=2)"
   ]
  },
  {
   "cell_type": "code",
   "execution_count": null,
   "metadata": {
    "ExecuteTime": {
     "start_time": "2019-07-25T06:20:53.271Z"
    }
   },
   "outputs": [],
   "source": [
    "tsne_cluster_2d = tsne_obj_2d.fit_transform(sample_patent_data_tfidf.toarray())"
   ]
  },
  {
   "cell_type": "code",
   "execution_count": null,
   "metadata": {
    "ExecuteTime": {
     "start_time": "2019-07-25T06:20:53.457Z"
    },
    "scrolled": true
   },
   "outputs": [],
   "source": [
    "tsne_cluster_2d.shape"
   ]
  },
  {
   "cell_type": "markdown",
   "metadata": {},
   "source": [
    "# 2D TSNE结果绘图"
   ]
  },
  {
   "cell_type": "code",
   "execution_count": null,
   "metadata": {
    "ExecuteTime": {
     "start_time": "2019-07-25T06:20:53.823Z"
    },
    "scrolled": false
   },
   "outputs": [],
   "source": [
    "colormap = ['#DC143C','#0000CD','#00FFFF','#008000','#FFD700']\n",
    "\n",
    "p = figure(title = \"Patent claim cluster\")\n",
    "p.xaxis.axis_label = 'Dim 1'\n",
    "p.yaxis.axis_label = 'Dim 2'\n",
    "\n",
    "km_colors = [colormap[i] for i in km_cluster]\n",
    "\n",
    "p.circle([i[0] for i in tsne_cluster_2d], [i[1] for i in tsne_cluster_2d],color=km_colors,fill_alpha=0.2, size=10)\n",
    "\n",
    "output_notebook()\n",
    "show(p)"
   ]
  },
  {
   "cell_type": "markdown",
   "metadata": {},
   "source": [
    "# 3D TSNE结果绘图"
   ]
  },
  {
   "cell_type": "code",
   "execution_count": null,
   "metadata": {
    "ExecuteTime": {
     "start_time": "2019-07-25T06:20:54.783Z"
    }
   },
   "outputs": [],
   "source": [
    "import matplotlib.pyplot as plt\n",
    "from mpl_toolkits.mplot3d import Axes3D"
   ]
  },
  {
   "cell_type": "code",
   "execution_count": null,
   "metadata": {
    "ExecuteTime": {
     "start_time": "2019-07-25T06:20:54.992Z"
    }
   },
   "outputs": [],
   "source": [
    "tsne_obj_3d = TSNE(n_components=3)\n",
    "tsne_cluster_3d = tsne_obj_3d.fit_transform(sample_patent_data_tfidf.toarray())"
   ]
  },
  {
   "cell_type": "code",
   "execution_count": null,
   "metadata": {
    "ExecuteTime": {
     "start_time": "2019-07-25T06:20:55.184Z"
    }
   },
   "outputs": [],
   "source": [
    "fig = plt.figure(figsize=(15,15))\n",
    "ax = fig.add_subplot(111, projection='3d')\n",
    "marker_map = ['.','h','v','^','x']\n",
    "\n",
    "for num,tsne_3d in enumerate(tsne_cluster_3d):\n",
    "    xs = tsne_3d[0]\n",
    "    ys = tsne_3d[1]\n",
    "    zs = tsne_3d[2]\n",
    "    mark = marker_map[km_cluster[num]]\n",
    "    \n",
    "    ax.scatter(xs,ys,zs,marker=mark)\n",
    "ax.set_xlabel('X Label')\n",
    "ax.set_ylabel('Y Label')\n",
    "ax.set_zlabel('Z Label')    "
   ]
  },
  {
   "cell_type": "markdown",
   "metadata": {},
   "source": [
    "# 3D 交互式绘图"
   ]
  },
  {
   "cell_type": "code",
   "execution_count": null,
   "metadata": {
    "ExecuteTime": {
     "start_time": "2019-07-25T06:20:56.018Z"
    },
    "scrolled": false
   },
   "outputs": [],
   "source": [
    "import plotly.plotly as py\n",
    "import plotly.graph_objs as go\n",
    "from plotly.offline import download_plotlyjs,init_notebook_mode,plot,iplot\n",
    "\n",
    "init_notebook_mode(connected=True)\n",
    "xs,ys,zs = [],[],[]\n",
    "color = []\n",
    "for num,tsne_3d in enumerate(tsne_cluster_3d):\n",
    "    xs.append(tsne_3d[0])\n",
    "    ys.append(tsne_3d[1])\n",
    "    zs.append(tsne_3d[2])\n",
    "    color.append(colormap[km_cluster[num]])\n",
    "    \n",
    "trace1 = go.Scatter3d(\n",
    "    x=x,\n",
    "    y=y,\n",
    "    z=z,\n",
    "    mode='markers',\n",
    "    marker=dict(\n",
    "        size=12,\n",
    "        color=color,\n",
    "        opacity=0.8\n",
    "    )\n",
    ")\n",
    "\n",
    "data = [trace1]\n",
    "layout = go.Layout(\n",
    "    margin=dict(\n",
    "        l=0,\n",
    "        r=0,\n",
    "        b=0,\n",
    "        t=0\n",
    "    )\n",
    ")\n",
    "fig = go.Figure(data=data, layout=layout)\n",
    "\n",
    "iplot(fig)"
   ]
  },
  {
   "cell_type": "code",
   "execution_count": null,
   "metadata": {},
   "outputs": [],
   "source": []
  }
 ],
 "metadata": {
  "kernelspec": {
   "display_name": "Python 3",
   "language": "python",
   "name": "python3"
  },
  "language_info": {
   "codemirror_mode": {
    "name": "ipython",
    "version": 3
   },
   "file_extension": ".py",
   "mimetype": "text/x-python",
   "name": "python",
   "nbconvert_exporter": "python",
   "pygments_lexer": "ipython3",
   "version": "3.6.8"
  }
 },
 "nbformat": 4,
 "nbformat_minor": 2
}
