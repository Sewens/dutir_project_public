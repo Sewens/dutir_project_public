{
 "cells": [
  {
   "cell_type": "code",
   "execution_count": 7,
   "metadata": {
    "ExecuteTime": {
     "end_time": "2019-07-20T08:46:45.173523Z",
     "start_time": "2019-07-20T08:46:45.166215Z"
    }
   },
   "outputs": [],
   "source": [
    "import mysql.connector\n",
    "import pickle\n",
    "from jieba import analyse\n",
    "import pickle\n",
    "import os\n",
    "import jieba\n",
    "from jieba import analyse\n",
    "from snownlp import SnowNLP\n",
    "from snownlp.sentiment import Sentiment\n",
    "from sklearn.metrics.pairwise import cosine_similarity\n",
    "import numpy as np\n",
    "import matplotlib.pyplot as plt"
   ]
  },
  {
   "cell_type": "code",
   "execution_count": 8,
   "metadata": {
    "ExecuteTime": {
     "end_time": "2019-07-20T08:46:45.401523Z",
     "start_time": "2019-07-20T08:46:45.374659Z"
    }
   },
   "outputs": [],
   "source": [
    "#输入：微博名\n",
    "#输出： information：用户信息, senti：积极消极数, big5：大五人格得分以及评价,keywords：top50得词频\n",
    "###information中各字段：'U_ID'：自动生成的ID； U_user_id', 用户ID；'U_name'真实姓名；'U_nick_name'用户昵称；'U_location'用户所在地；\n",
    "#'U_sex'用户性别；'U_sexual_orientation'用户性取向；'U_Emotional_status'情感状态；'U_Birthday'生日；'U_constellation'星座；\n",
    "#'U_Blood'血型；'U_own_bolg_address_name'个人微博地址；'U_brief_introduction'个人简介；'U_Registration_time'注册时间；'U_QQ'QQ\n",
    "#'U_email'email;'U_MSN'MSN;'U_Work',工作信息;'U_educational'教育信息;'U_fans_Number'粉丝数;'U_blog_Number'博文数;\"U_concerns_Number\"关注数\n",
    "#'U_credit'信誉度；\n",
    "#'U_Head_Photo'数据库中的该字段用于存放图片的路径 是空的\n",
    "\n",
    "def weibo_user(name):\n",
    "    # 连接数据库\n",
    "    coon = mysql.connector.connect(user='weibo_user', password='ir@DUT#weibo', host=\"10.8.128.205\",\n",
    "                                   port=23306)\n",
    "    cursor = coon.cursor()\n",
    "    cursor.execute('use weiboDB;')\n",
    "    sql_str = 'select * from user_info_table3 where U_nick_name = \"{0}\";'.format(name)\n",
    "    cursor.execute(sql_str)\n",
    "    \n",
    "    res = cursor.fetchall()\n",
    "    for i in res:\n",
    "        information = {\"U_user_id\":i[1],\"U_name\":i[2],\"U_nick_name\":i[3],\"U_location\":i[4],\"U_sex\":i[5],\"U_sexual_orientation\":i[6],\n",
    "                 \"U_Emotional_status\":i[7],\"U_Birthday\":i[8],\"U_constellation\":i[9],\"U_Blood\":i[11],\"U_own_bolg_address_name\":i[12],\n",
    "                 \"U_brief_introduction\":i[13],\"U_Registration_time\":i[14],\"U_QQ\":i[15],\"U_email\":i[16],\"U_MSN\":i[17],\"U_Work\":i[18],\n",
    "                 \"U_educational\":i[19],\"U_fans_Number\":i[20],\"U_concerns_Number\":i[27],\"U_blog_Number\":i[21],\"U_credit\":i[22]}\n",
    "        senti = {\"U_senti\":i[24]}\n",
    "        \n",
    "        big = i[25][1:-1].split(\",\")\n",
    "        dict_big5 = {'责任性':int(big[0]),'外倾性':big[1],'开放性':big[2],'神经质性':big[3],'宜人性':big[4]}\n",
    "        big5 = {\"U_big5\":dict_big5,\"U_big5_comment\":i[26]}\n",
    "    sql_str1 =   'select W_content from weibo_table where W_nick_name = \"{0}\";'.format(name)\n",
    "    cursor.execute(sql_str1)\n",
    "    res = cursor.fetchall()\n",
    "    tfidf = analyse.extract_tags\n",
    "    key_word =[]\n",
    "    for i in res: \n",
    "        keywords = tfidf(i[0],allowPOS=('ns','nr','nt','nz','nl','n', 'vn','vd','vg','v','vf','a','an','i'))\n",
    "        result=[]\n",
    "        for j in keywords:    \n",
    "            result.append(j)\n",
    "        key_word.append(\" \".join(result)) \n",
    "    words = \"\"\n",
    "    for line in key_word:\n",
    "        for i in line:\n",
    "            words = words+i\n",
    "    result=jieba.analyse.textrank(words,topK=50,withWeight=True)\n",
    "    keywords = dict()\n",
    "    for i in result:\n",
    "        keywords[i[0]]=i[1]\n",
    "    cursor = coon.close()\n",
    "    return information, senti, big5,keywords"
   ]
  },
  {
   "cell_type": "code",
   "execution_count": 9,
   "metadata": {
    "ExecuteTime": {
     "end_time": "2019-07-20T08:46:46.240224Z",
     "start_time": "2019-07-20T08:46:45.566726Z"
    },
    "scrolled": false
   },
   "outputs": [],
   "source": [
    "information, senti, big5,keywords = weibo_user(\"谢磊NPU\")"
   ]
  },
  {
   "cell_type": "code",
   "execution_count": 33,
   "metadata": {
    "ExecuteTime": {
     "end_time": "2019-07-20T10:28:26.933537Z",
     "start_time": "2019-07-20T10:28:26.924619Z"
    },
    "scrolled": true
   },
   "outputs": [],
   "source": [
    "keywords = [{'name':str(k),'value':float(keywords[k])} for k in keywords]\n",
    "senti_value = [int(i.strip()) for i in senti['U_senti'][1:-1].split(',')]\n",
    "senti_result = [{'name':'pos','value':float(senti_value[0])},{'name':'neg','value':float(senti_value[1])}]\n",
    "big5['U_big5'] = [{'name':str(k),'value':float(big5['U_big5'][k])} for k in big5['U_big5']]"
   ]
  },
  {
   "cell_type": "code",
   "execution_count": 36,
   "metadata": {
    "ExecuteTime": {
     "end_time": "2019-07-20T10:30:31.131919Z",
     "start_time": "2019-07-20T10:30:31.126695Z"
    },
    "scrolled": true
   },
   "outputs": [],
   "source": [
    "result = {'infoDetail':information,\n",
    "'sentiPie':senti_result,\n",
    " 'big5':big5,\n",
    "'kwordCloud':keywords,}"
   ]
  },
  {
   "cell_type": "code",
   "execution_count": 37,
   "metadata": {
    "ExecuteTime": {
     "end_time": "2019-07-20T10:30:33.795793Z",
     "start_time": "2019-07-20T10:30:33.781629Z"
    },
    "scrolled": true
   },
   "outputs": [
    {
     "data": {
      "text/plain": [
       "{'infoDetail': {'U_user_id': '2627058773',\n",
       "  'U_name': ' ',\n",
       "  'U_nick_name': '谢磊NPU',\n",
       "  'U_location': '陕西 西安',\n",
       "  'U_sex': '男',\n",
       "  'U_sexual_orientation': ' ',\n",
       "  'U_Emotional_status': ' ',\n",
       "  'U_Birthday': ' ',\n",
       "  'U_constellation': ' ',\n",
       "  'U_Blood': ' ',\n",
       "  'U_own_bolg_address_name': 'https://weibo.com/xielei21st?from=inf&wvr=5&loc=infdomain',\n",
       "  'U_brief_introduction': '西北工业大学计算机学院教授，从事智能语音处理、机器学习相关研究。研究兴趣：语音识别、语音合成、口语内容分析、音视频多模态处理等。',\n",
       "  'U_Registration_time': datetime.datetime(2012, 2, 22, 0, 0),\n",
       "  'U_QQ': ' ',\n",
       "  'U_email': ' ',\n",
       "  'U_MSN': ' ',\n",
       "  'U_Work': ' ',\n",
       "  'U_educational': '  学位：大学  学校： 西北工业大学 时间：2011年',\n",
       "  'U_fans_Number': 3696,\n",
       "  'U_concerns_Number': 412,\n",
       "  'U_blog_Number': 9016,\n",
       "  'U_credit': '信用较好'},\n",
       " 'sentiPie': [{'name': 'pos', 'value': 230}, {'name': 'neg', 'value': 11}],\n",
       " 'big5': {'U_big5': [{'name': '责任性', 'value': 13},\n",
       "   {'name': '外倾性', 'value': ' 5'},\n",
       "   {'name': '开放性', 'value': ' 17'},\n",
       "   {'name': '神经质性', 'value': ' 13'},\n",
       "   {'name': '宜人性', 'value': ' 21'}],\n",
       "  'U_big5_comment': '您的随和性得分最高，属于高随和性。随和性代表了“爱”，对合作和人际和谐是否看重。随和性高的人是善解人意的、友好的、慷慨大方的、乐于助人的，愿意为了别人放弃自己的利益。宜人性高的人对人性持乐观的态度，相信人性本善。宜人性低的人则把自己的利益放在别人的利益之上。本质上，他们不关心别人的利益，因此也不乐意去帮助别人。有时候，他们对别人是非常多疑的，怀疑别人的动机。对于某些职位来说，太高的宜人性是没有必要的，尤其是需要强硬和客观判断的场合，例如科学家、评论家和士兵。'},\n",
       " 'kwordCloud': [{'name': '转发', 'value': 1.0},\n",
       "  {'name': '程序员', 'value': 0.05615517420046101},\n",
       "  {'name': '小米', 'value': 0.05611426201611269},\n",
       "  {'name': '可可', 'value': 0.054013417997516494},\n",
       "  {'name': '生活', 'value': 0.04835218298882436},\n",
       "  {'name': '浙大', 'value': 0.03603990426369304},\n",
       "  {'name': '博士', 'value': 0.03409990252198326},\n",
       "  {'name': '学术', 'value': 0.03233881234864703},\n",
       "  {'name': '事儿', 'value': 0.02676341190433804},\n",
       "  {'name': '出版', 'value': 0.024878436103641377},\n",
       "  {'name': '大学', 'value': 0.023442270658064854},\n",
       "  {'name': '组图', 'value': 0.022414312069188404},\n",
       "  {'name': '测试', 'value': 0.02093249869606007},\n",
       "  {'name': '功能', 'value': 0.02003314957760399},\n",
       "  {'name': '看清', 'value': 0.019979084890502402},\n",
       "  {'name': '美国', 'value': 0.01948095566798408},\n",
       "  {'name': '勇气', 'value': 0.019343159381888637},\n",
       "  {'name': '课程', 'value': 0.019165937635986053},\n",
       "  {'name': '发现', 'value': 0.0190406871985275},\n",
       "  {'name': '粉丝', 'value': 0.018763660291932514},\n",
       "  {'name': '使用', 'value': 0.01813420077354424},\n",
       "  {'name': '总裁', 'value': 0.018123578165085658},\n",
       "  {'name': '图片', 'value': 0.018058622120344835},\n",
       "  {'name': '原子弹', 'value': 0.0178730949251726},\n",
       "  {'name': '地方', 'value': 0.01781017727018023},\n",
       "  {'name': '问问', 'value': 0.017650447930957654},\n",
       "  {'name': '中国', 'value': 0.017554379059716928},\n",
       "  {'name': '语言', 'value': 0.017513151250951885},\n",
       "  {'name': '知识分子', 'value': 0.01725124932034487},\n",
       "  {'name': '责任', 'value': 0.017242278979910538},\n",
       "  {'name': '审核', 'value': 0.01715230580685582},\n",
       "  {'name': '还好', 'value': 0.01702505778814652},\n",
       "  {'name': '教育', 'value': 0.016721609970158726},\n",
       "  {'name': '听听', 'value': 0.016561910304580763},\n",
       "  {'name': '科研', 'value': 0.016549654513895652},\n",
       "  {'name': '总部', 'value': 0.016459143972681622},\n",
       "  {'name': '特首', 'value': 0.016318824892151435},\n",
       "  {'name': '潜力', 'value': 0.016243215533524844},\n",
       "  {'name': '校长', 'value': 0.01615903484649753},\n",
       "  {'name': '提升', 'value': 0.016134786486137878},\n",
       "  {'name': '没有', 'value': 0.016077353009984044},\n",
       "  {'name': '回家', 'value': 0.016059213186498885},\n",
       "  {'name': '老师', 'value': 0.016032200843973242},\n",
       "  {'name': '查看', 'value': 0.015966397933798535},\n",
       "  {'name': '语音', 'value': 0.015924854621046133},\n",
       "  {'name': '看到', 'value': 0.01591001124132623},\n",
       "  {'name': '华人', 'value': 0.01582367936761035},\n",
       "  {'name': '民族', 'value': 0.015718594087950313},\n",
       "  {'name': '不行', 'value': 0.015579184814204268},\n",
       "  {'name': '动机', 'value': 0.015387425517284989}]}"
      ]
     },
     "execution_count": 37,
     "metadata": {},
     "output_type": "execute_result"
    }
   ],
   "source": [
    "result"
   ]
  },
  {
   "cell_type": "code",
   "execution_count": null,
   "metadata": {},
   "outputs": [],
   "source": []
  }
 ],
 "metadata": {
  "kernelspec": {
   "display_name": "Python 3",
   "language": "python",
   "name": "python3"
  },
  "language_info": {
   "codemirror_mode": {
    "name": "ipython",
    "version": 3
   },
   "file_extension": ".py",
   "mimetype": "text/x-python",
   "name": "python",
   "nbconvert_exporter": "python",
   "pygments_lexer": "ipython3",
   "version": "3.6.8"
  }
 },
 "nbformat": 4,
 "nbformat_minor": 2
}
