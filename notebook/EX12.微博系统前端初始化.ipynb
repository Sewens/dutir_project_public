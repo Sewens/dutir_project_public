{
 "cells": [
  {
   "cell_type": "code",
   "execution_count": 2,
   "metadata": {
    "ExecuteTime": {
     "end_time": "2019-07-19T13:56:17.826181Z",
     "start_time": "2019-07-19T13:56:17.792204Z"
    }
   },
   "outputs": [],
   "source": [
    "import mysql.connector\n",
    "import pickle"
   ]
  },
  {
   "cell_type": "code",
   "execution_count": 3,
   "metadata": {
    "ExecuteTime": {
     "end_time": "2019-07-19T13:56:18.488105Z",
     "start_time": "2019-07-19T13:56:18.473969Z"
    }
   },
   "outputs": [],
   "source": [
    "def get_hot_topic_and_weibos():\n",
    "    \"\"\"\n",
    "    获取热门话题和话题对应的热门微博，每个话题封装成一个字典\n",
    "    :return:  字典列表，[one_topic_dct{topic, content, nick_name, ...}]\n",
    "    \"\"\"\n",
    "    coon = mysql.connector.connect(user='weibo_user', password='ir@DUT#weibo', host=\"10.8.128.205\",\n",
    "                                   port='23306')\n",
    "    cursor = coon.cursor(buffered=True)\n",
    "    cursor.execute('use weiboDB;')\n",
    "\n",
    "    ##  热门话题，这里先给定，以后完善\n",
    "    hot_topics = ['#垃圾分类#', '#韩商言借钱#', '#被辱骂初一女生家长原谅班主任#', '#赵丽颖产后现身#', '#李荣浩成功求婚杨丞琳#',\n",
    "                  '#2018结婚率创十年新低#', '#中国花协推荐牡丹为国花#', '#2018结婚率创十年新低#', '#香港警方拘捕47人#', '#精神病患是否可坐飞机#', ]\n",
    "\n",
    "    hot_topics_msg_lst = []\n",
    "    for hot_topic in hot_topics:\n",
    "        # 挑选每个热门话题的热门微博，这里只选择评论最多的一条\n",
    "        # 从数据库中根据 W_search_query 的值查找，返回5列内容\n",
    "        sql_base = 'select W_content, W_nick_name, W_repost_num, W_comment_num, W_like_num \\\n",
    "                   from weibo_table where W_search_query=\"{}\";'\n",
    "        sql_str = sql_base.format(hot_topic)\n",
    "        cursor.execute(sql_str)\n",
    "        items = cursor.fetchall()\n",
    "\n",
    "        hot_weibo = sorted(items, key=lambda x: x[3], reverse=True)[0]\n",
    "        hot_weibo_dct = {'topic': hot_topic,\n",
    "                         'content': hot_weibo[0], 'nick_name': hot_weibo[1],\n",
    "                         'repost_num': hot_weibo[2], 'comment_num': hot_weibo[3],\n",
    "                         'like_num': hot_weibo[4]}\n",
    "        hot_topics_msg_lst.append(hot_weibo_dct)\n",
    "\n",
    "    coon.close()\n",
    "    return hot_topics_msg_lst"
   ]
  },
  {
   "cell_type": "code",
   "execution_count": 5,
   "metadata": {
    "ExecuteTime": {
     "end_time": "2019-07-19T13:56:25.837506Z",
     "start_time": "2019-07-19T13:56:25.560665Z"
    },
    "scrolled": false
   },
   "outputs": [
    {
     "data": {
      "text/plain": [
       "[{'topic': '#垃圾分类#',\n",
       "  'content': '哈哈哈哈哈哈哈哈哈哈哈哈哈半夜给我笑死，敲黑板，来记一下知识点！！ 自己家狗拉的屎！都给我捡起来！拿回家冲马桶！然后包屎的垃圾袋，纸巾，都是干垃圾！ #垃圾分类# (via 朋友圈解说小楼)',\n",
       "  'nick_name': '芋圆吃饱没',\n",
       "  'repost_num': 4693,\n",
       "  'comment_num': 4312,\n",
       "  'like_num': 5246},\n",
       " {'topic': '#韩商言借钱#',\n",
       "  'content': '韩商言求抱抱 韩商言借钱给年年过生日 杨紫李现胡一天《亲爱的热爱的》15、16集预告（东方版）：年年言言和好了，摸头杀【佟年：我不想分手 韩商言：那就不分】；老男人一本正经教年年谈恋爱，抱抱被拒绝[笑cry] 韩商言：你最近是怎么约会的，只是我不太懂。 佟年：你是我的初恋 #韩商言借钱# #李现唱小毛驴# #亲爱的热爱的预告# http://t.cn/AiWuIgPE',\n",
       "  'nick_name': '星闻揭秘',\n",
       "  'repost_num': 5243,\n",
       "  'comment_num': 5222,\n",
       "  'like_num': 45168},\n",
       " {'topic': '#被辱骂初一女生家长原谅班主任#',\n",
       "  'content': '【陕西#被辱骂初一女生家长原谅班主任# ：其受到的惩罚已足够】目前被辱骂初一女生的家长已原谅当事班主任，认为班主任受到的惩罚已足够，家长表示准备带孩子出去散散心，回归平静生活，尽快扭转孩子情绪。商州区委区政府对其他相关责任人的调查处理正在进行当中，同时，由商州区妇联主席负责的，对女孩心理疏导的工作已经准备就绪，相关专业人员也已准备到位，可以根据家长和孩子意愿随时展开。 @陕西都市快报  http://t.cn/AiWYEC7p[组图共4张]',\n",
       "  'nick_name': '澎湃新闻',\n",
       "  'repost_num': 1454,\n",
       "  'comment_num': 8091,\n",
       "  'like_num': 8649},\n",
       " {'topic': '#赵丽颖产后现身#',\n",
       "  'content': '#赵丽颖产后现身# 16日，@赵丽颖 身穿蓝紫色长裙和白色帆布鞋现身北京机场，戴着帽子口罩的她包裹严实， 身材苗条腰肢纤细，状态十分不错。据悉，赵丽颖自3月8日诞下儿子后一直处于休息调养阶段，此前未有公开露面。赵丽颖产后现身机场包裹严实 [组图共9张]',\n",
       "  'nick_name': '新浪娱乐',\n",
       "  'repost_num': 26485,\n",
       "  'comment_num': 20978,\n",
       "  'like_num': 85041},\n",
       " {'topic': '#李荣浩成功求婚杨丞琳#',\n",
       "  'content': '#李荣浩成功求婚杨丞琳# 刚刚，@李荣浩 在生日当天晒出与@楊丞琳 的合照宣布成功求婚的喜讯：“今天34岁生日，也是我求婚纪念日，谢谢你答应我。”2015年9月21日，李荣浩在录制节目时首度承认与杨丞琳的恋情。恭喜！李荣浩生日成功求婚杨丞琳 [组图共6张]',\n",
       "  'nick_name': '新浪娱乐',\n",
       "  'repost_num': 2818,\n",
       "  'comment_num': 3723,\n",
       "  'like_num': 54236},\n",
       " {'topic': '#2018结婚率创十年新低#',\n",
       "  'content': '【#2018结婚率创十年新低# 你是主动剩下还是被迫单身？】从全国范围来看，2018年结婚率仅为7.2‰，这个数字创下了近十年来新低。而且经济越发达地区的结婚率越低，2018年全国结婚率最低的上海只有4.4‰，浙江5.9‰为倒数第二。专家分析认为根本原因在于结婚人数的结构性减少。与此同时，全社会平均受教育年限增加、房价高企、就业竞争激烈，以及年轻一代“独性”更强等原因，也都成为年轻人结婚路上的“绊脚石”。http://t.cn/AiWLZaSu （记者：胡春艳 配图来源：中国经济网、中商产业研究院大数据库）[组图共6张]',\n",
       "  'nick_name': '中国青年报',\n",
       "  'repost_num': 8596,\n",
       "  'comment_num': 18737,\n",
       "  'like_num': 16562},\n",
       " {'topic': '#中国花协推荐牡丹为国花#',\n",
       "  'content': '【#中国花协推荐牡丹为国花#，你觉得选几种国花好？】7月15日，中国花卉协会发布《征求牡丹为我国国花意见的通知》（中花协字〔2019〕16号），并在中国花卉协会官方网站发布《投票：我心中的国花》，面向公众开放网络投票通道，征求社会对推荐牡丹为我国国花的意见。有网友表示不一定只选一种国花。那么，你觉得选几种国花好？评论区留下你心目中的国花之选。 http://t.cn/AiWBww8b',\n",
       "  'nick_name': '每日经济新闻',\n",
       "  'repost_num': 3764,\n",
       "  'comment_num': 13152,\n",
       "  'like_num': 537394},\n",
       " {'topic': '#2018结婚率创十年新低#',\n",
       "  'content': '【#2018结婚率创十年新低# 你是主动剩下还是被迫单身？】从全国范围来看，2018年结婚率仅为7.2‰，这个数字创下了近十年来新低。而且经济越发达地区的结婚率越低，2018年全国结婚率最低的上海只有4.4‰，浙江5.9‰为倒数第二。专家分析认为根本原因在于结婚人数的结构性减少。与此同时，全社会平均受教育年限增加、房价高企、就业竞争激烈，以及年轻一代“独性”更强等原因，也都成为年轻人结婚路上的“绊脚石”。http://t.cn/AiWLZaSu （记者：胡春艳 配图来源：中国经济网、中商产业研究院大数据库）[组图共6张]',\n",
       "  'nick_name': '中国青年报',\n",
       "  'repost_num': 8596,\n",
       "  'comment_num': 18737,\n",
       "  'like_num': 16562},\n",
       " {'topic': '#香港警方拘捕47人#',\n",
       "  'content': '【香港警方：示威者暴力袭警 拘捕47名嫌疑人】香港警方15日晚发表声明表示，14日在沙田区发生部分示威者暴力袭击警察事件，警方共拘捕47名犯罪嫌疑人，其中包括29名男性及18名女性。 警方透露，被捕嫌疑人涉嫌非法集结、袭警、妨碍警务人员执行公务和藏有攻击性武器等罪名。14日当晚，有13名警务人员需入院接受治疗，目前仍有5人留院。 据介绍，14日在沙田区进行的公众集会及游行中，部分游行人员非法集结，有人在短时间内有预谋地大规模派发头盔、眼罩等装备，并在现场掘起路面砖块、收集大量铁枝及其他攻击性武器，拆毁附近铁栏，用铁栏和其他杂物堵塞道路。同时，一批暴力示威者蓄意使用交通圆锥筒和不知名粉末等物品主动袭击警察，并向警方投掷砖块、雨伞及头盔等，对警务人员及市民的安全造成严重威胁。在多次警告后，警方使用适当武力，拘捕暴力示威者。 香港警方表示，示威行动出现更多暴力是对香港法治的严重冲击。对于近日发生的连串暴力行为，香港警察必定会积极进行调查，将破坏法治者绳之以法，以维持公共安全和秩序，确保市民安全。（央视）',\n",
       "  'nick_name': '人民日报',\n",
       "  'repost_num': 5550,\n",
       "  'comment_num': 6727,\n",
       "  'like_num': 35506},\n",
       " {'topic': '#精神病患是否可坐飞机#',\n",
       "  'content': '#精神病患是否可坐飞机#【国航承认“监督员”患有精神疾病 为何还允许其登机？】财经网查询发现，《中国民用航空旅客、行李国内运输规则》第34条规定，传染病患者、精神病患者或健康情况可能危及自身或影响其他旅客安全的旅客，承运人不予承运。虽说航空公司有权拒绝，但实际操作中，要严格执行并不容易。多位航空人士私下向财经网透露，除了精神病患者主动提供其患病证明，或者是有非常明显的患病症状外，一般无论是航司还是机场人员都是很难辨认出精神病患者的。  但是，牛某某的患病国航内部此前是知晓的。此人不仅在2014年被行政拘留，甚至曾出现危害乘客的事件。对此，民航专家林智杰表示，国航在明知牛女士患病存在安全风险还允许其登机，该乘客在飞机上出现的各种问题，国航是要承当相应责任的。#国航 大闹机场女子有精神疾病# http://t.cn/AiWWsxAi',\n",
       "  'nick_name': '财经网',\n",
       "  'repost_num': 756,\n",
       "  'comment_num': 1497,\n",
       "  'like_num': 4364}]"
      ]
     },
     "execution_count": 5,
     "metadata": {},
     "output_type": "execute_result"
    }
   ],
   "source": [
    "get_hot_topic_and_weibos()"
   ]
  },
  {
   "cell_type": "code",
   "execution_count": null,
   "metadata": {},
   "outputs": [],
   "source": []
  },
  {
   "cell_type": "code",
   "execution_count": null,
   "metadata": {},
   "outputs": [],
   "source": []
  }
 ],
 "metadata": {
  "kernelspec": {
   "display_name": "Python 3",
   "language": "python",
   "name": "python3"
  },
  "language_info": {
   "codemirror_mode": {
    "name": "ipython",
    "version": 3
   },
   "file_extension": ".py",
   "mimetype": "text/x-python",
   "name": "python",
   "nbconvert_exporter": "python",
   "pygments_lexer": "ipython3",
   "version": "3.6.8"
  }
 },
 "nbformat": 4,
 "nbformat_minor": 2
}
