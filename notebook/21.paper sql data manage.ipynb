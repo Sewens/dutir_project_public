{
 "cells": [
  {
   "cell_type": "code",
   "execution_count": 1,
   "metadata": {},
   "outputs": [],
   "source": [
    "import os\n",
    "import time\n",
    "import random\n",
    "import re\n",
    "import pandas as pd\n",
    "import numpy as np\n",
    "import mysql.connector"
   ]
  },
  {
   "cell_type": "code",
   "execution_count": 2,
   "metadata": {},
   "outputs": [],
   "source": [
    "host = '127.0.0.1'\n",
    "db_user = 'bio_user'\n",
    "db_password = 'ir@DUT#bio'\n",
    "db_name = 'bioDB'"
   ]
  },
  {
   "cell_type": "markdown",
   "metadata": {},
   "source": [
    "## 新建数据库"
   ]
  },
  {
   "cell_type": "code",
   "execution_count": 3,
   "metadata": {},
   "outputs": [],
   "source": [
    "# cnx = mysql.connector.connect(user='root', password='ir@DUT#2018',\n",
    "#                               host='127.0.0.1')\n",
    "\n",
    "# cursor = cnx.cursor()\n",
    "\n",
    "# cursor.execute('show databases;')\n",
    "\n",
    "# cursor.execute('create database patentDB;')\n",
    "\n",
    "# cursor.execute('show databases;')\n",
    "\n",
    "# cnx.close()"
   ]
  },
  {
   "cell_type": "markdown",
   "metadata": {},
   "source": [
    "## 新建paper数据表"
   ]
  },
  {
   "cell_type": "code",
   "execution_count": 4,
   "metadata": {},
   "outputs": [],
   "source": [
    "cnx = mysql.connector.connect(user=db_user, password=db_password,\n",
    "                              host=host,database=db_name)\n",
    "\n",
    "cursor = cnx.cursor()"
   ]
  },
  {
   "cell_type": "code",
   "execution_count": 5,
   "metadata": {},
   "outputs": [],
   "source": [
    "cursor.execute('drop table paper_table;')"
   ]
  },
  {
   "cell_type": "code",
   "execution_count": 6,
   "metadata": {
    "scrolled": true
   },
   "outputs": [],
   "source": [
    "cursor.execute('create table paper_table \\\n",
    "               (P_ID int not null primary key auto_increment,\\\n",
    "               P_Title text,P_Author text, P_Publication text,P_Organ text, P_year int, P_Keyword text,\\\n",
    "               P_Summary text, P_Keyword_seg text, P_Title_seg text, P_Summary_seg text, P_URL text, P_Fields text, P_Fields_two text, P_References text,\\\n",
    "               P_Pagecount int, P_Page text, P_Language text, P_Download_num int,P_Citation_num int, P_Vector text, P_Volume text,\\\n",
    "               P_Issue text, P_Issn text, P_Isbn text, P_Doi text, P_Red1 text, P_Red2 text, P_Red3 text, P_Red4 text, P_Red5 text);')\n",
    "cnx.close()"
   ]
  },
  {
   "cell_type": "markdown",
   "metadata": {},
   "source": [
    "## 新建author数据表"
   ]
  },
  {
   "cell_type": "code",
   "execution_count": 12,
   "metadata": {},
   "outputs": [],
   "source": [
    "cnx = mysql.connector.connect(user=db_user, password=db_password,\n",
    "                              host=host,database=db_name)\n",
    "\n",
    "cursor = cnx.cursor()"
   ]
  },
  {
   "cell_type": "code",
   "execution_count": 11,
   "metadata": {},
   "outputs": [],
   "source": [
    "author_table_str = 'create table author_table\\\n",
    "(A_ID int not null primary key auto_increment,\\\n",
    "    A_Cname text, A_Ename text, A_Normalized_name text,\\\n",
    "    A_Organ text, A_Position text, A_Fields text, A_Pubs_num int,\\\n",
    "    A_Citation_num int, A_Index int, A_Research_interest text, A_Focus_Fields text,\\\n",
    "    A_Paper_ID text, A_Co_ID text, A_Co_name text, A_Vector text, A_Red1 text, A_Red2 text, A_Red3 text, A_Red4 text, A_Red5 text);'"
   ]
  },
  {
   "cell_type": "code",
   "execution_count": 13,
   "metadata": {},
   "outputs": [],
   "source": [
    "cursor.execute(author_table_str)"
   ]
  },
  {
   "cell_type": "code",
   "execution_count": 14,
   "metadata": {},
   "outputs": [],
   "source": [
    "cnx.close()"
   ]
  },
  {
   "cell_type": "markdown",
   "metadata": {},
   "source": [
    "## 新建Year数据建表"
   ]
  },
  {
   "cell_type": "code",
   "execution_count": 7,
   "metadata": {},
   "outputs": [],
   "source": [
    "cnx = mysql.connector.connect(user=db_user, password=db_password,\n",
    "                              host=host,database=db_name)\n",
    "\n",
    "cursor = cnx.cursor()"
   ]
  },
  {
   "cell_type": "code",
   "execution_count": 8,
   "metadata": {},
   "outputs": [],
   "source": [
    "cursor.execute('drop table year_table;')"
   ]
  },
  {
   "cell_type": "code",
   "execution_count": 9,
   "metadata": {},
   "outputs": [],
   "source": [
    "year_table_str = 'create table year_table \\\n",
    "(Y_ID int not null primary key auto_increment,Y_Year int,Y_Title_seg text, Y_Keyword text, Y_Summary_seg text, Y_Authors text,\\\n",
    "    Y_Publication text, Y_Number int, Y_Fields text,Y_Fields_two text, Y_Red1 text, Y_Red2 text, Y_Red3 text);'"
   ]
  },
  {
   "cell_type": "code",
   "execution_count": 10,
   "metadata": {},
   "outputs": [],
   "source": [
    "cursor.execute(year_table_str)"
   ]
  },
  {
   "cell_type": "code",
   "execution_count": 11,
   "metadata": {},
   "outputs": [],
   "source": [
    "cnx.close()"
   ]
  },
  {
   "cell_type": "code",
   "execution_count": null,
   "metadata": {},
   "outputs": [],
   "source": []
  },
  {
   "cell_type": "code",
   "execution_count": null,
   "metadata": {},
   "outputs": [],
   "source": []
  }
 ],
 "metadata": {
  "kernelspec": {
   "display_name": "Python 3",
   "language": "python",
   "name": "python3"
  },
  "language_info": {
   "codemirror_mode": {
    "name": "ipython",
    "version": 3
   },
   "file_extension": ".py",
   "mimetype": "text/x-python",
   "name": "python",
   "nbconvert_exporter": "python",
   "pygments_lexer": "ipython3",
   "version": "3.6.8"
  }
 },
 "nbformat": 4,
 "nbformat_minor": 2
}
