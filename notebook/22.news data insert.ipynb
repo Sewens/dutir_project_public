{
 "cells": [
  {
   "cell_type": "code",
   "execution_count": 1,
   "metadata": {
    "ExecuteTime": {
     "end_time": "2019-07-22T16:00:54.212559Z",
     "start_time": "2019-07-22T16:00:53.824151Z"
    }
   },
   "outputs": [],
   "source": [
    "import os\n",
    "import time\n",
    "import random\n",
    "import re\n",
    "import pandas as pd\n",
    "import numpy as np\n",
    "import mysql.connector"
   ]
  },
  {
   "cell_type": "markdown",
   "metadata": {},
   "source": [
    "# 读取数据"
   ]
  },
  {
   "cell_type": "code",
   "execution_count": 19,
   "metadata": {
    "ExecuteTime": {
     "end_time": "2019-07-22T16:09:11.188176Z",
     "start_time": "2019-07-22T16:09:10.434811Z"
    }
   },
   "outputs": [],
   "source": [
    "news_df = pd.read_csv('../data/news_data/event.csv')"
   ]
  },
  {
   "cell_type": "code",
   "execution_count": 20,
   "metadata": {
    "ExecuteTime": {
     "end_time": "2019-07-22T16:09:11.293968Z",
     "start_time": "2019-07-22T16:09:11.190526Z"
    }
   },
   "outputs": [],
   "source": [
    "news_df = news_df.fillna('')"
   ]
  },
  {
   "cell_type": "markdown",
   "metadata": {},
   "source": [
    "# 删除原有数据库"
   ]
  },
  {
   "cell_type": "code",
   "execution_count": 18,
   "metadata": {
    "ExecuteTime": {
     "end_time": "2019-07-22T15:57:40.662166Z",
     "start_time": "2019-07-22T15:57:40.652145Z"
    }
   },
   "outputs": [],
   "source": [
    "cnx = mysql.connector.connect(user='root', password='ir@DUT#2018',\n",
    "                              host='10.8.128.205', port='23306')\n",
    "\n",
    "cursor = cnx.cursor()"
   ]
  },
  {
   "cell_type": "code",
   "execution_count": null,
   "metadata": {
    "ExecuteTime": {
     "end_time": "2019-07-22T15:57:57.993080Z",
     "start_time": "2019-07-22T15:57:52.943187Z"
    },
    "scrolled": true
   },
   "outputs": [],
   "source": [
    "cursor.execute('drop database newsDB;')\n",
    "cnx.close()"
   ]
  },
  {
   "cell_type": "markdown",
   "metadata": {},
   "source": [
    "# 新建数据库 符合utf8mb4格式数据"
   ]
  },
  {
   "cell_type": "code",
   "execution_count": 2,
   "metadata": {
    "ExecuteTime": {
     "end_time": "2019-07-22T16:01:34.938572Z",
     "start_time": "2019-07-22T16:01:34.917830Z"
    }
   },
   "outputs": [],
   "source": [
    "cnx = mysql.connector.connect(user='root', password='ir@DUT#2018',\n",
    "                              host='10.8.128.205', port='23306')\n",
    "\n",
    "cursor = cnx.cursor()"
   ]
  },
  {
   "cell_type": "code",
   "execution_count": 6,
   "metadata": {
    "ExecuteTime": {
     "end_time": "2019-07-22T16:07:00.983046Z",
     "start_time": "2019-07-22T16:07:00.977826Z"
    },
    "scrolled": true
   },
   "outputs": [],
   "source": [
    "cursor.execute('create database newsDB character set UTF8mb4 collate utf8mb4_bin;')"
   ]
  },
  {
   "cell_type": "code",
   "execution_count": 7,
   "metadata": {
    "ExecuteTime": {
     "end_time": "2019-07-22T16:07:10.652559Z",
     "start_time": "2019-07-22T16:07:10.647873Z"
    }
   },
   "outputs": [],
   "source": [
    "cnx.close()"
   ]
  },
  {
   "cell_type": "markdown",
   "metadata": {},
   "source": [
    "# 创建数据表"
   ]
  },
  {
   "cell_type": "code",
   "execution_count": 13,
   "metadata": {
    "ExecuteTime": {
     "end_time": "2019-07-22T16:08:47.979151Z",
     "start_time": "2019-07-22T16:08:47.969015Z"
    }
   },
   "outputs": [],
   "source": [
    "cnx = mysql.connector.connect(user='news_user', password='ir@DUT#news',\n",
    "                              host='10.8.128.205',database='newsDB', port='23306')\n",
    "\n",
    "cursor = cnx.cursor()"
   ]
  },
  {
   "cell_type": "code",
   "execution_count": null,
   "metadata": {},
   "outputs": [],
   "source": []
  },
  {
   "cell_type": "code",
   "execution_count": 11,
   "metadata": {
    "ExecuteTime": {
     "end_time": "2019-07-22T16:08:40.091011Z",
     "start_time": "2019-07-22T16:08:40.084679Z"
    }
   },
   "outputs": [],
   "source": [
    "create_sql = '''\n",
    "CREATE TABLE IF NOT EXISTS `event` (\n",
    "  `GLOBALEVENTID` varchar(255) DEFAULT NULL,\n",
    "  `SQLDATE` varchar(255) DEFAULT NULL,\n",
    "  `MonthYear` varchar(255) DEFAULT NULL,\n",
    "  `Year` varchar(255) DEFAULT NULL,\n",
    "  `FractionDate` varchar(255) DEFAULT NULL,\n",
    "  `Actor1Code` varchar(255) DEFAULT NULL,\n",
    "  `Actor1Name` varchar(255) DEFAULT NULL,\n",
    "  `Actor1CountryCode` varchar(255) DEFAULT NULL,\n",
    "  `Actor1KnownGroupCode` varchar(255) DEFAULT NULL,\n",
    "  `Actor1EthnicCode` varchar(255) DEFAULT NULL,\n",
    "  `Actor1Religion1Code` varchar(255) DEFAULT NULL,\n",
    "  `Actor1Religion2Code` varchar(255) DEFAULT NULL,\n",
    "  `Actor1Type1Code` varchar(255) DEFAULT NULL,\n",
    "  `Actor1Type2Code` varchar(255) DEFAULT NULL,\n",
    "  `Actor1Type3Code` varchar(255) DEFAULT NULL,\n",
    "  `Actor2Code` varchar(255) DEFAULT NULL,\n",
    "  `Actor2Name` varchar(255) DEFAULT NULL,\n",
    "  `Actor2CountryCode` varchar(255) DEFAULT NULL,\n",
    "  `Actor2KnownGroupCode` varchar(255) DEFAULT NULL,\n",
    "  `Actor2EthnicCode` varchar(255) DEFAULT NULL,\n",
    "  `Actor2Religion1Code` varchar(255) DEFAULT NULL,\n",
    "  `Actor2Religion2Code` varchar(255) DEFAULT NULL,\n",
    "  `Actor2Type1Code` varchar(255) DEFAULT NULL,\n",
    "  `Actor2Type2Code` varchar(255) DEFAULT NULL,\n",
    "  `Actor2Type3Code` varchar(255) DEFAULT NULL,\n",
    "  `IsRootEvent` varchar(255) DEFAULT NULL,\n",
    "  `EventCode` varchar(255) DEFAULT NULL,\n",
    "  `EventBaseCode` varchar(255) DEFAULT NULL,\n",
    "  `EventRootCode` varchar(255) DEFAULT NULL,\n",
    "  `QuadClass` varchar(255) DEFAULT NULL,\n",
    "  `GoldsteinScale` varchar(255) DEFAULT NULL,\n",
    "  `NumMentions` varchar(255) DEFAULT NULL,\n",
    "  `NumSources` varchar(255) DEFAULT NULL,\n",
    "  `NumArticles` varchar(255) DEFAULT NULL,\n",
    "  `AvgTone` varchar(255) DEFAULT NULL,\n",
    "  `Actor1Geo_Type` varchar(255) DEFAULT NULL,\n",
    "  `Actor1Geo_FullName` varchar(255) DEFAULT NULL,\n",
    "  `Actor1Geo_CountryCode` varchar(255) DEFAULT NULL,\n",
    "  `Actor1Geo_ADM1Code` varchar(255) DEFAULT NULL,\n",
    "  `Actor1Geo_ADM2Code` varchar(255) DEFAULT NULL,\n",
    "  `Actor1Geo_Lat` varchar(255) DEFAULT NULL,\n",
    "  `Actor1Geo_Long` varchar(255) DEFAULT NULL,\n",
    "  `Actor1Geo_FeatureID` varchar(255) DEFAULT NULL,\n",
    "  `Actor2Geo_Type` varchar(255) DEFAULT NULL,\n",
    "  `Actor2Geo_FullName` varchar(255) DEFAULT NULL,\n",
    "  `Actor2Geo_CountryCode` varchar(255) DEFAULT NULL,\n",
    "  `Actor2Geo_ADM1Code` varchar(255) DEFAULT NULL,\n",
    "  `Actor2Geo_ADM2Code` varchar(255) DEFAULT NULL,\n",
    "  `Actor2Geo_Lat` varchar(255) DEFAULT NULL,\n",
    "  `Actor2Geo_Long` varchar(255) DEFAULT NULL,\n",
    "  `Actor2Geo_FeatureID` varchar(255) DEFAULT NULL,\n",
    "  `ActionGeo_Type` varchar(255) DEFAULT NULL,\n",
    "  `ActionGeo_FullName` varchar(255) DEFAULT NULL,\n",
    "  `ActionGeo_CountryCode` varchar(255) DEFAULT NULL,\n",
    "  `ActionGeo_ADM1Code` varchar(255) DEFAULT NULL,\n",
    "  `ActionGeo_ADM2Code` varchar(255) DEFAULT NULL,\n",
    "  `ActionGeo_Lat` varchar(255) DEFAULT NULL,\n",
    "  `ActionGeo_Long` varchar(255) DEFAULT NULL,\n",
    "  `ActionGeo_FeatureID` varchar(255) DEFAULT NULL,\n",
    "  `DATEADDED` varchar(255) DEFAULT NULL,\n",
    "  `SOURCEURL` varchar(255) DEFAULT NULL,\n",
    "  `MediaGeo` varchar(255) DEFAULT NULL,\n",
    "  `Title` text,\n",
    "  `Content` mediumtext\n",
    ") ENGINE=InnoDB DEFAULT CHARSET=utf8mb4 COLLATE=utf8mb4_bin;\n",
    "'''"
   ]
  },
  {
   "cell_type": "code",
   "execution_count": 12,
   "metadata": {
    "ExecuteTime": {
     "end_time": "2019-07-22T16:08:43.857005Z",
     "start_time": "2019-07-22T16:08:43.852222Z"
    }
   },
   "outputs": [],
   "source": [
    "create_sql = create_sql.replace('\\n','')"
   ]
  },
  {
   "cell_type": "code",
   "execution_count": 14,
   "metadata": {
    "ExecuteTime": {
     "end_time": "2019-07-22T16:08:59.552632Z",
     "start_time": "2019-07-22T16:08:59.259354Z"
    }
   },
   "outputs": [],
   "source": [
    "cursor.execute(create_sql)"
   ]
  },
  {
   "cell_type": "markdown",
   "metadata": {},
   "source": [
    "## 插入数据样例代码"
   ]
  },
  {
   "cell_type": "code",
   "execution_count": 15,
   "metadata": {
    "ExecuteTime": {
     "end_time": "2019-07-22T16:09:03.916576Z",
     "start_time": "2019-07-22T16:09:03.907096Z"
    }
   },
   "outputs": [],
   "source": [
    "cnx = mysql.connector.connect(user='news_user', password='ir@DUT#news',\n",
    "                              host='10.8.128.205',database='newsDB', port='23306')\n",
    "\n",
    "cursor = cnx.cursor()"
   ]
  },
  {
   "cell_type": "code",
   "execution_count": 16,
   "metadata": {
    "ExecuteTime": {
     "end_time": "2019-07-22T16:09:04.118763Z",
     "start_time": "2019-07-22T16:09:04.114965Z"
    }
   },
   "outputs": [],
   "source": [
    "head_sql = 'INSERT INTO `event` (`GLOBALEVENTID`, `SQLDATE`, `MonthYear`, `Year`, `FractionDate`, `Actor1Code`, `Actor1Name`, `Actor1CountryCode`, `Actor1KnownGroupCode`, `Actor1EthnicCode`, `Actor1Religion1Code`, `Actor1Religion2Code`, `Actor1Type1Code`, `Actor1Type2Code`, `Actor1Type3Code`, `Actor2Code`, `Actor2Name`, `Actor2CountryCode`, `Actor2KnownGroupCode`, `Actor2EthnicCode`, `Actor2Religion1Code`, `Actor2Religion2Code`, `Actor2Type1Code`, `Actor2Type2Code`, `Actor2Type3Code`, `IsRootEvent`, `EventCode`, `EventBaseCode`, `EventRootCode`, `QuadClass`, `GoldsteinScale`, `NumMentions`, `NumSources`, `NumArticles`, `AvgTone`, `Actor1Geo_Type`, `Actor1Geo_FullName`, `Actor1Geo_CountryCode`, `Actor1Geo_ADM1Code`, `Actor1Geo_ADM2Code`, `Actor1Geo_Lat`, `Actor1Geo_Long`, `Actor1Geo_FeatureID`, `Actor2Geo_Type`, `Actor2Geo_FullName`, `Actor2Geo_CountryCode`, `Actor2Geo_ADM1Code`, `Actor2Geo_ADM2Code`, `Actor2Geo_Lat`, `Actor2Geo_Long`, `Actor2Geo_FeatureID`, `ActionGeo_Type`, `ActionGeo_FullName`, `ActionGeo_CountryCode`, `ActionGeo_ADM1Code`, `ActionGeo_ADM2Code`, `ActionGeo_Lat`, `ActionGeo_Long`, `ActionGeo_FeatureID`, `DATEADDED`, `SOURCEURL`, `MediaGeo`, `Title`, `Content`) VALUES'"
   ]
  },
  {
   "cell_type": "code",
   "execution_count": 17,
   "metadata": {
    "ExecuteTime": {
     "end_time": "2019-07-22T16:09:04.342910Z",
     "start_time": "2019-07-22T16:09:04.338688Z"
    }
   },
   "outputs": [],
   "source": [
    "startpoint = 0"
   ]
  },
  {
   "cell_type": "markdown",
   "metadata": {},
   "source": [
    "# 目前失败 没法子入库"
   ]
  },
  {
   "cell_type": "code",
   "execution_count": 21,
   "metadata": {
    "ExecuteTime": {
     "end_time": "2019-07-22T16:09:19.702346Z",
     "start_time": "2019-07-22T16:09:16.515601Z"
    },
    "scrolled": true
   },
   "outputs": [
    {
     "name": "stdout",
     "output_type": "stream",
     "text": [
      "[Tue Jul 23 00:09:16 2019] Num:0\n",
      "[Tue Jul 23 00:09:19 2019] Num:1000\n"
     ]
    },
    {
     "ename": "DatabaseError",
     "evalue": "1366 (HY000): Incorrect string value: '\\xF0\\x9F\\x87\\xB1\\xF0\\x9F...' for column 'Content' at row 1",
     "output_type": "error",
     "traceback": [
      "\u001b[0;31m---------------------------------------------------------------------------\u001b[0m",
      "\u001b[0;31mDatabaseError\u001b[0m                             Traceback (most recent call last)",
      "\u001b[0;32m<ipython-input-21-251bcb7b88af>\u001b[0m in \u001b[0;36m<module>\u001b[0;34m\u001b[0m\n\u001b[1;32m      9\u001b[0m     \u001b[0msql_str\u001b[0m \u001b[0;34m=\u001b[0m \u001b[0mhead_sql\u001b[0m\u001b[0;34m+\u001b[0m\u001b[0mtail_sql\u001b[0m\u001b[0;34m\u001b[0m\u001b[0;34m\u001b[0m\u001b[0m\n\u001b[1;32m     10\u001b[0m     \u001b[0msql_str\u001b[0m \u001b[0;34m=\u001b[0m \u001b[0msql_str\u001b[0m\u001b[0;34m.\u001b[0m\u001b[0mreplace\u001b[0m\u001b[0;34m(\u001b[0m\u001b[0;34m'\\\\'\u001b[0m\u001b[0;34m,\u001b[0m\u001b[0;34m''\u001b[0m\u001b[0;34m)\u001b[0m\u001b[0;34m\u001b[0m\u001b[0;34m\u001b[0m\u001b[0m\n\u001b[0;32m---> 11\u001b[0;31m     \u001b[0mcursor\u001b[0m\u001b[0;34m.\u001b[0m\u001b[0mexecute\u001b[0m\u001b[0;34m(\u001b[0m\u001b[0msql_str\u001b[0m\u001b[0;34m)\u001b[0m\u001b[0;34m\u001b[0m\u001b[0;34m\u001b[0m\u001b[0m\n\u001b[0m\u001b[1;32m     12\u001b[0m \u001b[0;34m\u001b[0m\u001b[0m\n\u001b[1;32m     13\u001b[0m \u001b[0mcnx\u001b[0m\u001b[0;34m.\u001b[0m\u001b[0mcommit\u001b[0m\u001b[0;34m(\u001b[0m\u001b[0;34m)\u001b[0m\u001b[0;34m\u001b[0m\u001b[0;34m\u001b[0m\u001b[0m\n",
      "\u001b[0;32m~/env/anaconda3/lib/python3.6/site-packages/mysql/connector/cursor.py\u001b[0m in \u001b[0;36mexecute\u001b[0;34m(self, operation, params, multi)\u001b[0m\n\u001b[1;32m    549\u001b[0m         \u001b[0;32melse\u001b[0m\u001b[0;34m:\u001b[0m\u001b[0;34m\u001b[0m\u001b[0;34m\u001b[0m\u001b[0m\n\u001b[1;32m    550\u001b[0m             \u001b[0;32mtry\u001b[0m\u001b[0;34m:\u001b[0m\u001b[0;34m\u001b[0m\u001b[0;34m\u001b[0m\u001b[0m\n\u001b[0;32m--> 551\u001b[0;31m                 \u001b[0mself\u001b[0m\u001b[0;34m.\u001b[0m\u001b[0m_handle_result\u001b[0m\u001b[0;34m(\u001b[0m\u001b[0mself\u001b[0m\u001b[0;34m.\u001b[0m\u001b[0m_connection\u001b[0m\u001b[0;34m.\u001b[0m\u001b[0mcmd_query\u001b[0m\u001b[0;34m(\u001b[0m\u001b[0mstmt\u001b[0m\u001b[0;34m)\u001b[0m\u001b[0;34m)\u001b[0m\u001b[0;34m\u001b[0m\u001b[0;34m\u001b[0m\u001b[0m\n\u001b[0m\u001b[1;32m    552\u001b[0m             \u001b[0;32mexcept\u001b[0m \u001b[0merrors\u001b[0m\u001b[0;34m.\u001b[0m\u001b[0mInterfaceError\u001b[0m\u001b[0;34m:\u001b[0m\u001b[0;34m\u001b[0m\u001b[0;34m\u001b[0m\u001b[0m\n\u001b[1;32m    553\u001b[0m                 \u001b[0;32mif\u001b[0m \u001b[0mself\u001b[0m\u001b[0;34m.\u001b[0m\u001b[0m_connection\u001b[0m\u001b[0;34m.\u001b[0m\u001b[0m_have_next_result\u001b[0m\u001b[0;34m:\u001b[0m  \u001b[0;31m# pylint: disable=W0212\u001b[0m\u001b[0;34m\u001b[0m\u001b[0;34m\u001b[0m\u001b[0m\n",
      "\u001b[0;32m~/env/anaconda3/lib/python3.6/site-packages/mysql/connector/connection.py\u001b[0m in \u001b[0;36mcmd_query\u001b[0;34m(self, query, raw, buffered, raw_as_string)\u001b[0m\n\u001b[1;32m    488\u001b[0m         \u001b[0;32mif\u001b[0m \u001b[0;32mnot\u001b[0m \u001b[0misinstance\u001b[0m\u001b[0;34m(\u001b[0m\u001b[0mquery\u001b[0m\u001b[0;34m,\u001b[0m \u001b[0mbytes\u001b[0m\u001b[0;34m)\u001b[0m\u001b[0;34m:\u001b[0m\u001b[0;34m\u001b[0m\u001b[0;34m\u001b[0m\u001b[0m\n\u001b[1;32m    489\u001b[0m             \u001b[0mquery\u001b[0m \u001b[0;34m=\u001b[0m \u001b[0mquery\u001b[0m\u001b[0;34m.\u001b[0m\u001b[0mencode\u001b[0m\u001b[0;34m(\u001b[0m\u001b[0;34m'utf-8'\u001b[0m\u001b[0;34m)\u001b[0m\u001b[0;34m\u001b[0m\u001b[0;34m\u001b[0m\u001b[0m\n\u001b[0;32m--> 490\u001b[0;31m         \u001b[0mresult\u001b[0m \u001b[0;34m=\u001b[0m \u001b[0mself\u001b[0m\u001b[0;34m.\u001b[0m\u001b[0m_handle_result\u001b[0m\u001b[0;34m(\u001b[0m\u001b[0mself\u001b[0m\u001b[0;34m.\u001b[0m\u001b[0m_send_cmd\u001b[0m\u001b[0;34m(\u001b[0m\u001b[0mServerCmd\u001b[0m\u001b[0;34m.\u001b[0m\u001b[0mQUERY\u001b[0m\u001b[0;34m,\u001b[0m \u001b[0mquery\u001b[0m\u001b[0;34m)\u001b[0m\u001b[0;34m)\u001b[0m\u001b[0;34m\u001b[0m\u001b[0;34m\u001b[0m\u001b[0m\n\u001b[0m\u001b[1;32m    491\u001b[0m \u001b[0;34m\u001b[0m\u001b[0m\n\u001b[1;32m    492\u001b[0m         \u001b[0;32mif\u001b[0m \u001b[0mself\u001b[0m\u001b[0;34m.\u001b[0m\u001b[0m_have_next_result\u001b[0m\u001b[0;34m:\u001b[0m\u001b[0;34m\u001b[0m\u001b[0;34m\u001b[0m\u001b[0m\n",
      "\u001b[0;32m~/env/anaconda3/lib/python3.6/site-packages/mysql/connector/connection.py\u001b[0m in \u001b[0;36m_handle_result\u001b[0;34m(self, packet)\u001b[0m\n\u001b[1;32m    393\u001b[0m             \u001b[0;32mreturn\u001b[0m \u001b[0mself\u001b[0m\u001b[0;34m.\u001b[0m\u001b[0m_handle_eof\u001b[0m\u001b[0;34m(\u001b[0m\u001b[0mpacket\u001b[0m\u001b[0;34m)\u001b[0m\u001b[0;34m\u001b[0m\u001b[0;34m\u001b[0m\u001b[0m\n\u001b[1;32m    394\u001b[0m         \u001b[0;32melif\u001b[0m \u001b[0mpacket\u001b[0m\u001b[0;34m[\u001b[0m\u001b[0;36m4\u001b[0m\u001b[0;34m]\u001b[0m \u001b[0;34m==\u001b[0m \u001b[0;36m255\u001b[0m\u001b[0;34m:\u001b[0m\u001b[0;34m\u001b[0m\u001b[0;34m\u001b[0m\u001b[0m\n\u001b[0;32m--> 395\u001b[0;31m             \u001b[0;32mraise\u001b[0m \u001b[0merrors\u001b[0m\u001b[0;34m.\u001b[0m\u001b[0mget_exception\u001b[0m\u001b[0;34m(\u001b[0m\u001b[0mpacket\u001b[0m\u001b[0;34m)\u001b[0m\u001b[0;34m\u001b[0m\u001b[0;34m\u001b[0m\u001b[0m\n\u001b[0m\u001b[1;32m    396\u001b[0m \u001b[0;34m\u001b[0m\u001b[0m\n\u001b[1;32m    397\u001b[0m         \u001b[0;31m# We have a text result set\u001b[0m\u001b[0;34m\u001b[0m\u001b[0;34m\u001b[0m\u001b[0;34m\u001b[0m\u001b[0m\n",
      "\u001b[0;31mDatabaseError\u001b[0m: 1366 (HY000): Incorrect string value: '\\xF0\\x9F\\x87\\xB1\\xF0\\x9F...' for column 'Content' at row 1"
     ]
    }
   ],
   "source": [
    "for num,i in enumerate(news_df.itertuples()):\n",
    "    if num < startpoint:\n",
    "        continue\n",
    "    if num%1000==0:\n",
    "        print('[{0}] Num:{1}'.format(time.ctime(),num))\n",
    "    sql_data = [str(p).replace('\\'','') for p in i[1:]]\n",
    "    val_str = [\"'{0}'\".format(p) for p in sql_data]\n",
    "    tail_sql = '({0})'.format(','.join(val_str))\n",
    "    sql_str = head_sql+tail_sql\n",
    "    sql_str = sql_str.replace('\\\\','')\n",
    "    cursor.execute(sql_str)\n",
    "\n",
    "cnx.commit()\n",
    "\n",
    "cnx.close()"
   ]
  },
  {
   "cell_type": "code",
   "execution_count": 17,
   "metadata": {
    "ExecuteTime": {
     "end_time": "2019-07-22T15:47:35.081727Z",
     "start_time": "2019-07-22T15:47:35.074807Z"
    }
   },
   "outputs": [
    {
     "data": {
      "text/plain": [
       "1212"
      ]
     },
     "execution_count": 17,
     "metadata": {},
     "output_type": "execute_result"
    }
   ],
   "source": [
    "num"
   ]
  },
  {
   "cell_type": "code",
   "execution_count": 23,
   "metadata": {},
   "outputs": [],
   "source": [
    "cnx.close()"
   ]
  },
  {
   "cell_type": "code",
   "execution_count": 17,
   "metadata": {
    "collapsed": true
   },
   "outputs": [],
   "source": [
    "cursor.execute(detail_sql_create_str)"
   ]
  },
  {
   "cell_type": "code",
   "execution_count": 18,
   "metadata": {
    "collapsed": true
   },
   "outputs": [],
   "source": [
    "cnx.close()"
   ]
  },
  {
   "cell_type": "code",
   "execution_count": null,
   "metadata": {
    "collapsed": true
   },
   "outputs": [],
   "source": []
  }
 ],
 "metadata": {
  "kernelspec": {
   "display_name": "Python 3",
   "language": "python",
   "name": "python3"
  },
  "language_info": {
   "codemirror_mode": {
    "name": "ipython",
    "version": 3
   },
   "file_extension": ".py",
   "mimetype": "text/x-python",
   "name": "python",
   "nbconvert_exporter": "python",
   "pygments_lexer": "ipython3",
   "version": "3.6.8"
  }
 },
 "nbformat": 4,
 "nbformat_minor": 2
}
