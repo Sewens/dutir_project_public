{
 "cells": [
  {
   "cell_type": "code",
   "execution_count": 1,
   "metadata": {
    "ExecuteTime": {
     "end_time": "2019-07-19T09:36:41.034051Z",
     "start_time": "2019-07-19T09:36:40.506275Z"
    }
   },
   "outputs": [],
   "source": [
    "import time\n",
    "import random\n",
    "import os\n",
    "import re\n",
    "import pandas as pd\n",
    "import numpy as np\n",
    "from datetime import datetime\n",
    "from elasticsearch import Elasticsearch \n",
    "\n",
    "import mysql.connector"
   ]
  },
  {
   "cell_type": "code",
   "execution_count": 2,
   "metadata": {
    "ExecuteTime": {
     "end_time": "2019-07-19T09:36:41.041492Z",
     "start_time": "2019-07-19T09:36:41.037149Z"
    }
   },
   "outputs": [],
   "source": [
    "from elasticsearch.helpers import bulk"
   ]
  },
  {
   "cell_type": "markdown",
   "metadata": {},
   "source": [
    "# 日期处理"
   ]
  },
  {
   "cell_type": "code",
   "execution_count": 3,
   "metadata": {
    "ExecuteTime": {
     "end_time": "2019-07-19T09:36:41.759212Z",
     "start_time": "2019-07-19T09:36:41.752219Z"
    }
   },
   "outputs": [],
   "source": [
    "def date_convert(dot_date_str):\n",
    "    '''xxxx.xx.xx --> xxxx-xx-xx\n",
    "    then pack into json for es\n",
    "    '''\n",
    "    y,m,d = dot_date_str.split('.')\n",
    "    new_date = '{year}-{month}-{date}'.format(year=y,month=m,date=d)\n",
    "    return new_date\n",
    "#     return {new_date:{'type':'date','formate':'yyyy-mm-dd'}}"
   ]
  },
  {
   "cell_type": "code",
   "execution_count": 4,
   "metadata": {
    "ExecuteTime": {
     "end_time": "2019-07-19T09:36:41.925018Z",
     "start_time": "2019-07-19T09:36:41.919757Z"
    }
   },
   "outputs": [],
   "source": [
    "def date_autofill(dot_date_str):\n",
    "    '''xxxx --> xxxx-01-01\n",
    "    then pack into json for es\n",
    "    '''\n",
    "    new_date = '{year}-{month}-{date}'.format(year=dot_date_str,month='01',date='01')\n",
    "    return new_date"
   ]
  },
  {
   "cell_type": "markdown",
   "metadata": {},
   "source": [
    "# 读取库中paper数据"
   ]
  },
  {
   "cell_type": "code",
   "execution_count": 5,
   "metadata": {
    "ExecuteTime": {
     "end_time": "2019-07-19T09:36:44.314437Z",
     "start_time": "2019-07-19T09:36:44.303846Z"
    }
   },
   "outputs": [],
   "source": [
    "cnx = mysql.connector.connect(user='root', password='ir@DUT#2018',\n",
    "                              host='10.8.128.205',port='23306')\n",
    "\n",
    "cursor = cnx.cursor()"
   ]
  },
  {
   "cell_type": "markdown",
   "metadata": {},
   "source": [
    "# 获取weibo表头"
   ]
  },
  {
   "cell_type": "code",
   "execution_count": 10,
   "metadata": {
    "ExecuteTime": {
     "end_time": "2019-07-19T03:33:46.066461Z",
     "start_time": "2019-07-19T03:33:46.058903Z"
    }
   },
   "outputs": [],
   "source": [
    "cursor.execute(\"select * from information_schema.columns where table_name='weibo_table'\")"
   ]
  },
  {
   "cell_type": "code",
   "execution_count": 11,
   "metadata": {
    "ExecuteTime": {
     "end_time": "2019-07-19T03:33:47.345282Z",
     "start_time": "2019-07-19T03:33:47.338238Z"
    }
   },
   "outputs": [],
   "source": [
    "sql_table_columns = cursor.fetchall()"
   ]
  },
  {
   "cell_type": "code",
   "execution_count": 12,
   "metadata": {
    "ExecuteTime": {
     "end_time": "2019-07-19T03:33:48.767173Z",
     "start_time": "2019-07-19T03:33:48.762153Z"
    }
   },
   "outputs": [],
   "source": [
    "sql_table_columns_name = [i[3] for i in sql_table_columns]"
   ]
  },
  {
   "cell_type": "markdown",
   "metadata": {},
   "source": [
    "# 获取weibo表总容量"
   ]
  },
  {
   "cell_type": "code",
   "execution_count": 27,
   "metadata": {
    "ExecuteTime": {
     "end_time": "2019-07-19T03:38:22.467965Z",
     "start_time": "2019-07-19T03:38:22.460966Z"
    }
   },
   "outputs": [],
   "source": [
    "cursor.execute(\"select table_rows from information_schema.tables where table_name='weibo_table'\")"
   ]
  },
  {
   "cell_type": "code",
   "execution_count": 28,
   "metadata": {
    "ExecuteTime": {
     "end_time": "2019-07-19T03:38:22.744886Z",
     "start_time": "2019-07-19T03:38:22.740214Z"
    },
    "scrolled": true
   },
   "outputs": [],
   "source": [
    "sql_table_rows = cursor.fetchall()"
   ]
  },
  {
   "cell_type": "code",
   "execution_count": 29,
   "metadata": {
    "ExecuteTime": {
     "end_time": "2019-07-19T03:38:22.969262Z",
     "start_time": "2019-07-19T03:38:22.964903Z"
    }
   },
   "outputs": [],
   "source": [
    "sql_table_rows = sql_table_rows[0][0]"
   ]
  },
  {
   "cell_type": "code",
   "execution_count": 48,
   "metadata": {
    "ExecuteTime": {
     "end_time": "2019-07-19T03:41:04.254317Z",
     "start_time": "2019-07-19T03:41:04.247857Z"
    }
   },
   "outputs": [],
   "source": [
    "def data_to_json(data_atom,head_columns):\n",
    "    data = data_atom\n",
    "    data_dict = {k:data[num] for num,k in enumerate(head_columns)}\n",
    "    return data_dict"
   ]
  },
  {
   "cell_type": "markdown",
   "metadata": {},
   "source": [
    "# 构建索引"
   ]
  },
  {
   "cell_type": "code",
   "execution_count": 38,
   "metadata": {
    "ExecuteTime": {
     "end_time": "2019-07-19T03:39:53.036361Z",
     "start_time": "2019-07-19T03:39:53.030431Z"
    }
   },
   "outputs": [],
   "source": [
    "es = Elasticsearch(hosts='10.8.128.205',port=49200,timeout=30, max_retries=10, retry_on_timeout=True)"
   ]
  },
  {
   "cell_type": "markdown",
   "metadata": {},
   "source": [
    "# 每次查询limit数目的数值 同时批量插入paper"
   ]
  },
  {
   "cell_type": "code",
   "execution_count": 39,
   "metadata": {
    "ExecuteTime": {
     "end_time": "2019-07-19T03:39:54.114030Z",
     "start_time": "2019-07-19T03:39:54.109742Z"
    },
    "scrolled": true
   },
   "outputs": [],
   "source": [
    "# es.indices.delete(index='weibo-tweet-index')"
   ]
  },
  {
   "cell_type": "code",
   "execution_count": 40,
   "metadata": {
    "ExecuteTime": {
     "end_time": "2019-07-19T03:39:55.017223Z",
     "start_time": "2019-07-19T03:39:55.012908Z"
    }
   },
   "outputs": [],
   "source": [
    "index_name = 'weibo-tweet-index'"
   ]
  },
  {
   "cell_type": "code",
   "execution_count": 53,
   "metadata": {
    "ExecuteTime": {
     "end_time": "2019-07-19T03:41:25.815826Z",
     "start_time": "2019-07-19T03:41:22.519166Z"
    },
    "scrolled": true
   },
   "outputs": [
    {
     "data": {
      "text/plain": [
       "(3767, [])"
      ]
     },
     "execution_count": 53,
     "metadata": {},
     "output_type": "execute_result"
    }
   ],
   "source": [
    "limit = 5000\n",
    "offset = 0\n",
    "for epoch in range(int(sql_table_rows/limit)):\n",
    "    print('[{0}] Epoch:{1}'.format(time.ctime(),epoch))\n",
    "    base_fetch_sql = 'select * from {dbName}.{tableName} limit {limitVolume} offset {offsetVolume}'\n",
    "    base_fetch_sql = base_fetch_sql.format(dbName='weiboDB',tableName='weibo_table',limitVolume=limit,offsetVolume=offset)\n",
    "    cursor.execute(base_fetch_sql)\n",
    "    sql_data = cursor.fetchall()\n",
    "    sql_dict = [data_to_json(i,sql_table_columns_name) for i in sql_data]\n",
    "    bulk(es,sql_dict,index=index_name,raise_on_error=True)\n",
    "    offset += limit - 1\n",
    "# 最后一桶\n",
    "base_fetch_sql = 'select * from {dbName}.{tableName} limit {limitVolume} offset {offsetVolume}'\n",
    "base_fetch_sql = base_fetch_sql.format(dbName='weiboDB',tableName='weibo_table',limitVolume=limit,offsetVolume=offset)\n",
    "cursor.execute(base_fetch_sql)\n",
    "sql_data = cursor.fetchall()\n",
    "sql_dict = [data_to_json(i,sql_table_columns_name) for i in sql_data]\n",
    "bulk(es,sql_dict,index=index_name,raise_on_error=True)"
   ]
  },
  {
   "cell_type": "code",
   "execution_count": 54,
   "metadata": {
    "ExecuteTime": {
     "end_time": "2019-07-19T03:41:29.118772Z",
     "start_time": "2019-07-19T03:41:29.111662Z"
    }
   },
   "outputs": [
    {
     "data": {
      "text/plain": [
       "True"
      ]
     },
     "execution_count": 54,
     "metadata": {},
     "output_type": "execute_result"
    }
   ],
   "source": [
    "cursor.close()"
   ]
  },
  {
   "cell_type": "markdown",
   "metadata": {},
   "source": [
    "# 读取库中comment数据"
   ]
  },
  {
   "cell_type": "code",
   "execution_count": 6,
   "metadata": {
    "ExecuteTime": {
     "end_time": "2019-07-19T09:36:48.089828Z",
     "start_time": "2019-07-19T09:36:48.080182Z"
    }
   },
   "outputs": [],
   "source": [
    "cnx = mysql.connector.connect(user='root', password='ir@DUT#2018',\n",
    "                              host='10.8.128.205',port='23306')\n",
    "\n",
    "cursor = cnx.cursor()"
   ]
  },
  {
   "cell_type": "markdown",
   "metadata": {},
   "source": [
    "# 获取paper表头"
   ]
  },
  {
   "cell_type": "code",
   "execution_count": 7,
   "metadata": {
    "ExecuteTime": {
     "end_time": "2019-07-19T09:36:48.497568Z",
     "start_time": "2019-07-19T09:36:48.490785Z"
    }
   },
   "outputs": [],
   "source": [
    "cursor.execute(\"select * from information_schema.columns where table_name='comment_table'\")"
   ]
  },
  {
   "cell_type": "code",
   "execution_count": 8,
   "metadata": {
    "ExecuteTime": {
     "end_time": "2019-07-19T09:36:48.709014Z",
     "start_time": "2019-07-19T09:36:48.703679Z"
    }
   },
   "outputs": [],
   "source": [
    "sql_table_columns = cursor.fetchall()"
   ]
  },
  {
   "cell_type": "code",
   "execution_count": 9,
   "metadata": {
    "ExecuteTime": {
     "end_time": "2019-07-19T09:36:49.038527Z",
     "start_time": "2019-07-19T09:36:49.033570Z"
    }
   },
   "outputs": [],
   "source": [
    "sql_table_columns_name = [i[3] for i in sql_table_columns]"
   ]
  },
  {
   "cell_type": "code",
   "execution_count": 10,
   "metadata": {
    "ExecuteTime": {
     "end_time": "2019-07-19T09:36:49.234662Z",
     "start_time": "2019-07-19T09:36:49.216907Z"
    },
    "scrolled": true
   },
   "outputs": [
    {
     "data": {
      "text/plain": [
       "['C_ID',\n",
       " 'C_comment_id',\n",
       " 'C_comment_user_id',\n",
       " 'C_comment_user_nick_name',\n",
       " 'C_content',\n",
       " 'C_weibo_url',\n",
       " 'C_like_num',\n",
       " 'C_created_at',\n",
       " 'C_crawl_time']"
      ]
     },
     "execution_count": 10,
     "metadata": {},
     "output_type": "execute_result"
    }
   ],
   "source": [
    "sql_table_columns_name"
   ]
  },
  {
   "cell_type": "markdown",
   "metadata": {},
   "source": [
    "# 获取comment表总容量"
   ]
  },
  {
   "cell_type": "code",
   "execution_count": 11,
   "metadata": {
    "ExecuteTime": {
     "end_time": "2019-07-19T09:38:11.030246Z",
     "start_time": "2019-07-19T09:38:11.024479Z"
    }
   },
   "outputs": [],
   "source": [
    "cursor.execute(\"select table_rows from information_schema.tables where table_name='comment_table'\")"
   ]
  },
  {
   "cell_type": "code",
   "execution_count": 12,
   "metadata": {
    "ExecuteTime": {
     "end_time": "2019-07-19T09:38:11.517887Z",
     "start_time": "2019-07-19T09:38:11.513276Z"
    },
    "scrolled": true
   },
   "outputs": [],
   "source": [
    "sql_table_rows = cursor.fetchall()"
   ]
  },
  {
   "cell_type": "code",
   "execution_count": 13,
   "metadata": {
    "ExecuteTime": {
     "end_time": "2019-07-19T09:38:11.702036Z",
     "start_time": "2019-07-19T09:38:11.697655Z"
    }
   },
   "outputs": [],
   "source": [
    "sql_table_rows = sql_table_rows[0][0]"
   ]
  },
  {
   "cell_type": "markdown",
   "metadata": {},
   "source": [
    "# 每次查询limit数目的数值 同时批量插入author"
   ]
  },
  {
   "cell_type": "code",
   "execution_count": 63,
   "metadata": {
    "ExecuteTime": {
     "end_time": "2019-07-19T03:42:35.080481Z",
     "start_time": "2019-07-19T03:42:34.848485Z"
    }
   },
   "outputs": [
    {
     "data": {
      "text/plain": [
       "{'acknowledged': True}"
      ]
     },
     "execution_count": 63,
     "metadata": {},
     "output_type": "execute_result"
    }
   ],
   "source": [
    "es.indices.delete(index='weibo-comment-index')"
   ]
  },
  {
   "cell_type": "code",
   "execution_count": 64,
   "metadata": {
    "ExecuteTime": {
     "end_time": "2019-07-19T03:42:38.105827Z",
     "start_time": "2019-07-19T03:42:38.099468Z"
    }
   },
   "outputs": [],
   "source": [
    "es = Elasticsearch(hosts='10.8.128.205',port=49200,timeout=30, max_retries=10, retry_on_timeout=True)"
   ]
  },
  {
   "cell_type": "code",
   "execution_count": 65,
   "metadata": {
    "ExecuteTime": {
     "end_time": "2019-07-19T03:43:25.389734Z",
     "start_time": "2019-07-19T03:43:25.384984Z"
    }
   },
   "outputs": [],
   "source": [
    "index_name = 'weibo-comment-index'"
   ]
  },
  {
   "cell_type": "code",
   "execution_count": 66,
   "metadata": {
    "ExecuteTime": {
     "end_time": "2019-07-19T03:44:28.891247Z",
     "start_time": "2019-07-19T03:43:30.785010Z"
    },
    "scrolled": true
   },
   "outputs": [
    {
     "name": "stdout",
     "output_type": "stream",
     "text": [
      "[Fri Jul 19 11:43:30 2019] Epoch:0\n",
      "[Fri Jul 19 11:43:35 2019] Epoch:1\n",
      "[Fri Jul 19 11:43:39 2019] Epoch:2\n",
      "[Fri Jul 19 11:43:43 2019] Epoch:3\n",
      "[Fri Jul 19 11:43:48 2019] Epoch:4\n",
      "[Fri Jul 19 11:43:52 2019] Epoch:5\n",
      "[Fri Jul 19 11:43:57 2019] Epoch:6\n",
      "[Fri Jul 19 11:44:01 2019] Epoch:7\n",
      "[Fri Jul 19 11:44:05 2019] Epoch:8\n",
      "[Fri Jul 19 11:44:10 2019] Epoch:9\n",
      "[Fri Jul 19 11:44:14 2019] Epoch:10\n",
      "[Fri Jul 19 11:44:19 2019] Epoch:11\n"
     ]
    },
    {
     "data": {
      "text/plain": [
       "(10000, [])"
      ]
     },
     "execution_count": 66,
     "metadata": {},
     "output_type": "execute_result"
    }
   ],
   "source": [
    "limit = 10000\n",
    "offset = 0\n",
    "for epoch in range(int(sql_table_rows/limit)):\n",
    "    print('[{0}] Epoch:{1}'.format(time.ctime(),epoch))\n",
    "    base_fetch_sql = 'select * from {dbName}.{tableName} limit {limitVolume} offset {offsetVolume}'\n",
    "    base_fetch_sql = base_fetch_sql.format(dbName='weiboDB',tableName='comment_table',limitVolume=limit,offsetVolume=offset)\n",
    "    cursor.execute(base_fetch_sql)\n",
    "    sql_data = cursor.fetchall()\n",
    "    sql_dict = [data_to_json(i,sql_table_columns_name) for i in sql_data]\n",
    "    bulk(es,sql_dict,index=index_name,raise_on_error=True)\n",
    "    offset += limit - 1\n",
    "# 最后一桶\n",
    "base_fetch_sql = 'select * from {dbName}.{tableName} limit {limitVolume} offset {offsetVolume}'\n",
    "base_fetch_sql = base_fetch_sql.format(dbName='weiboDB',tableName='comment_table',limitVolume=limit,offsetVolume=offset)\n",
    "cursor.execute(base_fetch_sql)\n",
    "sql_data = cursor.fetchall()\n",
    "sql_dict = [data_to_json(i,sql_table_columns_name) for i in sql_data]\n",
    "bulk(es,sql_dict,index=index_name,raise_on_error=True)"
   ]
  },
  {
   "cell_type": "code",
   "execution_count": null,
   "metadata": {},
   "outputs": [],
   "source": []
  },
  {
   "cell_type": "markdown",
   "metadata": {},
   "source": [
    "# 设置ES状态为可写（触发硬盘存储超限后集群会自动配置所有索引为只读）"
   ]
  },
  {
   "cell_type": "code",
   "execution_count": 42,
   "metadata": {
    "ExecuteTime": {
     "end_time": "2019-07-16T15:59:20.352083Z",
     "start_time": "2019-07-16T15:59:20.165817Z"
    }
   },
   "outputs": [],
   "source": [
    "import json\n",
    "\n",
    "import requests\n",
    "\n",
    "headers = {\n",
    "    'Accept': 'application/json, text/javascript, */*; q=0.01',\n",
    "    'Content-Type': 'application/json',\n",
    "    'Origin': 'chrome-extension://ffmkiejjmecolpfloofpjologoblkegm',\n",
    "    'User-Agent': 'Mozilla/5.0 (Windows NT 10.0; Win64; x64) AppleWebKit/537.36 (KHTML, like Gecko) Chrome/75.0.3770.100 Safari/537.36'\n",
    "}\n",
    "\n",
    "unlock_dict = {\n",
    "\"index.blocks.read_only_allow_delete\": \"false\"\n",
    "}\n",
    "\n",
    "ppp = requests.put('http://10.8.128.205:49200/paper-year-index/_settings',data=json.dumps(unlock_dict),headers=headers)"
   ]
  },
  {
   "cell_type": "markdown",
   "metadata": {},
   "source": [
    "# 论文检索对象"
   ]
  },
  {
   "cell_type": "code",
   "execution_count": null,
   "metadata": {},
   "outputs": [],
   "source": []
  }
 ],
 "metadata": {
  "kernelspec": {
   "display_name": "Python 3",
   "language": "python",
   "name": "python3"
  },
  "language_info": {
   "codemirror_mode": {
    "name": "ipython",
    "version": 3
   },
   "file_extension": ".py",
   "mimetype": "text/x-python",
   "name": "python",
   "nbconvert_exporter": "python",
   "pygments_lexer": "ipython3",
   "version": "3.6.8"
  }
 },
 "nbformat": 4,
 "nbformat_minor": 2
}
