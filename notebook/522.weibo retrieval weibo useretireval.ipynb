{
 "cells": [
  {
   "cell_type": "markdown",
   "metadata": {},
   "source": [
    "# 将检索模块和文本聚类模块进行封装"
   ]
  },
  {
   "cell_type": "code",
   "execution_count": 1,
   "metadata": {
    "ExecuteTime": {
     "end_time": "2019-07-24T06:08:17.464902Z",
     "start_time": "2019-07-24T06:08:16.917852Z"
    }
   },
   "outputs": [],
   "source": [
    "import time\n",
    "import random\n",
    "import os\n",
    "import re\n",
    "import pandas as pd\n",
    "import numpy as np\n",
    "from datetime import datetime\n",
    "from elasticsearch import Elasticsearch"
   ]
  },
  {
   "cell_type": "code",
   "execution_count": 2,
   "metadata": {
    "ExecuteTime": {
     "end_time": "2019-07-24T06:08:17.492724Z",
     "start_time": "2019-07-24T06:08:17.470174Z"
    }
   },
   "outputs": [],
   "source": [
    "import mysql.connector"
   ]
  },
  {
   "cell_type": "markdown",
   "metadata": {},
   "source": [
    "# ES检索模块重构为一个对象"
   ]
  },
  {
   "cell_type": "code",
   "execution_count": 3,
   "metadata": {
    "ExecuteTime": {
     "end_time": "2019-07-24T06:08:18.359007Z",
     "start_time": "2019-07-24T06:08:18.335308Z"
    }
   },
   "outputs": [],
   "source": [
    "class esWeiboUserRetrieval():\n",
    "    '''\n",
    "    根据论文检索需求进行功能的微调\n",
    "    '''\n",
    "    _instance = None\n",
    "    _first_init = True\n",
    "    def __new__(cls, *args, **kw):\n",
    "        if not cls._instance:\n",
    "            cls._instance = super(esWeiboUserRetrieval, cls).__new__(cls)  \n",
    "        return cls._instance\n",
    "    \n",
    "    def __init__(self, host, port):\n",
    "        '''\n",
    "        使用ES进行论文检索 指定host、port以及专利index之后进行检索\n",
    "        '''\n",
    "        super(esWeiboUserRetrieval, self).__init__()\n",
    "        self.es = Elasticsearch(hosts=host, port=port, timeout=30, max_retries=10, retry_on_timeout=True)\n",
    "        self.indexName = 'weibo-user-index'\n",
    "\n",
    "    def do_search(self, U_nick_name, volume):\n",
    "        '''\n",
    "        do_search方法执行具体检索过程\n",
    "        wordQuery 本应为查询对应微博时所用的检索词 此处暂时不用 目前暂时只检索微博评论数据后续再修改对象为\n",
    "        \n",
    "        volume为每次检索返回的数目\n",
    "        '''\n",
    "        queryBody = {\n",
    "          \"query\": {\n",
    "            \"bool\": {\n",
    "              \"must\": [\n",
    "                {\n",
    "                  \"query_string\": {\n",
    "                    \"default_field\": \"U_nick_name\",\n",
    "                    \"query\": U_nick_name\n",
    "                  }\n",
    "                }\n",
    "              ],\n",
    "              \"must_not\": [],\n",
    "              \"should\": []\n",
    "            }\n",
    "          },\n",
    "          \"from\": 0,\n",
    "          \"size\": volume,\n",
    "          \"sort\": [],\n",
    "          \"aggs\": {}\n",
    "        }\n",
    "        result = self.es.search(index=self.indexName, body=queryBody)\n",
    "        return result\n",
    "\n",
    "    def format_search(self, result):\n",
    "        '''\n",
    "        format_search方法对检索结果进行格式化 构建符合要求的字段进行返回\n",
    "        输入result为检索结果 提取其中的检索结果进行后处理\n",
    "        使用ES检索后得到的结果中result['hits']['hits']为数组格式数据\n",
    "        其中每一个元素为一个dict 对应部分字段\n",
    "        '''\n",
    "        docs = result['hits']['hits']\n",
    "        docs = [i['_source'] for i in docs]\n",
    "        targetKeyList = 'U_ID,U_user_id,U_name,U_nick_name,U_location,U_sex,\\\n",
    "        U_sexual_orientation,U_Emotional_status,U_Birthday,U_constellation,U_crawl_time,\\\n",
    "        U_Blood,U_own_bolg_address_name,U_brief_introduction,U_Registration_time,U_QQ,U_email,U_MSN,\\\n",
    "        U_Work,U_educational,U_fans_Number,U_blog_Number,\\\n",
    "        U_credit,U_Head_Photo,U_senti,U_big5,U_big5_comment,U_concerns_Number,U_tag'\n",
    "        targetKeyList = [i.strip() for i in targetKeyList.split(',')]\n",
    "        dict_filter_by_keys = lambda d: {k: d[k] for k in targetKeyList}\n",
    "        dict_filter_id = lambda d: {k if not k == '_id' else 'id': d[k] for k in d}\n",
    "        docs = list(dict_filter_by_keys(doc) for doc in docs)\n",
    "        return docs\n",
    "    def Retrieval(self, U_nick_name, volume):\n",
    "        result = self.do_search(U_nick_name, volume)\n",
    "        docs = self.format_search(result)\n",
    "        return docs"
   ]
  },
  {
   "cell_type": "code",
   "execution_count": 4,
   "metadata": {
    "ExecuteTime": {
     "end_time": "2019-07-24T06:08:18.738695Z",
     "start_time": "2019-07-24T06:08:18.733286Z"
    }
   },
   "outputs": [],
   "source": [
    "eee = esWeiboUserRetrieval(host='10.8.128.205',port=49200,)"
   ]
  },
  {
   "cell_type": "code",
   "execution_count": 5,
   "metadata": {
    "ExecuteTime": {
     "end_time": "2019-07-24T06:08:19.471036Z",
     "start_time": "2019-07-24T06:08:19.453335Z"
    },
    "scrolled": true
   },
   "outputs": [],
   "source": [
    "result= eee.Retrieval(U_nick_name='鸿飞',volume=100)"
   ]
  },
  {
   "cell_type": "code",
   "execution_count": 9,
   "metadata": {
    "ExecuteTime": {
     "end_time": "2019-07-24T06:08:37.127075Z",
     "start_time": "2019-07-24T06:08:37.122335Z"
    },
    "scrolled": true
   },
   "outputs": [],
   "source": [
    "pp =result*2"
   ]
  },
  {
   "cell_type": "code",
   "execution_count": 11,
   "metadata": {
    "ExecuteTime": {
     "end_time": "2019-07-24T06:08:57.150602Z",
     "start_time": "2019-07-24T06:08:57.144867Z"
    }
   },
   "outputs": [
    {
     "name": "stdout",
     "output_type": "stream",
     "text": [
      "-林鸿飞-\n"
     ]
    }
   ],
   "source": [
    "for i in result:\n",
    "    print(i['U_nick_name'])"
   ]
  },
  {
   "cell_type": "code",
   "execution_count": null,
   "metadata": {},
   "outputs": [],
   "source": []
  },
  {
   "cell_type": "markdown",
   "metadata": {},
   "source": [
    "# 客户端对于后端数据接口的访问"
   ]
  },
  {
   "cell_type": "code",
   "execution_count": 48,
   "metadata": {
    "ExecuteTime": {
     "end_time": "2019-07-19T11:09:35.659709Z",
     "start_time": "2019-07-19T11:09:35.496745Z"
    },
    "scrolled": false
   },
   "outputs": [],
   "source": [
    "import requests\n",
    "\n",
    "body = {'wordQuery':'我',\n",
    "        'textQuery':'垃圾分类',\n",
    "        'volume':1000}\n",
    "\n",
    "baseUrl = 'http://10.8.128.205:29280/Lawbda/dataWare/1.0.0/weibo/search'\n",
    "\n",
    "docs = requests.get(baseUrl,params=body)"
   ]
  },
  {
   "cell_type": "code",
   "execution_count": 49,
   "metadata": {
    "ExecuteTime": {
     "end_time": "2019-07-19T11:09:35.843342Z",
     "start_time": "2019-07-19T11:09:35.823232Z"
    },
    "scrolled": true
   },
   "outputs": [
    {
     "data": {
      "text/plain": [
       "{'C_ID': 70125,\n",
       " 'C_comment_id': 'C_4391845553021738',\n",
       " 'C_comment_user_id': '6079113604',\n",
       " 'C_comment_user_nick_name': '安心的温柔866',\n",
       " 'C_content': '#杨洋 垃圾分类# #垃圾分类挑战#  杨洋 垃圾分类  #杨洋[超话]# @杨洋',\n",
       " 'C_crawl_time': '1970-01-01T00:00:02',\n",
       " 'C_created_at': '2019-07-08T18:17:00',\n",
       " 'C_like_num': 1,\n",
       " 'C_weibo_url': 'https://weibo.com/1625035922/HCwSG4b6Q'}"
      ]
     },
     "execution_count": 49,
     "metadata": {},
     "output_type": "execute_result"
    }
   ],
   "source": [
    "docs.json()[0]"
   ]
  },
  {
   "cell_type": "code",
   "execution_count": null,
   "metadata": {},
   "outputs": [],
   "source": []
  }
 ],
 "metadata": {
  "kernelspec": {
   "display_name": "Python 3",
   "language": "python",
   "name": "python3"
  },
  "language_info": {
   "codemirror_mode": {
    "name": "ipython",
    "version": 3
   },
   "file_extension": ".py",
   "mimetype": "text/x-python",
   "name": "python",
   "nbconvert_exporter": "python",
   "pygments_lexer": "ipython3",
   "version": "3.6.8"
  }
 },
 "nbformat": 4,
 "nbformat_minor": 2
}
