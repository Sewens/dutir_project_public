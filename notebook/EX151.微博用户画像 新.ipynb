{
 "cells": [
  {
   "cell_type": "code",
   "execution_count": 4,
   "metadata": {},
   "outputs": [],
   "source": [
    "import mysql.connector\n",
    "import pickle\n",
    "from jieba import analyse\n",
    "import pickle\n",
    "import os\n",
    "import jieba\n",
    "from jieba import analyse\n",
    "from snownlp import SnowNLP\n",
    "from snownlp.sentiment import Sentiment\n",
    "from sklearn.metrics.pairwise import cosine_similarity\n",
    "import numpy as np\n",
    "import matplotlib.pyplot as plt"
   ]
  },
  {
   "cell_type": "code",
   "execution_count": null,
   "metadata": {},
   "outputs": [],
   "source": []
  },
  {
   "cell_type": "code",
   "execution_count": 8,
   "metadata": {},
   "outputs": [],
   "source": [
    "#输入：微博名\n",
    "#输出： information：用户信息, senti：积极消极数, big5：大五人格得分以及评价,keywords：top50得词频\n",
    "###information中各字段：'U_ID'：自动生成的ID； U_user_id', 用户ID；'U_name'真实姓名；'U_nick_name'用户昵称；'U_location'用户所在地；\n",
    "#'U_sex'用户性别；'U_sexual_orientation'用户性取向；'U_Emotional_status'情感状态；'U_Birthday'生日；'U_constellation'星座；\n",
    "#'U_Blood'血型；'U_own_bolg_address_name'个人微博地址；'U_brief_introduction'个人简介；'U_Registration_time'注册时间；'U_QQ'QQ\n",
    "#'U_email'email;'U_MSN'MSN;'U_Work',工作信息;'U_educational'教育信息;'U_fans_Number'粉丝数;'U_blog_Number'博文数;\"U_concerns_Number\"关注数\n",
    "#'U_credit'信誉度；\n",
    "#'U_Head_Photo'数据库中的该字段用于存放图片的路径 是空的\n",
    "\n",
    "def weibo_user(name):\n",
    "    # 连接数据库\n",
    "    coon = mysql.connector.connect(user='weibo_user', password='ir@DUT#weibo', host=\"10.8.128.205\",\n",
    "                                   port=23306)\n",
    "    cursor = coon.cursor()\n",
    "    cursor.execute('use weiboDB;')\n",
    "    sql_str = 'select * from user_info_table4 where U_nick_name = \"{0}\";'.format(name)\n",
    "    cursor.execute(sql_str)\n",
    "    \n",
    "    res = cursor.fetchall()\n",
    "    for i in res:\n",
    "        information = {\"U_user_id\":i[1],\"U_name\":i[2],\"U_nick_name\":i[3],\"U_location\":i[4],\"U_sex\":i[5],\"U_sexual_orientation\":i[6],\n",
    "                 \"U_Emotional_status\":i[7],\"U_Birthday\":i[8],\"U_constellation\":i[9],\"U_Blood\":i[11],\"U_own_bolg_address_name\":i[12],\n",
    "                 \"U_brief_introduction\":i[13],\"U_Registration_time\":i[14],\"U_QQ\":i[15],\"U_email\":i[16],\"U_MSN\":i[17],\"U_Work\":i[18],\n",
    "                 \"U_educational\":i[19],\"U_fans_Number\":i[20],\"U_concerns_Number\":i[27],\"U_blog_Number\":i[21],\"U_credit\":i[22],\"U_tag\":i[28]}\n",
    "        senti = {\"U_senti\":i[24]}      \n",
    "        big = i[25][1:-1].split(\",\")\n",
    "        dict_big5 = {'责任性':int(big[0]),'外倾性':int(big[1]),'开放性':int(big[2]),'神经质性':int(big[3]),'宜人性':int(big[4])}\n",
    "        big5 = {\"U_big5\":dict_big5,\"U_big5_comment\":i[26]}\n",
    "    sql_str1 =   'select W_content from weibo_table where W_nick_name = \"{0}\";'.format(name)\n",
    "    cursor.execute(sql_str1)\n",
    "    res = cursor.fetchall()\n",
    "    tfidf = analyse.extract_tags\n",
    "    key_word =[]\n",
    "    for i in res: \n",
    "        keywords = tfidf(i[0],allowPOS=('ns','nr','nt','nz','nl','n', 'vn','vd','vg','v','vf','a','an','i'))\n",
    "        result=[]\n",
    "        for j in keywords:    \n",
    "            result.append(j)\n",
    "        key_word.append(\" \".join(result)) \n",
    "    words = \"\"\n",
    "    for line in key_word:\n",
    "        for i in line:\n",
    "            words = words+i\n",
    "    result=jieba.analyse.textrank(words,topK=50,withWeight=True)\n",
    "    keywords = dict()\n",
    "    for i in result:\n",
    "        keywords[i[0]]=i[1]\n",
    "    cursor = coon.close()\n",
    "    return information, senti, big5,keywords"
   ]
  },
  {
   "cell_type": "code",
   "execution_count": 9,
   "metadata": {
    "scrolled": true
   },
   "outputs": [
    {
     "name": "stderr",
     "output_type": "stream",
     "text": [
      "Building prefix dict from the default dictionary ...\n",
      "Loading model from cache C:\\Users\\lulu\\AppData\\Local\\Temp\\jieba.cache\n",
      "Loading model cost 0.689 seconds.\n",
      "Prefix dict has been built succesfully.\n"
     ]
    }
   ],
   "source": [
    "information, senti, big5,keywords = weibo_user(\"谢磊NPU\")"
   ]
  },
  {
   "cell_type": "code",
   "execution_count": 10,
   "metadata": {},
   "outputs": [
    {
     "data": {
      "text/plain": [
       "{'U_user_id': '2627058773',\n",
       " 'U_name': ' ',\n",
       " 'U_nick_name': '谢磊NPU',\n",
       " 'U_location': '陕西 西安',\n",
       " 'U_sex': '男',\n",
       " 'U_sexual_orientation': ' ',\n",
       " 'U_Emotional_status': ' ',\n",
       " 'U_Birthday': ' ',\n",
       " 'U_constellation': ' ',\n",
       " 'U_Blood': ' ',\n",
       " 'U_own_bolg_address_name': 'https://weibo.com/xielei21st?from=inf&wvr=5&loc=infdomain',\n",
       " 'U_brief_introduction': '西北工业大学计算机学院教授，从事智能语音处理、机器学习相关研究。研究兴趣：语音识别、语音合成、口语内容分析、音视频多模态处理等。',\n",
       " 'U_Registration_time': datetime.datetime(2012, 2, 22, 0, 0),\n",
       " 'U_QQ': ' ',\n",
       " 'U_email': ' ',\n",
       " 'U_MSN': ' ',\n",
       " 'U_Work': ' ',\n",
       " 'U_educational': '  学位：大学  学校： 西北工业大学 时间：2011年',\n",
       " 'U_fans_Number': 3696,\n",
       " 'U_concerns_Number': 412,\n",
       " 'U_blog_Number': 9016,\n",
       " 'U_credit': '信用较好',\n",
       " 'U_tag': '                                     IT数码                                    '}"
      ]
     },
     "execution_count": 10,
     "metadata": {},
     "output_type": "execute_result"
    }
   ],
   "source": [
    "information"
   ]
  },
  {
   "cell_type": "code",
   "execution_count": 39,
   "metadata": {},
   "outputs": [
    {
     "data": {
      "text/plain": [
       "{'U_senti': '[230, 11]'}"
      ]
     },
     "execution_count": 39,
     "metadata": {},
     "output_type": "execute_result"
    }
   ],
   "source": [
    "senti"
   ]
  },
  {
   "cell_type": "code",
   "execution_count": 40,
   "metadata": {},
   "outputs": [
    {
     "data": {
      "text/plain": [
       "{'U_big5': {'责任性': 13, '外倾性': 5, '开放性': 17, '神经质性': 13, '宜人性': 21},\n",
       " 'U_big5_comment': '您的随和性得分最高，属于高随和性。随和性代表了“爱”，对合作和人际和谐是否看重。随和性高的人是善解人意的、友好的、慷慨大方的、乐于助人的，愿意为了别人放弃自己的利益。宜人性高的人对人性持乐观的态度，相信人性本善。宜人性低的人则把自己的利益放在别人的利益之上。本质上，他们不关心别人的利益，因此也不乐意去帮助别人。有时候，他们对别人是非常多疑的，怀疑别人的动机。对于某些职位来说，太高的宜人性是没有必要的，尤其是需要强硬和客观判断的场合，例如科学家、评论家和士兵。'}"
      ]
     },
     "execution_count": 40,
     "metadata": {},
     "output_type": "execute_result"
    }
   ],
   "source": [
    "big5"
   ]
  },
  {
   "cell_type": "code",
   "execution_count": 41,
   "metadata": {
    "scrolled": true
   },
   "outputs": [
    {
     "data": {
      "text/plain": [
       "{'转发': 1.0,\n",
       " '程序员': 0.05615517420046101,\n",
       " '小米': 0.05611426201611269,\n",
       " '可可': 0.054013417997516494,\n",
       " '生活': 0.04835218298882436,\n",
       " '浙大': 0.03603990426369304,\n",
       " '博士': 0.03409990252198326,\n",
       " '学术': 0.03233881234864703,\n",
       " '事儿': 0.02676341190433804,\n",
       " '出版': 0.024878436103641377,\n",
       " '大学': 0.023442270658064854,\n",
       " '组图': 0.022414312069188404,\n",
       " '测试': 0.02093249869606007,\n",
       " '功能': 0.02003314957760399,\n",
       " '看清': 0.019979084890502402,\n",
       " '美国': 0.01948095566798408,\n",
       " '勇气': 0.019343159381888637,\n",
       " '课程': 0.019165937635986053,\n",
       " '发现': 0.0190406871985275,\n",
       " '粉丝': 0.018763660291932514,\n",
       " '使用': 0.01813420077354424,\n",
       " '总裁': 0.018123578165085658,\n",
       " '图片': 0.018058622120344835,\n",
       " '原子弹': 0.0178730949251726,\n",
       " '地方': 0.01781017727018023,\n",
       " '问问': 0.017650447930957654,\n",
       " '中国': 0.017554379059716928,\n",
       " '语言': 0.017513151250951885,\n",
       " '知识分子': 0.01725124932034487,\n",
       " '责任': 0.017242278979910538,\n",
       " '审核': 0.01715230580685582,\n",
       " '还好': 0.01702505778814652,\n",
       " '教育': 0.016721609970158726,\n",
       " '听听': 0.016561910304580763,\n",
       " '科研': 0.016549654513895652,\n",
       " '总部': 0.016459143972681622,\n",
       " '特首': 0.016318824892151435,\n",
       " '潜力': 0.016243215533524844,\n",
       " '校长': 0.01615903484649753,\n",
       " '提升': 0.016134786486137878,\n",
       " '没有': 0.016077353009984044,\n",
       " '回家': 0.016059213186498885,\n",
       " '老师': 0.016032200843973242,\n",
       " '查看': 0.015966397933798535,\n",
       " '语音': 0.015924854621046133,\n",
       " '看到': 0.01591001124132623,\n",
       " '华人': 0.01582367936761035,\n",
       " '民族': 0.015718594087950313,\n",
       " '不行': 0.015579184814204268,\n",
       " '动机': 0.015387425517284989}"
      ]
     },
     "execution_count": 41,
     "metadata": {},
     "output_type": "execute_result"
    }
   ],
   "source": [
    "keywords"
   ]
  },
  {
   "cell_type": "code",
   "execution_count": null,
   "metadata": {},
   "outputs": [],
   "source": []
  }
 ],
 "metadata": {
  "kernelspec": {
   "display_name": "Python 3",
   "language": "python",
   "name": "python3"
  },
  "language_info": {
   "codemirror_mode": {
    "name": "ipython",
    "version": 3
   },
   "file_extension": ".py",
   "mimetype": "text/x-python",
   "name": "python",
   "nbconvert_exporter": "python",
   "pygments_lexer": "ipython3",
   "version": "3.6.8"
  }
 },
 "nbformat": 4,
 "nbformat_minor": 2
}
