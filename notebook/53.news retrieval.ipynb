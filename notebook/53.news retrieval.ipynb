{
 "cells": [
  {
   "cell_type": "markdown",
   "metadata": {},
   "source": [
    "# 将检索模块和文本聚类模块进行封装"
   ]
  },
  {
   "cell_type": "code",
   "execution_count": 3,
   "metadata": {
    "ExecuteTime": {
     "end_time": "2019-07-22T16:40:05.906646Z",
     "start_time": "2019-07-22T16:40:05.382711Z"
    }
   },
   "outputs": [],
   "source": [
    "import time\n",
    "import random\n",
    "import os\n",
    "import re\n",
    "import pandas as pd\n",
    "import numpy as np\n",
    "from datetime import datetime\n",
    "from elasticsearch import Elasticsearch"
   ]
  },
  {
   "cell_type": "code",
   "execution_count": 4,
   "metadata": {
    "ExecuteTime": {
     "end_time": "2019-07-22T16:40:05.933186Z",
     "start_time": "2019-07-22T16:40:05.909666Z"
    }
   },
   "outputs": [],
   "source": [
    "import mysql.connector"
   ]
  },
  {
   "cell_type": "markdown",
   "metadata": {},
   "source": [
    "# ES检索模块重构为一个对象"
   ]
  },
  {
   "cell_type": "code",
   "execution_count": 41,
   "metadata": {
    "ExecuteTime": {
     "end_time": "2019-07-22T16:54:21.542743Z",
     "start_time": "2019-07-22T16:54:21.516568Z"
    }
   },
   "outputs": [],
   "source": [
    "class esNewsRetrieval():\n",
    "    '''\n",
    "    根据论文检索需求进行功能的微调\n",
    "    '''\n",
    "    _instance = None\n",
    "    _first_init = True\n",
    "    def __new__(cls, *args, **kw):\n",
    "        if not cls._instance:\n",
    "            cls._instance = super(esNewsRetrieval, cls).__new__(cls)  \n",
    "        return cls._instance\n",
    "    \n",
    "    def __init__(self, host, port):\n",
    "        '''\n",
    "        使用ES进行论文检索 指定host、port以及专利index之后进行检索\n",
    "        '''\n",
    "        super(esNewsRetrieval, self).__init__()\n",
    "        self.es = Elasticsearch(hosts=host, port=port, timeout=30, max_retries=10, retry_on_timeout=True)\n",
    "        self.indexName = 'news-gdelt-index'\n",
    "\n",
    "    def do_search(self, Actor1Geo_FullName, Actor2Geo_FullName, ActionGeo_FullName,MediaGeo,Title,Content,volume):\n",
    "        '''\n",
    "        do_search方法执行具体检索过程\n",
    "        wordQuery 本应为查询对应微博时所用的检索词 此处暂时不用 目前暂时只检索微博评论数据后续再修改对象为\n",
    "        \n",
    "        volume为每次检索返回的数目\n",
    "        '''\n",
    "        queryBody = {\n",
    "            \"query\": {\n",
    "            \"bool\": {\n",
    "            \"must\": [ ],\n",
    "            \"must_not\": [ ],\n",
    "            \"should\": [\n",
    "            {\n",
    "            \"term\": {\n",
    "            \"Actor1Geo_FullName.keyword\": Actor1Geo_FullName\n",
    "            }\n",
    "            }\n",
    "            ,\n",
    "            {\n",
    "            \"term\": {\n",
    "            \"Actor2Geo_FullName.keyword\": Actor2Geo_FullName\n",
    "            }\n",
    "            }\n",
    "            ,\n",
    "            {\n",
    "            \"term\": {\n",
    "            \"ActionGeo_FullName.keyword\": ActionGeo_FullName\n",
    "            }\n",
    "            }\n",
    "            ,\n",
    "            {\n",
    "            \"term\": {\n",
    "            \"MediaGeo.keyword\": MediaGeo\n",
    "            }\n",
    "            }\n",
    "            ,\n",
    "            {\n",
    "            \"term\": {\n",
    "            \"Title.keyword\": Title\n",
    "            }\n",
    "            }\n",
    "            ,\n",
    "            {\n",
    "            \"term\": {\n",
    "            \"Content.keyword\": Content\n",
    "            }\n",
    "            }\n",
    "            ]\n",
    "            }\n",
    "            },\n",
    "            \"from\": 0,\n",
    "            \"size\": volume,\n",
    "            \"sort\": [ ],\n",
    "            \"aggs\": { }\n",
    "            }\n",
    "#         print(queryBody)\n",
    "        result = self.es.search(index=self.indexName, body=queryBody)\n",
    "        return result\n",
    "\n",
    "    def format_search(self, result):\n",
    "        '''\n",
    "        format_search方法对检索结果进行格式化 构建符合要求的字段进行返回\n",
    "        输入result为检索结果 提取其中的检索结果进行后处理\n",
    "        使用ES检索后得到的结果中result['hits']['hits']为数组格式数据\n",
    "        其中每一个元素为一个dict 对应部分字段\n",
    "        '''\n",
    "        docs = result['hits']['hits']\n",
    "        docs = [i['_source'] for i in docs]\n",
    "        head = '`GLOBALEVENTID`, `SQLDATE`, `MonthYear`, `Year`, `FractionDate`, `Actor1Code`, `Actor1Name`, `Actor1CountryCode`, `Actor1KnownGroupCode`, `Actor1EthnicCode`, `Actor1Religion1Code`, `Actor1Religion2Code`, `Actor1Type1Code`, `Actor1Type2Code`, `Actor1Type3Code`, `Actor2Code`, `Actor2Name`, `Actor2CountryCode`, `Actor2KnownGroupCode`, `Actor2EthnicCode`, `Actor2Religion1Code`, `Actor2Religion2Code`, `Actor2Type1Code`, `Actor2Type2Code`, `Actor2Type3Code`, `IsRootEvent`, `EventCode`, `EventBaseCode`, `EventRootCode`, `QuadClass`, `GoldsteinScale`, `NumMentions`, `NumSources`, `NumArticles`, `AvgTone`, `Actor1Geo_Type`, `Actor1Geo_FullName`, `Actor1Geo_CountryCode`, `Actor1Geo_ADM1Code`, `Actor1Geo_ADM2Code`, `Actor1Geo_Lat`, `Actor1Geo_Long`, `Actor1Geo_FeatureID`, `Actor2Geo_Type`, `Actor2Geo_FullName`, `Actor2Geo_CountryCode`, `Actor2Geo_ADM1Code`, `Actor2Geo_ADM2Code`, `Actor2Geo_Lat`, `Actor2Geo_Long`, `Actor2Geo_FeatureID`, `ActionGeo_Type`, `ActionGeo_FullName`, `ActionGeo_CountryCode`, `ActionGeo_ADM1Code`, `ActionGeo_ADM2Code`, `ActionGeo_Lat`, `ActionGeo_Long`, `ActionGeo_FeatureID`, `DATEADDED`, `SOURCEURL`, `MediaGeo`, `Title`, `Content`'\n",
    "        head = head.replace('`','')\n",
    "        targetKeyList = [i.strip() for i in head.split(',')]\n",
    "        dict_filter_by_keys = lambda d: {k: d[k] for k in targetKeyList}\n",
    "        dict_filter_id = lambda d: {k if not k == '_id' else 'id': d[k] for k in d}\n",
    "        docs = list(dict_filter_by_keys(doc) for doc in docs)\n",
    "        return docs\n",
    "    def Retrieval(self, Actor1Geo_FullName, Actor2Geo_FullName, ActionGeo_FullName,MediaGeo,Title,Content,volume):\n",
    "        result = self.do_search(Actor1Geo_FullName, Actor2Geo_FullName, ActionGeo_FullName,MediaGeo,Title,Content,volume)\n",
    "        docs = self.format_search(result)\n",
    "        return docs"
   ]
  },
  {
   "cell_type": "code",
   "execution_count": 42,
   "metadata": {
    "ExecuteTime": {
     "end_time": "2019-07-22T16:54:21.792365Z",
     "start_time": "2019-07-22T16:54:21.787280Z"
    }
   },
   "outputs": [],
   "source": [
    "eee = esNewsRetrieval(host='10.8.128.205',port=49200,)"
   ]
  },
  {
   "cell_type": "code",
   "execution_count": 43,
   "metadata": {
    "ExecuteTime": {
     "end_time": "2019-07-22T16:54:22.194280Z",
     "start_time": "2019-07-22T16:54:22.138968Z"
    },
    "scrolled": true
   },
   "outputs": [],
   "source": [
    "result= eee.Retrieval(Actor1Geo_FullName='', Actor2Geo_FullName=''\n",
    "                      , ActionGeo_FullName='',MediaGeo='',Title='china',Content='',volume=100)"
   ]
  },
  {
   "cell_type": "code",
   "execution_count": null,
   "metadata": {
    "ExecuteTime": {
     "end_time": "2019-07-22T16:54:13.136386Z",
     "start_time": "2019-07-22T16:54:12.979206Z"
    },
    "scrolled": true
   },
   "outputs": [],
   "source": [
    "result"
   ]
  },
  {
   "cell_type": "code",
   "execution_count": null,
   "metadata": {},
   "outputs": [],
   "source": []
  },
  {
   "cell_type": "code",
   "execution_count": null,
   "metadata": {},
   "outputs": [],
   "source": []
  },
  {
   "cell_type": "code",
   "execution_count": null,
   "metadata": {},
   "outputs": [],
   "source": []
  },
  {
   "cell_type": "code",
   "execution_count": null,
   "metadata": {},
   "outputs": [],
   "source": []
  }
 ],
 "metadata": {
  "kernelspec": {
   "display_name": "Python 3",
   "language": "python",
   "name": "python3"
  },
  "language_info": {
   "codemirror_mode": {
    "name": "ipython",
    "version": 3
   },
   "file_extension": ".py",
   "mimetype": "text/x-python",
   "name": "python",
   "nbconvert_exporter": "python",
   "pygments_lexer": "ipython3",
   "version": "3.6.8"
  }
 },
 "nbformat": 4,
 "nbformat_minor": 2
}
