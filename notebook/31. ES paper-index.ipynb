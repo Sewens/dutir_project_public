{
 "cells": [
  {
   "cell_type": "code",
   "execution_count": 28,
   "metadata": {
    "ExecuteTime": {
     "end_time": "2019-07-19T06:11:18.597803Z",
     "start_time": "2019-07-19T06:11:18.589204Z"
    }
   },
   "outputs": [],
   "source": [
    "import time\n",
    "import random\n",
    "import os\n",
    "import re\n",
    "import pandas as pd\n",
    "import numpy as np\n",
    "from datetime import datetime\n",
    "from elasticsearch import Elasticsearch \n",
    "import mysql.connector\n",
    "from elasticsearch.helpers import bulk"
   ]
  },
  {
   "cell_type": "markdown",
   "metadata": {},
   "source": [
    "# 日期处理"
   ]
  },
  {
   "cell_type": "code",
   "execution_count": 3,
   "metadata": {
    "ExecuteTime": {
     "end_time": "2019-07-19T06:07:08.487221Z",
     "start_time": "2019-07-19T06:07:08.480816Z"
    }
   },
   "outputs": [],
   "source": [
    "def date_convert(dot_date_str):\n",
    "    '''xxxx.xx.xx --> xxxx-xx-xx\n",
    "    then pack into json for es\n",
    "    '''\n",
    "    y,m,d = dot_date_str.split('.')\n",
    "    new_date = '{year}-{month}-{date}'.format(year=y,month=m,date=d)\n",
    "    return new_date\n",
    "#     return {new_date:{'type':'date','formate':'yyyy-mm-dd'}}"
   ]
  },
  {
   "cell_type": "code",
   "execution_count": 4,
   "metadata": {
    "ExecuteTime": {
     "end_time": "2019-07-19T06:07:08.679416Z",
     "start_time": "2019-07-19T06:07:08.674203Z"
    }
   },
   "outputs": [],
   "source": [
    "def date_autofill(dot_date_str):\n",
    "    '''xxxx --> xxxx-01-01\n",
    "    then pack into json for es\n",
    "    '''\n",
    "    new_date = '{year}-{month}-{date}'.format(year=dot_date_str,month='01',date='01')\n",
    "    return new_date"
   ]
  },
  {
   "cell_type": "markdown",
   "metadata": {},
   "source": [
    "# 读取库中paper数据"
   ]
  },
  {
   "cell_type": "code",
   "execution_count": 5,
   "metadata": {
    "ExecuteTime": {
     "end_time": "2019-07-19T06:07:18.350209Z",
     "start_time": "2019-07-19T06:07:18.346173Z"
    }
   },
   "outputs": [],
   "source": [
    "# head = 'P_Title, P_Author, P_Publication, P_Organ, P_year, P_Keyword, \\\n",
    "#     P_Summary, P_Keyword_seg, P_Title_seg,\\\n",
    "#     P_Summary_seg, P_URL, P_Fields, P_Fields_two,P_References, P_Pagecount, P_Page, P_Language,\\\n",
    "#     P_Download_num, P_Citation_num,P_Vector,P_Volume, P_Issue,P_Issn,P_Isbn, P_Doi,\\\n",
    "#     P_Red1, P_Red2, P_Red3, P_Red4, P_Red5'\n",
    "\n",
    "# head_columns = [i.strip() for i in head.split(',')]"
   ]
  },
  {
   "cell_type": "code",
   "execution_count": 6,
   "metadata": {
    "ExecuteTime": {
     "end_time": "2019-07-19T06:07:18.668148Z",
     "start_time": "2019-07-19T06:07:18.657181Z"
    }
   },
   "outputs": [],
   "source": [
    "cnx = mysql.connector.connect(user='root', password='ir@DUT#2018',\n",
    "                              host='10.8.128.205',port='23306')\n",
    "\n",
    "cursor = cnx.cursor()"
   ]
  },
  {
   "cell_type": "markdown",
   "metadata": {},
   "source": [
    "# 获取paper表头"
   ]
  },
  {
   "cell_type": "code",
   "execution_count": 7,
   "metadata": {
    "ExecuteTime": {
     "end_time": "2019-07-19T06:07:19.808834Z",
     "start_time": "2019-07-19T06:07:19.801893Z"
    }
   },
   "outputs": [],
   "source": [
    "cursor.execute(\"select * from information_schema.columns where table_name='paper_table'\")"
   ]
  },
  {
   "cell_type": "code",
   "execution_count": 8,
   "metadata": {
    "ExecuteTime": {
     "end_time": "2019-07-19T06:07:19.993611Z",
     "start_time": "2019-07-19T06:07:19.985862Z"
    }
   },
   "outputs": [],
   "source": [
    "sql_table_columns = cursor.fetchall()"
   ]
  },
  {
   "cell_type": "code",
   "execution_count": 9,
   "metadata": {
    "ExecuteTime": {
     "end_time": "2019-07-19T06:07:20.182801Z",
     "start_time": "2019-07-19T06:07:20.177906Z"
    }
   },
   "outputs": [],
   "source": [
    "sql_table_columns_name = [i[3] for i in sql_table_columns]"
   ]
  },
  {
   "cell_type": "markdown",
   "metadata": {},
   "source": [
    "# 获取paper表总容量"
   ]
  },
  {
   "cell_type": "code",
   "execution_count": 12,
   "metadata": {
    "ExecuteTime": {
     "end_time": "2019-07-19T06:07:35.319073Z",
     "start_time": "2019-07-19T06:07:35.313348Z"
    }
   },
   "outputs": [],
   "source": [
    "cursor.execute(\"select table_rows from information_schema.tables where table_name='paper_table'\")"
   ]
  },
  {
   "cell_type": "code",
   "execution_count": 13,
   "metadata": {
    "ExecuteTime": {
     "end_time": "2019-07-19T06:07:35.526216Z",
     "start_time": "2019-07-19T06:07:35.521541Z"
    },
    "scrolled": true
   },
   "outputs": [],
   "source": [
    "sql_table_rows = cursor.fetchall()"
   ]
  },
  {
   "cell_type": "code",
   "execution_count": 14,
   "metadata": {
    "ExecuteTime": {
     "end_time": "2019-07-19T06:07:35.726479Z",
     "start_time": "2019-07-19T06:07:35.722082Z"
    }
   },
   "outputs": [],
   "source": [
    "sql_table_rows = sql_table_rows[0][0]"
   ]
  },
  {
   "cell_type": "code",
   "execution_count": 22,
   "metadata": {
    "ExecuteTime": {
     "end_time": "2019-07-19T06:09:21.476066Z",
     "start_time": "2019-07-19T06:09:21.469723Z"
    }
   },
   "outputs": [],
   "source": [
    "def data_to_json(paper_atom,head_columns):\n",
    "    data = paper_atom\n",
    "    data_dict = {k:data[num] for num,k in enumerate(head_columns)}\n",
    "    data_dict['P_year'] = date_autofill(data_dict['P_year'])\n",
    "    return data_dict"
   ]
  },
  {
   "cell_type": "markdown",
   "metadata": {},
   "source": [
    "# 构建索引"
   ]
  },
  {
   "cell_type": "code",
   "execution_count": 19,
   "metadata": {
    "ExecuteTime": {
     "end_time": "2019-07-19T06:08:47.737954Z",
     "start_time": "2019-07-19T06:08:47.732115Z"
    }
   },
   "outputs": [],
   "source": [
    "es = Elasticsearch(hosts='10.8.128.205',port=49200,timeout=30, max_retries=10, retry_on_timeout=True)"
   ]
  },
  {
   "cell_type": "markdown",
   "metadata": {},
   "source": [
    "# 每次查询limit数目的数值 同时批量插入paper"
   ]
  },
  {
   "cell_type": "code",
   "execution_count": 26,
   "metadata": {
    "ExecuteTime": {
     "end_time": "2019-07-19T06:10:53.982976Z",
     "start_time": "2019-07-19T06:10:53.158987Z"
    }
   },
   "outputs": [
    {
     "data": {
      "text/plain": [
       "{'acknowledged': True}"
      ]
     },
     "execution_count": 26,
     "metadata": {},
     "output_type": "execute_result"
    }
   ],
   "source": [
    "es.indices.delete(index='paper-year-index')"
   ]
  },
  {
   "cell_type": "code",
   "execution_count": 29,
   "metadata": {
    "ExecuteTime": {
     "end_time": "2019-07-19T07:44:14.196432Z",
     "start_time": "2019-07-19T06:11:21.221355Z"
    },
    "scrolled": true
   },
   "outputs": [
    {
     "name": "stdout",
     "output_type": "stream",
     "text": [
      "[Fri Jul 19 14:11:21 2019] Epoch:0\n",
      "[Fri Jul 19 14:11:27 2019] Epoch:1\n",
      "[Fri Jul 19 14:11:32 2019] Epoch:2\n",
      "[Fri Jul 19 14:11:37 2019] Epoch:3\n",
      "[Fri Jul 19 14:11:42 2019] Epoch:4\n",
      "[Fri Jul 19 14:11:46 2019] Epoch:5\n",
      "[Fri Jul 19 14:11:51 2019] Epoch:6\n",
      "[Fri Jul 19 14:11:56 2019] Epoch:7\n",
      "[Fri Jul 19 14:12:01 2019] Epoch:8\n",
      "[Fri Jul 19 14:12:06 2019] Epoch:9\n",
      "[Fri Jul 19 14:12:10 2019] Epoch:10\n",
      "[Fri Jul 19 14:12:15 2019] Epoch:11\n",
      "[Fri Jul 19 14:12:23 2019] Epoch:12\n",
      "[Fri Jul 19 14:12:27 2019] Epoch:13\n",
      "[Fri Jul 19 14:12:32 2019] Epoch:14\n",
      "[Fri Jul 19 14:12:37 2019] Epoch:15\n",
      "[Fri Jul 19 14:12:42 2019] Epoch:16\n",
      "[Fri Jul 19 14:12:49 2019] Epoch:17\n",
      "[Fri Jul 19 14:12:54 2019] Epoch:18\n",
      "[Fri Jul 19 14:12:59 2019] Epoch:19\n",
      "[Fri Jul 19 14:13:03 2019] Epoch:20\n",
      "[Fri Jul 19 14:13:08 2019] Epoch:21\n",
      "[Fri Jul 19 14:13:13 2019] Epoch:22\n",
      "[Fri Jul 19 14:13:21 2019] Epoch:23\n",
      "[Fri Jul 19 14:13:25 2019] Epoch:24\n",
      "[Fri Jul 19 14:13:30 2019] Epoch:25\n",
      "[Fri Jul 19 14:13:35 2019] Epoch:26\n",
      "[Fri Jul 19 14:13:39 2019] Epoch:27\n",
      "[Fri Jul 19 14:13:47 2019] Epoch:28\n",
      "[Fri Jul 19 14:13:52 2019] Epoch:29\n",
      "[Fri Jul 19 14:13:57 2019] Epoch:30\n",
      "[Fri Jul 19 14:14:02 2019] Epoch:31\n",
      "[Fri Jul 19 14:14:09 2019] Epoch:32\n",
      "[Fri Jul 19 14:14:15 2019] Epoch:33\n",
      "[Fri Jul 19 14:14:25 2019] Epoch:34\n",
      "[Fri Jul 19 14:14:30 2019] Epoch:35\n",
      "[Fri Jul 19 14:14:35 2019] Epoch:36\n",
      "[Fri Jul 19 14:14:41 2019] Epoch:37\n",
      "[Fri Jul 19 14:14:47 2019] Epoch:38\n",
      "[Fri Jul 19 14:14:57 2019] Epoch:39\n",
      "[Fri Jul 19 14:15:03 2019] Epoch:40\n",
      "[Fri Jul 19 14:15:08 2019] Epoch:41\n",
      "[Fri Jul 19 14:15:14 2019] Epoch:42\n",
      "[Fri Jul 19 14:15:19 2019] Epoch:43\n",
      "[Fri Jul 19 14:15:25 2019] Epoch:44\n",
      "[Fri Jul 19 14:15:31 2019] Epoch:45\n",
      "[Fri Jul 19 14:15:36 2019] Epoch:46\n",
      "[Fri Jul 19 14:15:44 2019] Epoch:47\n",
      "[Fri Jul 19 14:15:50 2019] Epoch:48\n",
      "[Fri Jul 19 14:15:57 2019] Epoch:49\n",
      "[Fri Jul 19 14:16:04 2019] Epoch:50\n",
      "[Fri Jul 19 14:16:10 2019] Epoch:51\n",
      "[Fri Jul 19 14:16:19 2019] Epoch:52\n",
      "[Fri Jul 19 14:16:25 2019] Epoch:53\n",
      "[Fri Jul 19 14:16:32 2019] Epoch:54\n",
      "[Fri Jul 19 14:16:38 2019] Epoch:55\n",
      "[Fri Jul 19 14:16:45 2019] Epoch:56\n",
      "[Fri Jul 19 14:16:53 2019] Epoch:57\n",
      "[Fri Jul 19 14:17:00 2019] Epoch:58\n",
      "[Fri Jul 19 14:17:06 2019] Epoch:59\n",
      "[Fri Jul 19 14:17:13 2019] Epoch:60\n",
      "[Fri Jul 19 14:17:19 2019] Epoch:61\n",
      "[Fri Jul 19 14:17:29 2019] Epoch:62\n",
      "[Fri Jul 19 14:17:35 2019] Epoch:63\n",
      "[Fri Jul 19 14:17:42 2019] Epoch:64\n",
      "[Fri Jul 19 14:17:48 2019] Epoch:65\n",
      "[Fri Jul 19 14:17:55 2019] Epoch:66\n",
      "[Fri Jul 19 14:18:02 2019] Epoch:67\n",
      "[Fri Jul 19 14:18:11 2019] Epoch:68\n",
      "[Fri Jul 19 14:18:18 2019] Epoch:69\n",
      "[Fri Jul 19 14:18:24 2019] Epoch:70\n",
      "[Fri Jul 19 14:18:31 2019] Epoch:71\n",
      "[Fri Jul 19 14:18:39 2019] Epoch:72\n",
      "[Fri Jul 19 14:18:48 2019] Epoch:73\n",
      "[Fri Jul 19 14:18:54 2019] Epoch:74\n",
      "[Fri Jul 19 14:19:01 2019] Epoch:75\n",
      "[Fri Jul 19 14:19:08 2019] Epoch:76\n",
      "[Fri Jul 19 14:19:15 2019] Epoch:77\n",
      "[Fri Jul 19 14:19:23 2019] Epoch:78\n",
      "[Fri Jul 19 14:19:32 2019] Epoch:79\n",
      "[Fri Jul 19 14:19:40 2019] Epoch:80\n",
      "[Fri Jul 19 14:19:47 2019] Epoch:81\n",
      "[Fri Jul 19 14:19:55 2019] Epoch:82\n",
      "[Fri Jul 19 14:20:02 2019] Epoch:83\n",
      "[Fri Jul 19 14:20:10 2019] Epoch:84\n",
      "[Fri Jul 19 14:20:17 2019] Epoch:85\n",
      "[Fri Jul 19 14:20:27 2019] Epoch:86\n",
      "[Fri Jul 19 14:20:34 2019] Epoch:87\n",
      "[Fri Jul 19 14:20:41 2019] Epoch:88\n",
      "[Fri Jul 19 14:20:48 2019] Epoch:89\n",
      "[Fri Jul 19 14:20:56 2019] Epoch:90\n",
      "[Fri Jul 19 14:21:06 2019] Epoch:91\n",
      "[Fri Jul 19 14:21:13 2019] Epoch:92\n",
      "[Fri Jul 19 14:21:20 2019] Epoch:93\n",
      "[Fri Jul 19 14:21:28 2019] Epoch:94\n",
      "[Fri Jul 19 14:21:36 2019] Epoch:95\n",
      "[Fri Jul 19 14:21:45 2019] Epoch:96\n",
      "[Fri Jul 19 14:21:53 2019] Epoch:97\n",
      "[Fri Jul 19 14:22:00 2019] Epoch:98\n",
      "[Fri Jul 19 14:22:07 2019] Epoch:99\n",
      "[Fri Jul 19 14:22:14 2019] Epoch:100\n",
      "[Fri Jul 19 14:22:23 2019] Epoch:101\n",
      "[Fri Jul 19 14:22:31 2019] Epoch:102\n",
      "[Fri Jul 19 14:22:38 2019] Epoch:103\n",
      "[Fri Jul 19 14:22:45 2019] Epoch:104\n",
      "[Fri Jul 19 14:22:52 2019] Epoch:105\n",
      "[Fri Jul 19 14:23:02 2019] Epoch:106\n",
      "[Fri Jul 19 14:23:13 2019] Epoch:107\n",
      "[Fri Jul 19 14:23:20 2019] Epoch:108\n",
      "[Fri Jul 19 14:23:28 2019] Epoch:109\n",
      "[Fri Jul 19 14:23:35 2019] Epoch:110\n",
      "[Fri Jul 19 14:23:44 2019] Epoch:111\n",
      "[Fri Jul 19 14:23:55 2019] Epoch:112\n",
      "[Fri Jul 19 14:24:02 2019] Epoch:113\n",
      "[Fri Jul 19 14:24:09 2019] Epoch:114\n",
      "[Fri Jul 19 14:24:17 2019] Epoch:115\n",
      "[Fri Jul 19 14:24:25 2019] Epoch:116\n",
      "[Fri Jul 19 14:24:33 2019] Epoch:117\n",
      "[Fri Jul 19 14:24:40 2019] Epoch:118\n",
      "[Fri Jul 19 14:24:47 2019] Epoch:119\n",
      "[Fri Jul 19 14:24:54 2019] Epoch:120\n",
      "[Fri Jul 19 14:25:02 2019] Epoch:121\n",
      "[Fri Jul 19 14:25:10 2019] Epoch:122\n",
      "[Fri Jul 19 14:25:18 2019] Epoch:123\n",
      "[Fri Jul 19 14:25:26 2019] Epoch:124\n",
      "[Fri Jul 19 14:25:34 2019] Epoch:125\n",
      "[Fri Jul 19 14:25:41 2019] Epoch:126\n",
      "[Fri Jul 19 14:25:48 2019] Epoch:127\n",
      "[Fri Jul 19 14:25:58 2019] Epoch:128\n",
      "[Fri Jul 19 14:26:05 2019] Epoch:129\n",
      "[Fri Jul 19 14:26:12 2019] Epoch:130\n",
      "[Fri Jul 19 14:26:20 2019] Epoch:131\n",
      "[Fri Jul 19 14:26:27 2019] Epoch:132\n",
      "[Fri Jul 19 14:26:35 2019] Epoch:133\n",
      "[Fri Jul 19 14:26:46 2019] Epoch:134\n",
      "[Fri Jul 19 14:26:53 2019] Epoch:135\n",
      "[Fri Jul 19 14:27:02 2019] Epoch:136\n",
      "[Fri Jul 19 14:27:10 2019] Epoch:137\n",
      "[Fri Jul 19 14:27:19 2019] Epoch:138\n",
      "[Fri Jul 19 14:27:29 2019] Epoch:139\n",
      "[Fri Jul 19 14:27:37 2019] Epoch:140\n",
      "[Fri Jul 19 14:27:45 2019] Epoch:141\n",
      "[Fri Jul 19 14:27:53 2019] Epoch:142\n",
      "[Fri Jul 19 14:28:01 2019] Epoch:143\n",
      "[Fri Jul 19 14:28:14 2019] Epoch:144\n",
      "[Fri Jul 19 14:28:21 2019] Epoch:145\n",
      "[Fri Jul 19 14:28:29 2019] Epoch:146\n",
      "[Fri Jul 19 14:28:37 2019] Epoch:147\n",
      "[Fri Jul 19 14:28:46 2019] Epoch:148\n",
      "[Fri Jul 19 14:28:54 2019] Epoch:149\n",
      "[Fri Jul 19 14:29:05 2019] Epoch:150\n",
      "[Fri Jul 19 14:29:13 2019] Epoch:151\n",
      "[Fri Jul 19 14:29:21 2019] Epoch:152\n",
      "[Fri Jul 19 14:29:29 2019] Epoch:153\n",
      "[Fri Jul 19 14:29:38 2019] Epoch:154\n",
      "[Fri Jul 19 14:29:50 2019] Epoch:155\n",
      "[Fri Jul 19 14:29:59 2019] Epoch:156\n",
      "[Fri Jul 19 14:30:08 2019] Epoch:157\n",
      "[Fri Jul 19 14:30:16 2019] Epoch:158\n",
      "[Fri Jul 19 14:30:24 2019] Epoch:159\n",
      "[Fri Jul 19 14:30:32 2019] Epoch:160\n",
      "[Fri Jul 19 14:30:42 2019] Epoch:161\n",
      "[Fri Jul 19 14:30:52 2019] Epoch:162\n",
      "[Fri Jul 19 14:31:03 2019] Epoch:163\n",
      "[Fri Jul 19 14:31:11 2019] Epoch:164\n",
      "[Fri Jul 19 14:31:20 2019] Epoch:165\n",
      "[Fri Jul 19 14:31:28 2019] Epoch:166\n",
      "[Fri Jul 19 14:31:38 2019] Epoch:167\n",
      "[Fri Jul 19 14:31:49 2019] Epoch:168\n",
      "[Fri Jul 19 14:31:57 2019] Epoch:169\n",
      "[Fri Jul 19 14:32:05 2019] Epoch:170\n",
      "[Fri Jul 19 14:32:14 2019] Epoch:171\n",
      "[Fri Jul 19 14:32:23 2019] Epoch:172\n",
      "[Fri Jul 19 14:32:34 2019] Epoch:173\n",
      "[Fri Jul 19 14:32:41 2019] Epoch:174\n",
      "[Fri Jul 19 14:32:50 2019] Epoch:175\n",
      "[Fri Jul 19 14:32:58 2019] Epoch:176\n",
      "[Fri Jul 19 14:33:07 2019] Epoch:177\n",
      "[Fri Jul 19 14:33:19 2019] Epoch:178\n",
      "[Fri Jul 19 14:33:27 2019] Epoch:179\n",
      "[Fri Jul 19 14:33:36 2019] Epoch:180\n",
      "[Fri Jul 19 14:33:45 2019] Epoch:181\n",
      "[Fri Jul 19 14:33:53 2019] Epoch:182\n",
      "[Fri Jul 19 14:34:02 2019] Epoch:183\n",
      "[Fri Jul 19 14:34:11 2019] Epoch:184\n",
      "[Fri Jul 19 14:34:19 2019] Epoch:185\n",
      "[Fri Jul 19 14:34:30 2019] Epoch:186\n",
      "[Fri Jul 19 14:34:40 2019] Epoch:187\n",
      "[Fri Jul 19 14:34:52 2019] Epoch:188\n",
      "[Fri Jul 19 14:35:02 2019] Epoch:189\n",
      "[Fri Jul 19 14:35:13 2019] Epoch:190\n",
      "[Fri Jul 19 14:35:22 2019] Epoch:191\n",
      "[Fri Jul 19 14:35:31 2019] Epoch:192\n",
      "[Fri Jul 19 14:35:40 2019] Epoch:193\n",
      "[Fri Jul 19 14:35:50 2019] Epoch:194\n",
      "[Fri Jul 19 14:36:03 2019] Epoch:195\n",
      "[Fri Jul 19 14:36:11 2019] Epoch:196\n",
      "[Fri Jul 19 14:36:20 2019] Epoch:197\n",
      "[Fri Jul 19 14:36:30 2019] Epoch:198\n",
      "[Fri Jul 19 14:36:40 2019] Epoch:199\n",
      "[Fri Jul 19 14:36:49 2019] Epoch:200\n",
      "[Fri Jul 19 14:36:58 2019] Epoch:201\n",
      "[Fri Jul 19 14:37:07 2019] Epoch:202\n",
      "[Fri Jul 19 14:37:19 2019] Epoch:203\n",
      "[Fri Jul 19 14:37:28 2019] Epoch:204\n",
      "[Fri Jul 19 14:37:37 2019] Epoch:205\n",
      "[Fri Jul 19 14:37:46 2019] Epoch:206\n",
      "[Fri Jul 19 14:37:56 2019] Epoch:207\n",
      "[Fri Jul 19 14:38:07 2019] Epoch:208\n",
      "[Fri Jul 19 14:38:17 2019] Epoch:209\n",
      "[Fri Jul 19 14:38:26 2019] Epoch:210\n",
      "[Fri Jul 19 14:38:35 2019] Epoch:211\n",
      "[Fri Jul 19 14:38:45 2019] Epoch:212\n",
      "[Fri Jul 19 14:38:57 2019] Epoch:213\n",
      "[Fri Jul 19 14:39:06 2019] Epoch:214\n",
      "[Fri Jul 19 14:39:15 2019] Epoch:215\n",
      "[Fri Jul 19 14:39:25 2019] Epoch:216\n",
      "[Fri Jul 19 14:39:34 2019] Epoch:217\n",
      "[Fri Jul 19 14:39:46 2019] Epoch:218\n",
      "[Fri Jul 19 14:39:55 2019] Epoch:219\n",
      "[Fri Jul 19 14:40:05 2019] Epoch:220\n",
      "[Fri Jul 19 14:40:14 2019] Epoch:221\n",
      "[Fri Jul 19 14:40:25 2019] Epoch:222\n",
      "[Fri Jul 19 14:40:38 2019] Epoch:223\n",
      "[Fri Jul 19 14:40:47 2019] Epoch:224\n"
     ]
    },
    {
     "name": "stdout",
     "output_type": "stream",
     "text": [
      "[Fri Jul 19 14:40:57 2019] Epoch:225\n",
      "[Fri Jul 19 14:41:06 2019] Epoch:226\n",
      "[Fri Jul 19 14:41:16 2019] Epoch:227\n",
      "[Fri Jul 19 14:41:25 2019] Epoch:228\n",
      "[Fri Jul 19 14:41:38 2019] Epoch:229\n",
      "[Fri Jul 19 14:41:48 2019] Epoch:230\n",
      "[Fri Jul 19 14:41:58 2019] Epoch:231\n",
      "[Fri Jul 19 14:42:08 2019] Epoch:232\n",
      "[Fri Jul 19 14:42:18 2019] Epoch:233\n",
      "[Fri Jul 19 14:42:31 2019] Epoch:234\n",
      "[Fri Jul 19 14:42:41 2019] Epoch:235\n",
      "[Fri Jul 19 14:42:52 2019] Epoch:236\n",
      "[Fri Jul 19 14:43:02 2019] Epoch:237\n",
      "[Fri Jul 19 14:43:12 2019] Epoch:238\n",
      "[Fri Jul 19 14:43:23 2019] Epoch:239\n",
      "[Fri Jul 19 14:43:35 2019] Epoch:240\n",
      "[Fri Jul 19 14:43:46 2019] Epoch:241\n",
      "[Fri Jul 19 14:43:59 2019] Epoch:242\n",
      "[Fri Jul 19 14:44:09 2019] Epoch:243\n",
      "[Fri Jul 19 14:44:19 2019] Epoch:244\n",
      "[Fri Jul 19 14:44:31 2019] Epoch:245\n",
      "[Fri Jul 19 14:44:40 2019] Epoch:246\n",
      "[Fri Jul 19 14:44:51 2019] Epoch:247\n",
      "[Fri Jul 19 14:45:02 2019] Epoch:248\n",
      "[Fri Jul 19 14:45:12 2019] Epoch:249\n",
      "[Fri Jul 19 14:45:22 2019] Epoch:250\n",
      "[Fri Jul 19 14:45:33 2019] Epoch:251\n",
      "[Fri Jul 19 14:45:46 2019] Epoch:252\n",
      "[Fri Jul 19 14:45:56 2019] Epoch:253\n",
      "[Fri Jul 19 14:46:07 2019] Epoch:254\n",
      "[Fri Jul 19 14:46:17 2019] Epoch:255\n",
      "[Fri Jul 19 14:46:27 2019] Epoch:256\n",
      "[Fri Jul 19 14:46:37 2019] Epoch:257\n",
      "[Fri Jul 19 14:46:49 2019] Epoch:258\n",
      "[Fri Jul 19 14:47:00 2019] Epoch:259\n",
      "[Fri Jul 19 14:47:10 2019] Epoch:260\n",
      "[Fri Jul 19 14:47:20 2019] Epoch:261\n",
      "[Fri Jul 19 14:47:31 2019] Epoch:262\n",
      "[Fri Jul 19 14:47:44 2019] Epoch:263\n",
      "[Fri Jul 19 14:47:55 2019] Epoch:264\n",
      "[Fri Jul 19 14:48:06 2019] Epoch:265\n",
      "[Fri Jul 19 14:48:17 2019] Epoch:266\n",
      "[Fri Jul 19 14:48:27 2019] Epoch:267\n",
      "[Fri Jul 19 14:48:37 2019] Epoch:268\n",
      "[Fri Jul 19 14:48:50 2019] Epoch:269\n",
      "[Fri Jul 19 14:49:01 2019] Epoch:270\n",
      "[Fri Jul 19 14:49:11 2019] Epoch:271\n",
      "[Fri Jul 19 14:49:23 2019] Epoch:272\n",
      "[Fri Jul 19 14:49:34 2019] Epoch:273\n",
      "[Fri Jul 19 14:49:48 2019] Epoch:274\n",
      "[Fri Jul 19 14:49:59 2019] Epoch:275\n",
      "[Fri Jul 19 14:50:10 2019] Epoch:276\n",
      "[Fri Jul 19 14:50:21 2019] Epoch:277\n",
      "[Fri Jul 19 14:50:31 2019] Epoch:278\n",
      "[Fri Jul 19 14:50:43 2019] Epoch:279\n",
      "[Fri Jul 19 14:50:56 2019] Epoch:280\n",
      "[Fri Jul 19 14:51:07 2019] Epoch:281\n",
      "[Fri Jul 19 14:51:18 2019] Epoch:282\n",
      "[Fri Jul 19 14:51:32 2019] Epoch:283\n",
      "[Fri Jul 19 14:51:43 2019] Epoch:284\n",
      "[Fri Jul 19 14:52:00 2019] Epoch:285\n",
      "[Fri Jul 19 14:52:11 2019] Epoch:286\n",
      "[Fri Jul 19 14:52:22 2019] Epoch:287\n",
      "[Fri Jul 19 14:52:33 2019] Epoch:288\n",
      "[Fri Jul 19 14:52:43 2019] Epoch:289\n",
      "[Fri Jul 19 14:52:57 2019] Epoch:290\n",
      "[Fri Jul 19 14:53:09 2019] Epoch:291\n",
      "[Fri Jul 19 14:53:22 2019] Epoch:292\n",
      "[Fri Jul 19 14:53:34 2019] Epoch:293\n",
      "[Fri Jul 19 14:53:46 2019] Epoch:294\n",
      "[Fri Jul 19 14:54:01 2019] Epoch:295\n",
      "[Fri Jul 19 14:54:13 2019] Epoch:296\n",
      "[Fri Jul 19 14:54:24 2019] Epoch:297\n",
      "[Fri Jul 19 14:54:37 2019] Epoch:298\n",
      "[Fri Jul 19 14:54:48 2019] Epoch:299\n",
      "[Fri Jul 19 14:55:02 2019] Epoch:300\n",
      "[Fri Jul 19 14:55:15 2019] Epoch:301\n",
      "[Fri Jul 19 14:55:28 2019] Epoch:302\n",
      "[Fri Jul 19 14:55:40 2019] Epoch:303\n",
      "[Fri Jul 19 14:55:52 2019] Epoch:304\n",
      "[Fri Jul 19 14:56:06 2019] Epoch:305\n",
      "[Fri Jul 19 14:56:21 2019] Epoch:306\n",
      "[Fri Jul 19 14:56:33 2019] Epoch:307\n",
      "[Fri Jul 19 14:56:46 2019] Epoch:308\n",
      "[Fri Jul 19 14:56:59 2019] Epoch:309\n",
      "[Fri Jul 19 14:57:11 2019] Epoch:310\n",
      "[Fri Jul 19 14:57:26 2019] Epoch:311\n",
      "[Fri Jul 19 14:57:39 2019] Epoch:312\n",
      "[Fri Jul 19 14:57:52 2019] Epoch:313\n",
      "[Fri Jul 19 14:58:04 2019] Epoch:314\n",
      "[Fri Jul 19 14:58:17 2019] Epoch:315\n",
      "[Fri Jul 19 14:58:29 2019] Epoch:316\n",
      "[Fri Jul 19 14:58:43 2019] Epoch:317\n",
      "[Fri Jul 19 14:58:58 2019] Epoch:318\n",
      "[Fri Jul 19 14:59:11 2019] Epoch:319\n",
      "[Fri Jul 19 14:59:23 2019] Epoch:320\n",
      "[Fri Jul 19 14:59:36 2019] Epoch:321\n",
      "[Fri Jul 19 14:59:49 2019] Epoch:322\n",
      "[Fri Jul 19 15:00:03 2019] Epoch:323\n",
      "[Fri Jul 19 15:00:16 2019] Epoch:324\n",
      "[Fri Jul 19 15:00:28 2019] Epoch:325\n",
      "[Fri Jul 19 15:00:41 2019] Epoch:326\n",
      "[Fri Jul 19 15:00:54 2019] Epoch:327\n",
      "[Fri Jul 19 15:01:11 2019] Epoch:328\n",
      "[Fri Jul 19 15:01:23 2019] Epoch:329\n",
      "[Fri Jul 19 15:01:36 2019] Epoch:330\n",
      "[Fri Jul 19 15:01:49 2019] Epoch:331\n",
      "[Fri Jul 19 15:02:02 2019] Epoch:332\n",
      "[Fri Jul 19 15:02:17 2019] Epoch:333\n",
      "[Fri Jul 19 15:02:30 2019] Epoch:334\n",
      "[Fri Jul 19 15:02:41 2019] Epoch:335\n",
      "[Fri Jul 19 15:02:52 2019] Epoch:336\n",
      "[Fri Jul 19 15:03:05 2019] Epoch:337\n",
      "[Fri Jul 19 15:03:21 2019] Epoch:338\n",
      "[Fri Jul 19 15:03:33 2019] Epoch:339\n",
      "[Fri Jul 19 15:03:45 2019] Epoch:340\n",
      "[Fri Jul 19 15:03:58 2019] Epoch:341\n",
      "[Fri Jul 19 15:04:10 2019] Epoch:342\n",
      "[Fri Jul 19 15:04:22 2019] Epoch:343\n",
      "[Fri Jul 19 15:04:36 2019] Epoch:344\n",
      "[Fri Jul 19 15:04:47 2019] Epoch:345\n",
      "[Fri Jul 19 15:05:00 2019] Epoch:346\n",
      "[Fri Jul 19 15:05:13 2019] Epoch:347\n",
      "[Fri Jul 19 15:05:27 2019] Epoch:348\n",
      "[Fri Jul 19 15:05:41 2019] Epoch:349\n",
      "[Fri Jul 19 15:05:54 2019] Epoch:350\n",
      "[Fri Jul 19 15:06:06 2019] Epoch:351\n",
      "[Fri Jul 19 15:06:18 2019] Epoch:352\n",
      "[Fri Jul 19 15:06:31 2019] Epoch:353\n",
      "[Fri Jul 19 15:06:43 2019] Epoch:354\n",
      "[Fri Jul 19 15:06:56 2019] Epoch:355\n",
      "[Fri Jul 19 15:07:09 2019] Epoch:356\n",
      "[Fri Jul 19 15:07:24 2019] Epoch:357\n",
      "[Fri Jul 19 15:07:37 2019] Epoch:358\n",
      "[Fri Jul 19 15:07:50 2019] Epoch:359\n",
      "[Fri Jul 19 15:08:02 2019] Epoch:360\n",
      "[Fri Jul 19 15:08:14 2019] Epoch:361\n",
      "[Fri Jul 19 15:08:30 2019] Epoch:362\n",
      "[Fri Jul 19 15:08:41 2019] Epoch:363\n",
      "[Fri Jul 19 15:08:54 2019] Epoch:364\n",
      "[Fri Jul 19 15:09:07 2019] Epoch:365\n",
      "[Fri Jul 19 15:09:21 2019] Epoch:366\n",
      "[Fri Jul 19 15:09:37 2019] Epoch:367\n",
      "[Fri Jul 19 15:09:50 2019] Epoch:368\n",
      "[Fri Jul 19 15:10:04 2019] Epoch:369\n",
      "[Fri Jul 19 15:10:17 2019] Epoch:370\n",
      "[Fri Jul 19 15:10:29 2019] Epoch:371\n",
      "[Fri Jul 19 15:10:45 2019] Epoch:372\n",
      "[Fri Jul 19 15:10:57 2019] Epoch:373\n",
      "[Fri Jul 19 15:11:10 2019] Epoch:374\n",
      "[Fri Jul 19 15:11:23 2019] Epoch:375\n",
      "[Fri Jul 19 15:11:37 2019] Epoch:376\n",
      "[Fri Jul 19 15:11:55 2019] Epoch:377\n",
      "[Fri Jul 19 15:12:09 2019] Epoch:378\n",
      "[Fri Jul 19 15:12:22 2019] Epoch:379\n",
      "[Fri Jul 19 15:12:37 2019] Epoch:380\n",
      "[Fri Jul 19 15:12:51 2019] Epoch:381\n",
      "[Fri Jul 19 15:13:10 2019] Epoch:382\n",
      "[Fri Jul 19 15:13:24 2019] Epoch:383\n",
      "[Fri Jul 19 15:13:38 2019] Epoch:384\n",
      "[Fri Jul 19 15:13:52 2019] Epoch:385\n",
      "[Fri Jul 19 15:14:05 2019] Epoch:386\n",
      "[Fri Jul 19 15:14:21 2019] Epoch:387\n",
      "[Fri Jul 19 15:14:35 2019] Epoch:388\n",
      "[Fri Jul 19 15:14:49 2019] Epoch:389\n",
      "[Fri Jul 19 15:15:02 2019] Epoch:390\n",
      "[Fri Jul 19 15:15:16 2019] Epoch:391\n",
      "[Fri Jul 19 15:15:30 2019] Epoch:392\n",
      "[Fri Jul 19 15:15:44 2019] Epoch:393\n",
      "[Fri Jul 19 15:15:58 2019] Epoch:394\n",
      "[Fri Jul 19 15:16:13 2019] Epoch:395\n",
      "[Fri Jul 19 15:16:29 2019] Epoch:396\n",
      "[Fri Jul 19 15:16:45 2019] Epoch:397\n",
      "[Fri Jul 19 15:17:00 2019] Epoch:398\n",
      "[Fri Jul 19 15:17:14 2019] Epoch:399\n",
      "[Fri Jul 19 15:17:29 2019] Epoch:400\n",
      "[Fri Jul 19 15:17:45 2019] Epoch:401\n",
      "[Fri Jul 19 15:17:59 2019] Epoch:402\n",
      "[Fri Jul 19 15:18:13 2019] Epoch:403\n",
      "[Fri Jul 19 15:18:27 2019] Epoch:404\n",
      "[Fri Jul 19 15:18:40 2019] Epoch:405\n",
      "[Fri Jul 19 15:18:55 2019] Epoch:406\n",
      "[Fri Jul 19 15:19:09 2019] Epoch:407\n",
      "[Fri Jul 19 15:19:22 2019] Epoch:408\n",
      "[Fri Jul 19 15:19:36 2019] Epoch:409\n",
      "[Fri Jul 19 15:19:50 2019] Epoch:410\n",
      "[Fri Jul 19 15:20:06 2019] Epoch:411\n",
      "[Fri Jul 19 15:20:21 2019] Epoch:412\n",
      "[Fri Jul 19 15:20:35 2019] Epoch:413\n",
      "[Fri Jul 19 15:20:49 2019] Epoch:414\n",
      "[Fri Jul 19 15:21:05 2019] Epoch:415\n",
      "[Fri Jul 19 15:21:21 2019] Epoch:416\n",
      "[Fri Jul 19 15:21:35 2019] Epoch:417\n",
      "[Fri Jul 19 15:21:49 2019] Epoch:418\n",
      "[Fri Jul 19 15:22:04 2019] Epoch:419\n",
      "[Fri Jul 19 15:22:18 2019] Epoch:420\n",
      "[Fri Jul 19 15:22:35 2019] Epoch:421\n",
      "[Fri Jul 19 15:22:50 2019] Epoch:422\n",
      "[Fri Jul 19 15:23:04 2019] Epoch:423\n",
      "[Fri Jul 19 15:23:20 2019] Epoch:424\n",
      "[Fri Jul 19 15:23:33 2019] Epoch:425\n",
      "[Fri Jul 19 15:23:48 2019] Epoch:426\n",
      "[Fri Jul 19 15:24:02 2019] Epoch:427\n",
      "[Fri Jul 19 15:24:17 2019] Epoch:428\n",
      "[Fri Jul 19 15:24:31 2019] Epoch:429\n",
      "[Fri Jul 19 15:24:45 2019] Epoch:430\n",
      "[Fri Jul 19 15:25:01 2019] Epoch:431\n",
      "[Fri Jul 19 15:25:16 2019] Epoch:432\n",
      "[Fri Jul 19 15:25:31 2019] Epoch:433\n",
      "[Fri Jul 19 15:25:46 2019] Epoch:434\n",
      "[Fri Jul 19 15:26:03 2019] Epoch:435\n",
      "[Fri Jul 19 15:26:16 2019] Epoch:436\n",
      "[Fri Jul 19 15:26:30 2019] Epoch:437\n",
      "[Fri Jul 19 15:26:46 2019] Epoch:438\n",
      "[Fri Jul 19 15:27:03 2019] Epoch:439\n",
      "[Fri Jul 19 15:27:17 2019] Epoch:440\n",
      "[Fri Jul 19 15:27:33 2019] Epoch:441\n",
      "[Fri Jul 19 15:27:47 2019] Epoch:442\n",
      "[Fri Jul 19 15:28:01 2019] Epoch:443\n",
      "[Fri Jul 19 15:28:16 2019] Epoch:444\n",
      "[Fri Jul 19 15:28:30 2019] Epoch:445\n",
      "[Fri Jul 19 15:28:44 2019] Epoch:446\n"
     ]
    },
    {
     "name": "stdout",
     "output_type": "stream",
     "text": [
      "[Fri Jul 19 15:28:58 2019] Epoch:447\n",
      "[Fri Jul 19 15:29:12 2019] Epoch:448\n",
      "[Fri Jul 19 15:29:27 2019] Epoch:449\n",
      "[Fri Jul 19 15:29:43 2019] Epoch:450\n",
      "[Fri Jul 19 15:30:01 2019] Epoch:451\n",
      "[Fri Jul 19 15:30:17 2019] Epoch:452\n",
      "[Fri Jul 19 15:30:33 2019] Epoch:453\n",
      "[Fri Jul 19 15:30:47 2019] Epoch:454\n",
      "[Fri Jul 19 15:31:03 2019] Epoch:455\n",
      "[Fri Jul 19 15:31:21 2019] Epoch:456\n",
      "[Fri Jul 19 15:31:36 2019] Epoch:457\n",
      "[Fri Jul 19 15:31:51 2019] Epoch:458\n",
      "[Fri Jul 19 15:32:06 2019] Epoch:459\n",
      "[Fri Jul 19 15:32:21 2019] Epoch:460\n",
      "[Fri Jul 19 15:32:37 2019] Epoch:461\n",
      "[Fri Jul 19 15:32:52 2019] Epoch:462\n",
      "[Fri Jul 19 15:33:07 2019] Epoch:463\n",
      "[Fri Jul 19 15:33:22 2019] Epoch:464\n",
      "[Fri Jul 19 15:33:37 2019] Epoch:465\n",
      "[Fri Jul 19 15:33:52 2019] Epoch:466\n",
      "[Fri Jul 19 15:34:07 2019] Epoch:467\n",
      "[Fri Jul 19 15:34:22 2019] Epoch:468\n",
      "[Fri Jul 19 15:34:37 2019] Epoch:469\n",
      "[Fri Jul 19 15:34:53 2019] Epoch:470\n",
      "[Fri Jul 19 15:35:09 2019] Epoch:471\n",
      "[Fri Jul 19 15:35:26 2019] Epoch:472\n",
      "[Fri Jul 19 15:35:42 2019] Epoch:473\n",
      "[Fri Jul 19 15:35:57 2019] Epoch:474\n",
      "[Fri Jul 19 15:36:12 2019] Epoch:475\n",
      "[Fri Jul 19 15:36:27 2019] Epoch:476\n",
      "[Fri Jul 19 15:36:45 2019] Epoch:477\n",
      "[Fri Jul 19 15:37:01 2019] Epoch:478\n",
      "[Fri Jul 19 15:37:17 2019] Epoch:479\n",
      "[Fri Jul 19 15:37:32 2019] Epoch:480\n",
      "[Fri Jul 19 15:37:48 2019] Epoch:481\n",
      "[Fri Jul 19 15:38:05 2019] Epoch:482\n",
      "[Fri Jul 19 15:38:21 2019] Epoch:483\n",
      "[Fri Jul 19 15:38:37 2019] Epoch:484\n",
      "[Fri Jul 19 15:38:54 2019] Epoch:485\n",
      "[Fri Jul 19 15:39:11 2019] Epoch:486\n",
      "[Fri Jul 19 15:39:25 2019] Epoch:487\n",
      "[Fri Jul 19 15:39:40 2019] Epoch:488\n",
      "[Fri Jul 19 15:39:55 2019] Epoch:489\n",
      "[Fri Jul 19 15:40:10 2019] Epoch:490\n",
      "[Fri Jul 19 15:40:25 2019] Epoch:491\n",
      "[Fri Jul 19 15:40:42 2019] Epoch:492\n",
      "[Fri Jul 19 15:40:58 2019] Epoch:493\n",
      "[Fri Jul 19 15:41:14 2019] Epoch:494\n",
      "[Fri Jul 19 15:41:30 2019] Epoch:495\n",
      "[Fri Jul 19 15:41:46 2019] Epoch:496\n",
      "[Fri Jul 19 15:42:04 2019] Epoch:497\n",
      "[Fri Jul 19 15:42:20 2019] Epoch:498\n",
      "[Fri Jul 19 15:42:36 2019] Epoch:499\n",
      "[Fri Jul 19 15:42:52 2019] Epoch:500\n",
      "[Fri Jul 19 15:43:08 2019] Epoch:501\n",
      "[Fri Jul 19 15:43:26 2019] Epoch:502\n",
      "[Fri Jul 19 15:43:41 2019] Epoch:503\n"
     ]
    },
    {
     "data": {
      "text/plain": [
       "(5000, [])"
      ]
     },
     "execution_count": 29,
     "metadata": {},
     "output_type": "execute_result"
    }
   ],
   "source": [
    "index_name = 'paper-detail-index'\n",
    "limit = 5000\n",
    "offset = 0\n",
    "for epoch in range(int(sql_table_rows/limit)):\n",
    "    print('[{0}] Epoch:{1}'.format(time.ctime(),epoch))\n",
    "    base_fetch_sql = 'select * from {dbName}.{tableName} limit {limitVolume} offset {offsetVolume}'\n",
    "    base_fetch_sql = base_fetch_sql.format(dbName='bioDB',tableName='paper_table',limitVolume=limit,offsetVolume=offset)\n",
    "    cursor.execute(base_fetch_sql)\n",
    "    sql_data = cursor.fetchall()\n",
    "    sql_dict = [data_to_json(i,sql_table_columns_name) for i in sql_data]\n",
    "    bulk(es,sql_dict,index=index_name,raise_on_error=True)\n",
    "    offset += limit - 1\n",
    "# 最后一桶\n",
    "base_fetch_sql = 'select * from {dbName}.{tableName} limit {limitVolume} offset {offsetVolume}'\n",
    "base_fetch_sql = base_fetch_sql.format(dbName='bioDB',tableName='paper_table',limitVolume=limit,offsetVolume=offset)\n",
    "cursor.execute(base_fetch_sql)\n",
    "sql_data = cursor.fetchall()\n",
    "sql_dict = [data_to_json(i,sql_table_columns_name) for i in sql_data]\n",
    "bulk(es,sql_dict,index=index_name,raise_on_error=True)"
   ]
  },
  {
   "cell_type": "code",
   "execution_count": 50,
   "metadata": {
    "ExecuteTime": {
     "end_time": "2019-07-16T16:58:05.746563Z",
     "start_time": "2019-07-16T16:58:05.739323Z"
    }
   },
   "outputs": [
    {
     "data": {
      "text/plain": [
       "True"
      ]
     },
     "execution_count": 50,
     "metadata": {},
     "output_type": "execute_result"
    }
   ],
   "source": [
    "cursor.close()"
   ]
  },
  {
   "cell_type": "code",
   "execution_count": 46,
   "metadata": {
    "ExecuteTime": {
     "end_time": "2019-07-16T16:46:51.758351Z",
     "start_time": "2019-07-16T16:46:51.754744Z"
    },
    "scrolled": true
   },
   "outputs": [
    {
     "data": {
      "text/plain": [
       "1278737"
      ]
     },
     "execution_count": 46,
     "metadata": {},
     "output_type": "execute_result"
    }
   ],
   "source": [
    "sql_table_rows"
   ]
  },
  {
   "cell_type": "code",
   "execution_count": null,
   "metadata": {},
   "outputs": [],
   "source": []
  },
  {
   "cell_type": "markdown",
   "metadata": {},
   "source": [
    "# 读取库中author数据"
   ]
  },
  {
   "cell_type": "code",
   "execution_count": 51,
   "metadata": {
    "ExecuteTime": {
     "end_time": "2019-07-16T17:01:00.381498Z",
     "start_time": "2019-07-16T17:01:00.379034Z"
    }
   },
   "outputs": [],
   "source": [
    "head = 'A_Cname, A_Ename, A_Normalized_name, A_Organ, A_Position, A_Fields , A_Pubs_num,\\\n",
    "    A_Citation_num, A_Index, A_Research_interest, A_Focus_Fields, A_Paper_ID, A_Co_ID, A_Co_name, A_Vector,\\\n",
    "    A_Red1, A_Red2, A_Red3, A_Red4, A_Red5'"
   ]
  },
  {
   "cell_type": "code",
   "execution_count": 52,
   "metadata": {
    "ExecuteTime": {
     "end_time": "2019-07-16T17:01:00.997881Z",
     "start_time": "2019-07-16T17:01:00.988763Z"
    }
   },
   "outputs": [],
   "source": [
    "head_columns = [i.strip() for i in head.split(',')]"
   ]
  },
  {
   "cell_type": "code",
   "execution_count": 56,
   "metadata": {
    "ExecuteTime": {
     "end_time": "2019-07-16T17:01:17.306415Z",
     "start_time": "2019-07-16T17:01:17.114197Z"
    }
   },
   "outputs": [],
   "source": [
    "cnx = mysql.connector.connect(user='root', password='ir@DUT#2018',\n",
    "                              host='10.8.128.205',port='23306')\n",
    "\n",
    "cursor = cnx.cursor()"
   ]
  },
  {
   "cell_type": "markdown",
   "metadata": {},
   "source": [
    "# 获取paper表头"
   ]
  },
  {
   "cell_type": "code",
   "execution_count": 57,
   "metadata": {
    "ExecuteTime": {
     "end_time": "2019-07-16T17:01:18.094095Z",
     "start_time": "2019-07-16T17:01:18.089496Z"
    }
   },
   "outputs": [],
   "source": [
    "cursor.execute(\"select * from information_schema.columns where table_name='author_table'\")"
   ]
  },
  {
   "cell_type": "code",
   "execution_count": 58,
   "metadata": {
    "ExecuteTime": {
     "end_time": "2019-07-16T17:01:20.264250Z",
     "start_time": "2019-07-16T17:01:20.260130Z"
    }
   },
   "outputs": [],
   "source": [
    "sql_table_columns = cursor.fetchall()"
   ]
  },
  {
   "cell_type": "code",
   "execution_count": 59,
   "metadata": {
    "ExecuteTime": {
     "end_time": "2019-07-16T17:01:20.844960Z",
     "start_time": "2019-07-16T17:01:20.832848Z"
    }
   },
   "outputs": [],
   "source": [
    "sql_table_columns_name = [i[3] for i in sql_table_columns]"
   ]
  },
  {
   "cell_type": "code",
   "execution_count": 60,
   "metadata": {
    "ExecuteTime": {
     "end_time": "2019-07-16T17:01:21.017893Z",
     "start_time": "2019-07-16T17:01:21.014058Z"
    },
    "scrolled": true
   },
   "outputs": [
    {
     "data": {
      "text/plain": [
       "['A_ID',\n",
       " 'A_Cname',\n",
       " 'A_Ename',\n",
       " 'A_Normalized_name',\n",
       " 'A_Organ',\n",
       " 'A_Position',\n",
       " 'A_Fields',\n",
       " 'A_Pubs_num',\n",
       " 'A_Citation_num',\n",
       " 'A_Index',\n",
       " 'A_Research_interest',\n",
       " 'A_Focus_Fields',\n",
       " 'A_Paper_ID',\n",
       " 'A_Co_ID',\n",
       " 'A_Co_name',\n",
       " 'A_Vector',\n",
       " 'A_Red1',\n",
       " 'A_Red2',\n",
       " 'A_Red3',\n",
       " 'A_Red4',\n",
       " 'A_Red5']"
      ]
     },
     "execution_count": 60,
     "metadata": {},
     "output_type": "execute_result"
    }
   ],
   "source": [
    "sql_table_columns_name"
   ]
  },
  {
   "cell_type": "markdown",
   "metadata": {},
   "source": [
    "# 获取paper表总容量"
   ]
  },
  {
   "cell_type": "code",
   "execution_count": 61,
   "metadata": {
    "ExecuteTime": {
     "end_time": "2019-07-16T17:01:49.707011Z",
     "start_time": "2019-07-16T17:01:49.701577Z"
    }
   },
   "outputs": [],
   "source": [
    "cursor.execute(\"select table_rows from information_schema.tables where table_name='author_table'\")"
   ]
  },
  {
   "cell_type": "code",
   "execution_count": 62,
   "metadata": {
    "ExecuteTime": {
     "end_time": "2019-07-16T17:01:50.660008Z",
     "start_time": "2019-07-16T17:01:50.644058Z"
    },
    "scrolled": true
   },
   "outputs": [],
   "source": [
    "sql_table_rows = cursor.fetchall()"
   ]
  },
  {
   "cell_type": "code",
   "execution_count": 63,
   "metadata": {
    "ExecuteTime": {
     "end_time": "2019-07-16T17:01:50.804496Z",
     "start_time": "2019-07-16T17:01:50.801788Z"
    }
   },
   "outputs": [],
   "source": [
    "sql_table_rows = sql_table_rows[0][0]"
   ]
  },
  {
   "cell_type": "code",
   "execution_count": 70,
   "metadata": {
    "ExecuteTime": {
     "end_time": "2019-07-16T17:05:01.597125Z",
     "start_time": "2019-07-16T17:05:01.586024Z"
    }
   },
   "outputs": [],
   "source": [
    "def data_to_json_author(data_atom):\n",
    "    data = data_atom[1:]\n",
    "    data_dict = {k:data[num] for num,k in enumerate(head_columns)}\n",
    "    return data_dict"
   ]
  },
  {
   "cell_type": "markdown",
   "metadata": {},
   "source": [
    "# 每次查询limit数目的数值 同时批量插入author"
   ]
  },
  {
   "cell_type": "code",
   "execution_count": 73,
   "metadata": {
    "ExecuteTime": {
     "end_time": "2019-07-16T17:12:24.706465Z",
     "start_time": "2019-07-16T17:12:24.703863Z"
    }
   },
   "outputs": [],
   "source": [
    "from elasticsearch.helpers import bulk"
   ]
  },
  {
   "cell_type": "code",
   "execution_count": 74,
   "metadata": {
    "ExecuteTime": {
     "end_time": "2019-07-16T17:12:25.189296Z",
     "start_time": "2019-07-16T17:12:25.177365Z"
    }
   },
   "outputs": [],
   "source": [
    "es = Elasticsearch(hosts='10.8.128.205',port=49200,timeout=30, max_retries=10, retry_on_timeout=True)"
   ]
  },
  {
   "cell_type": "code",
   "execution_count": 75,
   "metadata": {
    "ExecuteTime": {
     "end_time": "2019-07-16T17:30:20.936939Z",
     "start_time": "2019-07-16T17:13:56.513556Z"
    },
    "scrolled": true
   },
   "outputs": [
    {
     "name": "stdout",
     "output_type": "stream",
     "text": [
      "[Wed Jul 17 01:13:56 2019] Epoch:0\n",
      "[Wed Jul 17 01:14:02 2019] Epoch:1\n",
      "[Wed Jul 17 01:14:07 2019] Epoch:2\n",
      "[Wed Jul 17 01:14:12 2019] Epoch:3\n",
      "[Wed Jul 17 01:14:17 2019] Epoch:4\n",
      "[Wed Jul 17 01:14:22 2019] Epoch:5\n",
      "[Wed Jul 17 01:14:27 2019] Epoch:6\n",
      "[Wed Jul 17 01:14:31 2019] Epoch:7\n",
      "[Wed Jul 17 01:14:36 2019] Epoch:8\n",
      "[Wed Jul 17 01:14:41 2019] Epoch:9\n",
      "[Wed Jul 17 01:14:46 2019] Epoch:10\n",
      "[Wed Jul 17 01:14:51 2019] Epoch:11\n",
      "[Wed Jul 17 01:14:56 2019] Epoch:12\n",
      "[Wed Jul 17 01:15:01 2019] Epoch:13\n",
      "[Wed Jul 17 01:15:06 2019] Epoch:14\n",
      "[Wed Jul 17 01:15:11 2019] Epoch:15\n",
      "[Wed Jul 17 01:15:16 2019] Epoch:16\n",
      "[Wed Jul 17 01:15:21 2019] Epoch:17\n",
      "[Wed Jul 17 01:15:26 2019] Epoch:18\n",
      "[Wed Jul 17 01:15:32 2019] Epoch:19\n",
      "[Wed Jul 17 01:15:37 2019] Epoch:20\n",
      "[Wed Jul 17 01:15:42 2019] Epoch:21\n",
      "[Wed Jul 17 01:15:47 2019] Epoch:22\n",
      "[Wed Jul 17 01:15:52 2019] Epoch:23\n",
      "[Wed Jul 17 01:15:57 2019] Epoch:24\n",
      "[Wed Jul 17 01:16:02 2019] Epoch:25\n",
      "[Wed Jul 17 01:16:08 2019] Epoch:26\n",
      "[Wed Jul 17 01:16:13 2019] Epoch:27\n",
      "[Wed Jul 17 01:16:18 2019] Epoch:28\n",
      "[Wed Jul 17 01:16:23 2019] Epoch:29\n",
      "[Wed Jul 17 01:16:35 2019] Epoch:30\n",
      "[Wed Jul 17 01:16:44 2019] Epoch:31\n",
      "[Wed Jul 17 01:16:49 2019] Epoch:32\n",
      "[Wed Jul 17 01:16:54 2019] Epoch:33\n",
      "[Wed Jul 17 01:16:59 2019] Epoch:34\n",
      "[Wed Jul 17 01:17:05 2019] Epoch:35\n",
      "[Wed Jul 17 01:17:10 2019] Epoch:36\n",
      "[Wed Jul 17 01:17:16 2019] Epoch:37\n",
      "[Wed Jul 17 01:17:21 2019] Epoch:38\n",
      "[Wed Jul 17 01:17:27 2019] Epoch:39\n",
      "[Wed Jul 17 01:17:34 2019] Epoch:40\n",
      "[Wed Jul 17 01:17:39 2019] Epoch:41\n",
      "[Wed Jul 17 01:17:44 2019] Epoch:42\n",
      "[Wed Jul 17 01:17:50 2019] Epoch:43\n",
      "[Wed Jul 17 01:17:55 2019] Epoch:44\n",
      "[Wed Jul 17 01:18:00 2019] Epoch:45\n",
      "[Wed Jul 17 01:18:06 2019] Epoch:46\n",
      "[Wed Jul 17 01:18:11 2019] Epoch:47\n",
      "[Wed Jul 17 01:18:17 2019] Epoch:48\n",
      "[Wed Jul 17 01:18:23 2019] Epoch:49\n",
      "[Wed Jul 17 01:18:29 2019] Epoch:50\n",
      "[Wed Jul 17 01:18:34 2019] Epoch:51\n",
      "[Wed Jul 17 01:18:40 2019] Epoch:52\n",
      "[Wed Jul 17 01:18:46 2019] Epoch:53\n",
      "[Wed Jul 17 01:18:52 2019] Epoch:54\n",
      "[Wed Jul 17 01:19:04 2019] Epoch:55\n",
      "[Wed Jul 17 01:19:10 2019] Epoch:56\n",
      "[Wed Jul 17 01:19:15 2019] Epoch:57\n",
      "[Wed Jul 17 01:19:21 2019] Epoch:58\n",
      "[Wed Jul 17 01:19:26 2019] Epoch:59\n",
      "[Wed Jul 17 01:19:32 2019] Epoch:60\n",
      "[Wed Jul 17 01:19:39 2019] Epoch:61\n",
      "[Wed Jul 17 01:19:44 2019] Epoch:62\n",
      "[Wed Jul 17 01:19:50 2019] Epoch:63\n",
      "[Wed Jul 17 01:19:57 2019] Epoch:64\n",
      "[Wed Jul 17 01:20:03 2019] Epoch:65\n",
      "[Wed Jul 17 01:20:10 2019] Epoch:66\n",
      "[Wed Jul 17 01:20:16 2019] Epoch:67\n",
      "[Wed Jul 17 01:20:23 2019] Epoch:68\n",
      "[Wed Jul 17 01:20:30 2019] Epoch:69\n",
      "[Wed Jul 17 01:20:36 2019] Epoch:70\n",
      "[Wed Jul 17 01:20:42 2019] Epoch:71\n",
      "[Wed Jul 17 01:20:50 2019] Epoch:72\n",
      "[Wed Jul 17 01:20:57 2019] Epoch:73\n",
      "[Wed Jul 17 01:21:03 2019] Epoch:74\n",
      "[Wed Jul 17 01:21:11 2019] Epoch:75\n",
      "[Wed Jul 17 01:21:18 2019] Epoch:76\n",
      "[Wed Jul 17 01:21:31 2019] Epoch:77\n",
      "[Wed Jul 17 01:21:39 2019] Epoch:78\n",
      "[Wed Jul 17 01:21:50 2019] Epoch:79\n",
      "[Wed Jul 17 01:21:56 2019] Epoch:80\n",
      "[Wed Jul 17 01:22:03 2019] Epoch:81\n",
      "[Wed Jul 17 01:22:10 2019] Epoch:82\n",
      "[Wed Jul 17 01:22:17 2019] Epoch:83\n",
      "[Wed Jul 17 01:22:24 2019] Epoch:84\n",
      "[Wed Jul 17 01:22:31 2019] Epoch:85\n",
      "[Wed Jul 17 01:22:37 2019] Epoch:86\n",
      "[Wed Jul 17 01:22:45 2019] Epoch:87\n",
      "[Wed Jul 17 01:22:52 2019] Epoch:88\n",
      "[Wed Jul 17 01:22:59 2019] Epoch:89\n",
      "[Wed Jul 17 01:23:06 2019] Epoch:90\n",
      "[Wed Jul 17 01:23:13 2019] Epoch:91\n",
      "[Wed Jul 17 01:23:20 2019] Epoch:92\n",
      "[Wed Jul 17 01:23:28 2019] Epoch:93\n",
      "[Wed Jul 17 01:23:35 2019] Epoch:94\n",
      "[Wed Jul 17 01:23:43 2019] Epoch:95\n",
      "[Wed Jul 17 01:23:49 2019] Epoch:96\n",
      "[Wed Jul 17 01:23:56 2019] Epoch:97\n",
      "[Wed Jul 17 01:24:03 2019] Epoch:98\n",
      "[Wed Jul 17 01:24:10 2019] Epoch:99\n",
      "[Wed Jul 17 01:24:24 2019] Epoch:100\n",
      "[Wed Jul 17 01:24:32 2019] Epoch:101\n",
      "[Wed Jul 17 01:24:40 2019] Epoch:102\n",
      "[Wed Jul 17 01:24:49 2019] Epoch:103\n",
      "[Wed Jul 17 01:24:56 2019] Epoch:104\n",
      "[Wed Jul 17 01:25:03 2019] Epoch:105\n",
      "[Wed Jul 17 01:25:11 2019] Epoch:106\n",
      "[Wed Jul 17 01:25:18 2019] Epoch:107\n",
      "[Wed Jul 17 01:25:25 2019] Epoch:108\n",
      "[Wed Jul 17 01:25:33 2019] Epoch:109\n",
      "[Wed Jul 17 01:25:40 2019] Epoch:110\n",
      "[Wed Jul 17 01:25:48 2019] Epoch:111\n",
      "[Wed Jul 17 01:25:56 2019] Epoch:112\n",
      "[Wed Jul 17 01:26:03 2019] Epoch:113\n",
      "[Wed Jul 17 01:26:10 2019] Epoch:114\n",
      "[Wed Jul 17 01:26:18 2019] Epoch:115\n",
      "[Wed Jul 17 01:26:26 2019] Epoch:116\n",
      "[Wed Jul 17 01:26:34 2019] Epoch:117\n",
      "[Wed Jul 17 01:26:41 2019] Epoch:118\n",
      "[Wed Jul 17 01:26:49 2019] Epoch:119\n",
      "[Wed Jul 17 01:27:00 2019] Epoch:120\n",
      "[Wed Jul 17 01:27:09 2019] Epoch:121\n",
      "[Wed Jul 17 01:27:17 2019] Epoch:122\n",
      "[Wed Jul 17 01:27:25 2019] Epoch:123\n",
      "[Wed Jul 17 01:27:33 2019] Epoch:124\n",
      "[Wed Jul 17 01:27:41 2019] Epoch:125\n",
      "[Wed Jul 17 01:27:48 2019] Epoch:126\n",
      "[Wed Jul 17 01:27:56 2019] Epoch:127\n",
      "[Wed Jul 17 01:28:04 2019] Epoch:128\n",
      "[Wed Jul 17 01:28:12 2019] Epoch:129\n",
      "[Wed Jul 17 01:28:20 2019] Epoch:130\n",
      "[Wed Jul 17 01:28:28 2019] Epoch:131\n",
      "[Wed Jul 17 01:28:40 2019] Epoch:132\n",
      "[Wed Jul 17 01:28:54 2019] Epoch:133\n",
      "[Wed Jul 17 01:29:02 2019] Epoch:134\n",
      "[Wed Jul 17 01:29:12 2019] Epoch:135\n",
      "[Wed Jul 17 01:29:20 2019] Epoch:136\n",
      "[Wed Jul 17 01:29:29 2019] Epoch:137\n",
      "[Wed Jul 17 01:29:38 2019] Epoch:138\n",
      "[Wed Jul 17 01:29:46 2019] Epoch:139\n",
      "[Wed Jul 17 01:29:54 2019] Epoch:140\n",
      "[Wed Jul 17 01:30:03 2019] Epoch:141\n"
     ]
    },
    {
     "data": {
      "text/plain": [
       "(10000, [])"
      ]
     },
     "execution_count": 75,
     "metadata": {},
     "output_type": "execute_result"
    }
   ],
   "source": [
    "limit = 10000\n",
    "offset = 0\n",
    "for epoch in range(int(sql_table_rows/limit)):\n",
    "    print('[{0}] Epoch:{1}'.format(time.ctime(),epoch))\n",
    "    base_fetch_sql = 'select * from {dbName}.{tableName} limit {limitVolume} offset {offsetVolume}'\n",
    "    base_fetch_sql = base_fetch_sql.format(dbName='bioDB',tableName='author_table',limitVolume=limit,offsetVolume=offset)\n",
    "    cursor.execute(base_fetch_sql)\n",
    "    sql_data = cursor.fetchall()\n",
    "    sql_dict = [data_to_json_author(i) for i in sql_data]\n",
    "    bulk(es,sql_dict,index='paper-author-index',raise_on_error=True)\n",
    "    offset += limit - 1\n",
    "# 最后一桶\n",
    "base_fetch_sql = 'select * from {dbName}.{tableName} limit {limitVolume} offset {offsetVolume}'\n",
    "base_fetch_sql = base_fetch_sql.format(dbName='bioDB',tableName='author_table',limitVolume=limit,offsetVolume=offset)\n",
    "cursor.execute(base_fetch_sql)\n",
    "sql_data = cursor.fetchall()\n",
    "sql_dict = [data_to_json_author(i) for i in sql_data]\n",
    "bulk(es,sql_dict,index='paper-author-index',raise_on_error=True)"
   ]
  },
  {
   "cell_type": "markdown",
   "metadata": {},
   "source": [
    "# 设置ES状态为可写（触发硬盘存储超限后集群会自动配置所有索引为只读）"
   ]
  },
  {
   "cell_type": "code",
   "execution_count": 42,
   "metadata": {
    "ExecuteTime": {
     "end_time": "2019-07-16T15:59:20.352083Z",
     "start_time": "2019-07-16T15:59:20.165817Z"
    }
   },
   "outputs": [],
   "source": [
    "import json\n",
    "\n",
    "import requests\n",
    "\n",
    "headers = {\n",
    "    'Accept': 'application/json, text/javascript, */*; q=0.01',\n",
    "    'Content-Type': 'application/json',\n",
    "    'Origin': 'chrome-extension://ffmkiejjmecolpfloofpjologoblkegm',\n",
    "    'User-Agent': 'Mozilla/5.0 (Windows NT 10.0; Win64; x64) AppleWebKit/537.36 (KHTML, like Gecko) Chrome/75.0.3770.100 Safari/537.36'\n",
    "}\n",
    "\n",
    "unlock_dict = {\n",
    "\"index.blocks.read_only_allow_delete\": \"false\"\n",
    "}\n",
    "\n",
    "ppp = requests.put('http://10.8.128.205:49200/paper-year-index/_settings',data=json.dumps(unlock_dict),headers=headers)"
   ]
  },
  {
   "cell_type": "code",
   "execution_count": 43,
   "metadata": {
    "ExecuteTime": {
     "end_time": "2019-07-16T15:59:20.357832Z",
     "start_time": "2019-07-16T15:59:20.354214Z"
    }
   },
   "outputs": [
    {
     "data": {
      "text/plain": [
       "'{\"acknowledged\":true}'"
      ]
     },
     "execution_count": 43,
     "metadata": {},
     "output_type": "execute_result"
    }
   ],
   "source": [
    "ppp.text"
   ]
  },
  {
   "cell_type": "markdown",
   "metadata": {},
   "source": [
    "# 论文检索对象"
   ]
  },
  {
   "cell_type": "code",
   "execution_count": 81,
   "metadata": {
    "ExecuteTime": {
     "end_time": "2019-07-16T13:03:44.537084Z",
     "start_time": "2019-07-16T13:03:44.510994Z"
    }
   },
   "outputs": [],
   "source": [
    "ess = esPatentRetrieval(host='10.8.128.205',port=29200)"
   ]
  },
  {
   "cell_type": "code",
   "execution_count": null,
   "metadata": {
    "ExecuteTime": {
     "end_time": "2019-07-16T13:03:45.596267Z",
     "start_time": "2019-07-16T13:03:45.229101Z"
    },
    "scrolled": true
   },
   "outputs": [],
   "source": [
    "ess.Retrieval('机器人','2000-01-22','2010-01-22',volume=100)"
   ]
  },
  {
   "cell_type": "code",
   "execution_count": null,
   "metadata": {},
   "outputs": [],
   "source": []
  }
 ],
 "metadata": {
  "kernelspec": {
   "display_name": "Python 3",
   "language": "python",
   "name": "python3"
  },
  "language_info": {
   "codemirror_mode": {
    "name": "ipython",
    "version": 3
   },
   "file_extension": ".py",
   "mimetype": "text/x-python",
   "name": "python",
   "nbconvert_exporter": "python",
   "pygments_lexer": "ipython3",
   "version": "3.6.8"
  }
 },
 "nbformat": 4,
 "nbformat_minor": 2
}
