{
 "cells": [
  {
   "cell_type": "code",
   "execution_count": 1,
   "metadata": {
    "ExecuteTime": {
     "end_time": "2019-07-16T15:43:45.696179Z",
     "start_time": "2019-07-16T15:43:44.801664Z"
    }
   },
   "outputs": [],
   "source": [
    "import time\n",
    "import random\n",
    "import os\n",
    "import re\n",
    "import pandas as pd\n",
    "import numpy as np\n",
    "from datetime import datetime\n",
    "from elasticsearch import Elasticsearch "
   ]
  },
  {
   "cell_type": "code",
   "execution_count": 2,
   "metadata": {
    "ExecuteTime": {
     "end_time": "2019-07-16T15:43:45.734233Z",
     "start_time": "2019-07-16T15:43:45.698862Z"
    }
   },
   "outputs": [],
   "source": [
    "import mysql.connector"
   ]
  },
  {
   "cell_type": "markdown",
   "metadata": {},
   "source": [
    "# 日期处理"
   ]
  },
  {
   "cell_type": "code",
   "execution_count": 3,
   "metadata": {
    "ExecuteTime": {
     "end_time": "2019-07-16T15:43:45.804024Z",
     "start_time": "2019-07-16T15:43:45.736056Z"
    }
   },
   "outputs": [],
   "source": [
    "def date_convert(dot_date_str):\n",
    "    '''xxxx.xx.xx --> xxxx-xx-xx\n",
    "    then pack into json for es\n",
    "    '''\n",
    "    y,m,d = dot_date_str.split('.')\n",
    "    new_date = '{year}-{month}-{date}'.format(year=y,month=m,date=d)\n",
    "    return new_date\n",
    "#     return {new_date:{'type':'date','formate':'yyyy-mm-dd'}}"
   ]
  },
  {
   "cell_type": "code",
   "execution_count": 4,
   "metadata": {
    "ExecuteTime": {
     "end_time": "2019-07-16T15:43:47.077070Z",
     "start_time": "2019-07-16T15:43:47.062592Z"
    }
   },
   "outputs": [],
   "source": [
    "def date_autofill(dot_date_str):\n",
    "    '''xxxx --> xxxx-01-01\n",
    "    then pack into json for es\n",
    "    '''\n",
    "    new_date = '{year}-{month}-{date}'.format(year=dot_date_str,month='01',date='01')\n",
    "    return new_date"
   ]
  },
  {
   "cell_type": "markdown",
   "metadata": {},
   "source": [
    "# 读取库中paper数据"
   ]
  },
  {
   "cell_type": "code",
   "execution_count": 5,
   "metadata": {
    "ExecuteTime": {
     "end_time": "2019-07-16T15:43:47.895743Z",
     "start_time": "2019-07-16T15:43:47.887705Z"
    }
   },
   "outputs": [],
   "source": [
    "head = 'P_Title, P_Author, P_Publication, P_Organ, P_year, P_Keyword, \\\n",
    "    P_Summary, P_Keyword_seg, P_Title_seg,\\\n",
    "    P_Summary_seg, P_URL, P_Fields, P_Fields_two,P_References, P_Pagecount, P_Page, P_Language,\\\n",
    "    P_Download_num, P_Citation_num,P_Vector,P_Volume, P_Issue,P_Issn,P_Isbn, P_Doi,\\\n",
    "    P_Red1, P_Red2, P_Red3, P_Red4, P_Red5'"
   ]
  },
  {
   "cell_type": "code",
   "execution_count": 6,
   "metadata": {
    "ExecuteTime": {
     "end_time": "2019-07-16T15:43:48.324449Z",
     "start_time": "2019-07-16T15:43:48.311111Z"
    }
   },
   "outputs": [],
   "source": [
    "head_columns = [i.strip() for i in head.split(',')]"
   ]
  },
  {
   "cell_type": "code",
   "execution_count": 8,
   "metadata": {
    "ExecuteTime": {
     "end_time": "2019-07-16T15:43:50.826131Z",
     "start_time": "2019-07-16T15:43:50.704363Z"
    }
   },
   "outputs": [],
   "source": [
    "cnx = mysql.connector.connect(user='root', password='ir@DUT#2018',\n",
    "                              host='10.8.128.205',port='23306')\n",
    "\n",
    "cursor = cnx.cursor()"
   ]
  },
  {
   "cell_type": "markdown",
   "metadata": {},
   "source": [
    "# 获取paper表头"
   ]
  },
  {
   "cell_type": "code",
   "execution_count": 9,
   "metadata": {
    "ExecuteTime": {
     "end_time": "2019-07-16T15:43:51.796467Z",
     "start_time": "2019-07-16T15:43:51.707918Z"
    }
   },
   "outputs": [],
   "source": [
    "cursor.execute(\"select * from information_schema.columns where table_name='paper_table'\")"
   ]
  },
  {
   "cell_type": "code",
   "execution_count": 10,
   "metadata": {
    "ExecuteTime": {
     "end_time": "2019-07-16T15:43:52.216299Z",
     "start_time": "2019-07-16T15:43:52.201767Z"
    }
   },
   "outputs": [],
   "source": [
    "sql_table_columns = cursor.fetchall()"
   ]
  },
  {
   "cell_type": "code",
   "execution_count": 11,
   "metadata": {
    "ExecuteTime": {
     "end_time": "2019-07-16T15:43:52.676484Z",
     "start_time": "2019-07-16T15:43:52.668424Z"
    }
   },
   "outputs": [],
   "source": [
    "sql_table_columns_name = [i[3] for i in sql_table_columns]"
   ]
  },
  {
   "cell_type": "code",
   "execution_count": 12,
   "metadata": {
    "ExecuteTime": {
     "end_time": "2019-07-16T15:43:53.045033Z",
     "start_time": "2019-07-16T15:43:53.039891Z"
    },
    "scrolled": true
   },
   "outputs": [
    {
     "data": {
      "text/plain": [
       "['P_ID',\n",
       " 'P_Title',\n",
       " 'P_Author',\n",
       " 'P_Publication',\n",
       " 'P_Organ',\n",
       " 'P_year',\n",
       " 'P_Keyword',\n",
       " 'P_Summary',\n",
       " 'P_Keyword_seg',\n",
       " 'P_Title_seg',\n",
       " 'P_Summary_seg',\n",
       " 'P_URL',\n",
       " 'P_Fields',\n",
       " 'P_Fields_two',\n",
       " 'P_References',\n",
       " 'P_Pagecount',\n",
       " 'P_Page',\n",
       " 'P_Language',\n",
       " 'P_Download_num',\n",
       " 'P_Citation_num',\n",
       " 'P_Vector',\n",
       " 'P_Volume',\n",
       " 'P_Issue',\n",
       " 'P_Issn',\n",
       " 'P_Isbn',\n",
       " 'P_Doi',\n",
       " 'P_Red1',\n",
       " 'P_Red2',\n",
       " 'P_Red3',\n",
       " 'P_Red4',\n",
       " 'P_Red5']"
      ]
     },
     "execution_count": 12,
     "metadata": {},
     "output_type": "execute_result"
    }
   ],
   "source": [
    "sql_table_columns_name"
   ]
  },
  {
   "cell_type": "markdown",
   "metadata": {},
   "source": [
    "# 获取paper表总容量"
   ]
  },
  {
   "cell_type": "code",
   "execution_count": 13,
   "metadata": {
    "ExecuteTime": {
     "end_time": "2019-07-16T15:43:54.188367Z",
     "start_time": "2019-07-16T15:43:54.184740Z"
    }
   },
   "outputs": [],
   "source": [
    "cursor.execute(\"select table_rows from information_schema.tables where table_name='paper_table'\")"
   ]
  },
  {
   "cell_type": "code",
   "execution_count": 14,
   "metadata": {
    "ExecuteTime": {
     "end_time": "2019-07-16T15:43:54.590251Z",
     "start_time": "2019-07-16T15:43:54.576847Z"
    },
    "scrolled": true
   },
   "outputs": [],
   "source": [
    "sql_table_rows = cursor.fetchall()"
   ]
  },
  {
   "cell_type": "code",
   "execution_count": 15,
   "metadata": {
    "ExecuteTime": {
     "end_time": "2019-07-16T15:43:54.765040Z",
     "start_time": "2019-07-16T15:43:54.750458Z"
    }
   },
   "outputs": [],
   "source": [
    "sql_table_rows = sql_table_rows[0][0]"
   ]
  },
  {
   "cell_type": "code",
   "execution_count": 16,
   "metadata": {
    "ExecuteTime": {
     "end_time": "2019-07-16T15:43:54.952101Z",
     "start_time": "2019-07-16T15:43:54.946773Z"
    }
   },
   "outputs": [],
   "source": [
    "def data_to_json(bio_data_atom):\n",
    "    data = bio_data_atom[1:]\n",
    "    data_dict = {k:data[num] for num,k in enumerate(head_columns)}\n",
    "    data_dict['P_year'] = date_autofill(data_dict['P_year'])\n",
    "    return data_dict"
   ]
  },
  {
   "cell_type": "markdown",
   "metadata": {},
   "source": [
    "# 构建索引"
   ]
  },
  {
   "cell_type": "code",
   "execution_count": 18,
   "metadata": {
    "ExecuteTime": {
     "end_time": "2019-07-16T15:44:11.533958Z",
     "start_time": "2019-07-16T15:44:11.524013Z"
    }
   },
   "outputs": [],
   "source": [
    "from elasticsearch.helpers import bulk"
   ]
  },
  {
   "cell_type": "code",
   "execution_count": 19,
   "metadata": {
    "ExecuteTime": {
     "end_time": "2019-07-16T15:44:11.833409Z",
     "start_time": "2019-07-16T15:44:11.829952Z"
    }
   },
   "outputs": [],
   "source": [
    "es = Elasticsearch(hosts='10.8.128.205',port=49200,timeout=30, max_retries=10, retry_on_timeout=True)"
   ]
  },
  {
   "cell_type": "markdown",
   "metadata": {},
   "source": [
    "# 每次查询limit数目的数值 同时批量插入paper"
   ]
  },
  {
   "cell_type": "code",
   "execution_count": null,
   "metadata": {
    "ExecuteTime": {
     "end_time": "2019-07-16T16:45:51.643275Z",
     "start_time": "2019-07-16T16:01:25.115136Z"
    },
    "scrolled": true
   },
   "outputs": [],
   "source": [
    "limit = 5000\n",
    "offset = 0\n",
    "for epoch in range(int(sql_table_rows/limit)):\n",
    "    print('[{0}] Epoch:{1}'.format(time.ctime(),epoch))\n",
    "    base_fetch_sql = 'select * from {dbName}.{tableName} limit {limitVolume} offset {offsetVolume}'\n",
    "    base_fetch_sql = base_fetch_sql.format(dbName='bioDB',tableName='paper_table',limitVolume=limit,offsetVolume=offset)\n",
    "    cursor.execute(base_fetch_sql)\n",
    "    sql_data = cursor.fetchall()\n",
    "    sql_dict = [data_to_json(i) for i in sql_data]\n",
    "    bulk(es,sql_dict,index='paper-year-index',raise_on_error=True)\n",
    "    offset += limit - 1\n",
    "# 最后一桶\n",
    "base_fetch_sql = 'select * from {dbName}.{tableName} limit {limitVolume} offset {offsetVolume}'\n",
    "base_fetch_sql = base_fetch_sql.format(dbName='bioDB',tableName='paper_table',limitVolume=limit,offsetVolume=offset)\n",
    "cursor.execute(base_fetch_sql)\n",
    "sql_data = cursor.fetchall()\n",
    "sql_dict = [data_to_json(i) for i in sql_data]\n",
    "bulk(es,sql_dict,index='paper-year-index',raise_on_error=True)"
   ]
  },
  {
   "cell_type": "code",
   "execution_count": 50,
   "metadata": {
    "ExecuteTime": {
     "end_time": "2019-07-16T16:58:05.746563Z",
     "start_time": "2019-07-16T16:58:05.739323Z"
    }
   },
   "outputs": [
    {
     "data": {
      "text/plain": [
       "True"
      ]
     },
     "execution_count": 50,
     "metadata": {},
     "output_type": "execute_result"
    }
   ],
   "source": [
    "cursor.close()"
   ]
  },
  {
   "cell_type": "code",
   "execution_count": 45,
   "metadata": {
    "ExecuteTime": {
     "end_time": "2019-07-16T16:46:40.383953Z",
     "start_time": "2019-07-16T16:46:40.380332Z"
    }
   },
   "outputs": [
    {
     "data": {
      "text/plain": [
       "1274745"
      ]
     },
     "execution_count": 45,
     "metadata": {},
     "output_type": "execute_result"
    }
   ],
   "source": [
    "offset"
   ]
  },
  {
   "cell_type": "code",
   "execution_count": 46,
   "metadata": {
    "ExecuteTime": {
     "end_time": "2019-07-16T16:46:51.758351Z",
     "start_time": "2019-07-16T16:46:51.754744Z"
    }
   },
   "outputs": [
    {
     "data": {
      "text/plain": [
       "1278737"
      ]
     },
     "execution_count": 46,
     "metadata": {},
     "output_type": "execute_result"
    }
   ],
   "source": [
    "sql_table_rows"
   ]
  },
  {
   "cell_type": "code",
   "execution_count": null,
   "metadata": {},
   "outputs": [],
   "source": []
  },
  {
   "cell_type": "markdown",
   "metadata": {},
   "source": [
    "# 读取库中author数据"
   ]
  },
  {
   "cell_type": "code",
   "execution_count": 51,
   "metadata": {
    "ExecuteTime": {
     "end_time": "2019-07-16T17:01:00.381498Z",
     "start_time": "2019-07-16T17:01:00.379034Z"
    }
   },
   "outputs": [],
   "source": [
    "head = 'A_Cname, A_Ename, A_Normalized_name, A_Organ, A_Position, A_Fields , A_Pubs_num,\\\n",
    "    A_Citation_num, A_Index, A_Research_interest, A_Focus_Fields, A_Paper_ID, A_Co_ID, A_Co_name, A_Vector,\\\n",
    "    A_Red1, A_Red2, A_Red3, A_Red4, A_Red5'"
   ]
  },
  {
   "cell_type": "code",
   "execution_count": 52,
   "metadata": {
    "ExecuteTime": {
     "end_time": "2019-07-16T17:01:00.997881Z",
     "start_time": "2019-07-16T17:01:00.988763Z"
    }
   },
   "outputs": [],
   "source": [
    "head_columns = [i.strip() for i in head.split(',')]"
   ]
  },
  {
   "cell_type": "code",
   "execution_count": 56,
   "metadata": {
    "ExecuteTime": {
     "end_time": "2019-07-16T17:01:17.306415Z",
     "start_time": "2019-07-16T17:01:17.114197Z"
    }
   },
   "outputs": [],
   "source": [
    "cnx = mysql.connector.connect(user='root', password='ir@DUT#2018',\n",
    "                              host='10.8.128.205',port='23306')\n",
    "\n",
    "cursor = cnx.cursor()"
   ]
  },
  {
   "cell_type": "markdown",
   "metadata": {},
   "source": [
    "# 获取paper表头"
   ]
  },
  {
   "cell_type": "code",
   "execution_count": 57,
   "metadata": {
    "ExecuteTime": {
     "end_time": "2019-07-16T17:01:18.094095Z",
     "start_time": "2019-07-16T17:01:18.089496Z"
    }
   },
   "outputs": [],
   "source": [
    "cursor.execute(\"select * from information_schema.columns where table_name='author_table'\")"
   ]
  },
  {
   "cell_type": "code",
   "execution_count": 58,
   "metadata": {
    "ExecuteTime": {
     "end_time": "2019-07-16T17:01:20.264250Z",
     "start_time": "2019-07-16T17:01:20.260130Z"
    }
   },
   "outputs": [],
   "source": [
    "sql_table_columns = cursor.fetchall()"
   ]
  },
  {
   "cell_type": "code",
   "execution_count": 59,
   "metadata": {
    "ExecuteTime": {
     "end_time": "2019-07-16T17:01:20.844960Z",
     "start_time": "2019-07-16T17:01:20.832848Z"
    }
   },
   "outputs": [],
   "source": [
    "sql_table_columns_name = [i[3] for i in sql_table_columns]"
   ]
  },
  {
   "cell_type": "code",
   "execution_count": 60,
   "metadata": {
    "ExecuteTime": {
     "end_time": "2019-07-16T17:01:21.017893Z",
     "start_time": "2019-07-16T17:01:21.014058Z"
    },
    "scrolled": true
   },
   "outputs": [
    {
     "data": {
      "text/plain": [
       "['A_ID',\n",
       " 'A_Cname',\n",
       " 'A_Ename',\n",
       " 'A_Normalized_name',\n",
       " 'A_Organ',\n",
       " 'A_Position',\n",
       " 'A_Fields',\n",
       " 'A_Pubs_num',\n",
       " 'A_Citation_num',\n",
       " 'A_Index',\n",
       " 'A_Research_interest',\n",
       " 'A_Focus_Fields',\n",
       " 'A_Paper_ID',\n",
       " 'A_Co_ID',\n",
       " 'A_Co_name',\n",
       " 'A_Vector',\n",
       " 'A_Red1',\n",
       " 'A_Red2',\n",
       " 'A_Red3',\n",
       " 'A_Red4',\n",
       " 'A_Red5']"
      ]
     },
     "execution_count": 60,
     "metadata": {},
     "output_type": "execute_result"
    }
   ],
   "source": [
    "sql_table_columns_name"
   ]
  },
  {
   "cell_type": "markdown",
   "metadata": {},
   "source": [
    "# 获取paper表总容量"
   ]
  },
  {
   "cell_type": "code",
   "execution_count": 61,
   "metadata": {
    "ExecuteTime": {
     "end_time": "2019-07-16T17:01:49.707011Z",
     "start_time": "2019-07-16T17:01:49.701577Z"
    }
   },
   "outputs": [],
   "source": [
    "cursor.execute(\"select table_rows from information_schema.tables where table_name='author_table'\")"
   ]
  },
  {
   "cell_type": "code",
   "execution_count": 62,
   "metadata": {
    "ExecuteTime": {
     "end_time": "2019-07-16T17:01:50.660008Z",
     "start_time": "2019-07-16T17:01:50.644058Z"
    },
    "scrolled": true
   },
   "outputs": [],
   "source": [
    "sql_table_rows = cursor.fetchall()"
   ]
  },
  {
   "cell_type": "code",
   "execution_count": 63,
   "metadata": {
    "ExecuteTime": {
     "end_time": "2019-07-16T17:01:50.804496Z",
     "start_time": "2019-07-16T17:01:50.801788Z"
    }
   },
   "outputs": [],
   "source": [
    "sql_table_rows = sql_table_rows[0][0]"
   ]
  },
  {
   "cell_type": "code",
   "execution_count": 70,
   "metadata": {
    "ExecuteTime": {
     "end_time": "2019-07-16T17:05:01.597125Z",
     "start_time": "2019-07-16T17:05:01.586024Z"
    }
   },
   "outputs": [],
   "source": [
    "def data_to_json_author(data_atom):\n",
    "    data = data_atom[1:]\n",
    "    data_dict = {k:data[num] for num,k in enumerate(head_columns)}\n",
    "    return data_dict"
   ]
  },
  {
   "cell_type": "markdown",
   "metadata": {},
   "source": [
    "# 每次查询limit数目的数值 同时批量插入author"
   ]
  },
  {
   "cell_type": "code",
   "execution_count": 73,
   "metadata": {
    "ExecuteTime": {
     "end_time": "2019-07-16T17:12:24.706465Z",
     "start_time": "2019-07-16T17:12:24.703863Z"
    }
   },
   "outputs": [],
   "source": [
    "from elasticsearch.helpers import bulk"
   ]
  },
  {
   "cell_type": "code",
   "execution_count": 74,
   "metadata": {
    "ExecuteTime": {
     "end_time": "2019-07-16T17:12:25.189296Z",
     "start_time": "2019-07-16T17:12:25.177365Z"
    }
   },
   "outputs": [],
   "source": [
    "es = Elasticsearch(hosts='10.8.128.205',port=49200,timeout=30, max_retries=10, retry_on_timeout=True)"
   ]
  },
  {
   "cell_type": "code",
   "execution_count": 75,
   "metadata": {
    "ExecuteTime": {
     "end_time": "2019-07-16T17:30:20.936939Z",
     "start_time": "2019-07-16T17:13:56.513556Z"
    },
    "scrolled": true
   },
   "outputs": [
    {
     "name": "stdout",
     "output_type": "stream",
     "text": [
      "[Wed Jul 17 01:13:56 2019] Epoch:0\n",
      "[Wed Jul 17 01:14:02 2019] Epoch:1\n",
      "[Wed Jul 17 01:14:07 2019] Epoch:2\n",
      "[Wed Jul 17 01:14:12 2019] Epoch:3\n",
      "[Wed Jul 17 01:14:17 2019] Epoch:4\n",
      "[Wed Jul 17 01:14:22 2019] Epoch:5\n",
      "[Wed Jul 17 01:14:27 2019] Epoch:6\n",
      "[Wed Jul 17 01:14:31 2019] Epoch:7\n",
      "[Wed Jul 17 01:14:36 2019] Epoch:8\n",
      "[Wed Jul 17 01:14:41 2019] Epoch:9\n",
      "[Wed Jul 17 01:14:46 2019] Epoch:10\n",
      "[Wed Jul 17 01:14:51 2019] Epoch:11\n",
      "[Wed Jul 17 01:14:56 2019] Epoch:12\n",
      "[Wed Jul 17 01:15:01 2019] Epoch:13\n",
      "[Wed Jul 17 01:15:06 2019] Epoch:14\n",
      "[Wed Jul 17 01:15:11 2019] Epoch:15\n",
      "[Wed Jul 17 01:15:16 2019] Epoch:16\n",
      "[Wed Jul 17 01:15:21 2019] Epoch:17\n",
      "[Wed Jul 17 01:15:26 2019] Epoch:18\n",
      "[Wed Jul 17 01:15:32 2019] Epoch:19\n",
      "[Wed Jul 17 01:15:37 2019] Epoch:20\n",
      "[Wed Jul 17 01:15:42 2019] Epoch:21\n",
      "[Wed Jul 17 01:15:47 2019] Epoch:22\n",
      "[Wed Jul 17 01:15:52 2019] Epoch:23\n",
      "[Wed Jul 17 01:15:57 2019] Epoch:24\n",
      "[Wed Jul 17 01:16:02 2019] Epoch:25\n",
      "[Wed Jul 17 01:16:08 2019] Epoch:26\n",
      "[Wed Jul 17 01:16:13 2019] Epoch:27\n",
      "[Wed Jul 17 01:16:18 2019] Epoch:28\n",
      "[Wed Jul 17 01:16:23 2019] Epoch:29\n",
      "[Wed Jul 17 01:16:35 2019] Epoch:30\n",
      "[Wed Jul 17 01:16:44 2019] Epoch:31\n",
      "[Wed Jul 17 01:16:49 2019] Epoch:32\n",
      "[Wed Jul 17 01:16:54 2019] Epoch:33\n",
      "[Wed Jul 17 01:16:59 2019] Epoch:34\n",
      "[Wed Jul 17 01:17:05 2019] Epoch:35\n",
      "[Wed Jul 17 01:17:10 2019] Epoch:36\n",
      "[Wed Jul 17 01:17:16 2019] Epoch:37\n",
      "[Wed Jul 17 01:17:21 2019] Epoch:38\n",
      "[Wed Jul 17 01:17:27 2019] Epoch:39\n",
      "[Wed Jul 17 01:17:34 2019] Epoch:40\n",
      "[Wed Jul 17 01:17:39 2019] Epoch:41\n",
      "[Wed Jul 17 01:17:44 2019] Epoch:42\n",
      "[Wed Jul 17 01:17:50 2019] Epoch:43\n",
      "[Wed Jul 17 01:17:55 2019] Epoch:44\n",
      "[Wed Jul 17 01:18:00 2019] Epoch:45\n",
      "[Wed Jul 17 01:18:06 2019] Epoch:46\n",
      "[Wed Jul 17 01:18:11 2019] Epoch:47\n",
      "[Wed Jul 17 01:18:17 2019] Epoch:48\n",
      "[Wed Jul 17 01:18:23 2019] Epoch:49\n",
      "[Wed Jul 17 01:18:29 2019] Epoch:50\n",
      "[Wed Jul 17 01:18:34 2019] Epoch:51\n",
      "[Wed Jul 17 01:18:40 2019] Epoch:52\n",
      "[Wed Jul 17 01:18:46 2019] Epoch:53\n",
      "[Wed Jul 17 01:18:52 2019] Epoch:54\n",
      "[Wed Jul 17 01:19:04 2019] Epoch:55\n",
      "[Wed Jul 17 01:19:10 2019] Epoch:56\n",
      "[Wed Jul 17 01:19:15 2019] Epoch:57\n",
      "[Wed Jul 17 01:19:21 2019] Epoch:58\n",
      "[Wed Jul 17 01:19:26 2019] Epoch:59\n",
      "[Wed Jul 17 01:19:32 2019] Epoch:60\n",
      "[Wed Jul 17 01:19:39 2019] Epoch:61\n",
      "[Wed Jul 17 01:19:44 2019] Epoch:62\n",
      "[Wed Jul 17 01:19:50 2019] Epoch:63\n",
      "[Wed Jul 17 01:19:57 2019] Epoch:64\n",
      "[Wed Jul 17 01:20:03 2019] Epoch:65\n",
      "[Wed Jul 17 01:20:10 2019] Epoch:66\n",
      "[Wed Jul 17 01:20:16 2019] Epoch:67\n",
      "[Wed Jul 17 01:20:23 2019] Epoch:68\n",
      "[Wed Jul 17 01:20:30 2019] Epoch:69\n",
      "[Wed Jul 17 01:20:36 2019] Epoch:70\n",
      "[Wed Jul 17 01:20:42 2019] Epoch:71\n",
      "[Wed Jul 17 01:20:50 2019] Epoch:72\n",
      "[Wed Jul 17 01:20:57 2019] Epoch:73\n",
      "[Wed Jul 17 01:21:03 2019] Epoch:74\n",
      "[Wed Jul 17 01:21:11 2019] Epoch:75\n",
      "[Wed Jul 17 01:21:18 2019] Epoch:76\n",
      "[Wed Jul 17 01:21:31 2019] Epoch:77\n",
      "[Wed Jul 17 01:21:39 2019] Epoch:78\n",
      "[Wed Jul 17 01:21:50 2019] Epoch:79\n",
      "[Wed Jul 17 01:21:56 2019] Epoch:80\n",
      "[Wed Jul 17 01:22:03 2019] Epoch:81\n",
      "[Wed Jul 17 01:22:10 2019] Epoch:82\n",
      "[Wed Jul 17 01:22:17 2019] Epoch:83\n",
      "[Wed Jul 17 01:22:24 2019] Epoch:84\n",
      "[Wed Jul 17 01:22:31 2019] Epoch:85\n",
      "[Wed Jul 17 01:22:37 2019] Epoch:86\n",
      "[Wed Jul 17 01:22:45 2019] Epoch:87\n",
      "[Wed Jul 17 01:22:52 2019] Epoch:88\n",
      "[Wed Jul 17 01:22:59 2019] Epoch:89\n",
      "[Wed Jul 17 01:23:06 2019] Epoch:90\n",
      "[Wed Jul 17 01:23:13 2019] Epoch:91\n",
      "[Wed Jul 17 01:23:20 2019] Epoch:92\n",
      "[Wed Jul 17 01:23:28 2019] Epoch:93\n",
      "[Wed Jul 17 01:23:35 2019] Epoch:94\n",
      "[Wed Jul 17 01:23:43 2019] Epoch:95\n",
      "[Wed Jul 17 01:23:49 2019] Epoch:96\n",
      "[Wed Jul 17 01:23:56 2019] Epoch:97\n",
      "[Wed Jul 17 01:24:03 2019] Epoch:98\n",
      "[Wed Jul 17 01:24:10 2019] Epoch:99\n",
      "[Wed Jul 17 01:24:24 2019] Epoch:100\n",
      "[Wed Jul 17 01:24:32 2019] Epoch:101\n",
      "[Wed Jul 17 01:24:40 2019] Epoch:102\n",
      "[Wed Jul 17 01:24:49 2019] Epoch:103\n",
      "[Wed Jul 17 01:24:56 2019] Epoch:104\n",
      "[Wed Jul 17 01:25:03 2019] Epoch:105\n",
      "[Wed Jul 17 01:25:11 2019] Epoch:106\n",
      "[Wed Jul 17 01:25:18 2019] Epoch:107\n",
      "[Wed Jul 17 01:25:25 2019] Epoch:108\n",
      "[Wed Jul 17 01:25:33 2019] Epoch:109\n",
      "[Wed Jul 17 01:25:40 2019] Epoch:110\n",
      "[Wed Jul 17 01:25:48 2019] Epoch:111\n",
      "[Wed Jul 17 01:25:56 2019] Epoch:112\n",
      "[Wed Jul 17 01:26:03 2019] Epoch:113\n",
      "[Wed Jul 17 01:26:10 2019] Epoch:114\n",
      "[Wed Jul 17 01:26:18 2019] Epoch:115\n",
      "[Wed Jul 17 01:26:26 2019] Epoch:116\n",
      "[Wed Jul 17 01:26:34 2019] Epoch:117\n",
      "[Wed Jul 17 01:26:41 2019] Epoch:118\n",
      "[Wed Jul 17 01:26:49 2019] Epoch:119\n",
      "[Wed Jul 17 01:27:00 2019] Epoch:120\n",
      "[Wed Jul 17 01:27:09 2019] Epoch:121\n",
      "[Wed Jul 17 01:27:17 2019] Epoch:122\n",
      "[Wed Jul 17 01:27:25 2019] Epoch:123\n",
      "[Wed Jul 17 01:27:33 2019] Epoch:124\n",
      "[Wed Jul 17 01:27:41 2019] Epoch:125\n",
      "[Wed Jul 17 01:27:48 2019] Epoch:126\n",
      "[Wed Jul 17 01:27:56 2019] Epoch:127\n",
      "[Wed Jul 17 01:28:04 2019] Epoch:128\n",
      "[Wed Jul 17 01:28:12 2019] Epoch:129\n",
      "[Wed Jul 17 01:28:20 2019] Epoch:130\n",
      "[Wed Jul 17 01:28:28 2019] Epoch:131\n",
      "[Wed Jul 17 01:28:40 2019] Epoch:132\n",
      "[Wed Jul 17 01:28:54 2019] Epoch:133\n",
      "[Wed Jul 17 01:29:02 2019] Epoch:134\n",
      "[Wed Jul 17 01:29:12 2019] Epoch:135\n",
      "[Wed Jul 17 01:29:20 2019] Epoch:136\n",
      "[Wed Jul 17 01:29:29 2019] Epoch:137\n",
      "[Wed Jul 17 01:29:38 2019] Epoch:138\n",
      "[Wed Jul 17 01:29:46 2019] Epoch:139\n",
      "[Wed Jul 17 01:29:54 2019] Epoch:140\n",
      "[Wed Jul 17 01:30:03 2019] Epoch:141\n"
     ]
    },
    {
     "data": {
      "text/plain": [
       "(10000, [])"
      ]
     },
     "execution_count": 75,
     "metadata": {},
     "output_type": "execute_result"
    }
   ],
   "source": [
    "limit = 10000\n",
    "offset = 0\n",
    "for epoch in range(int(sql_table_rows/limit)):\n",
    "    print('[{0}] Epoch:{1}'.format(time.ctime(),epoch))\n",
    "    base_fetch_sql = 'select * from {dbName}.{tableName} limit {limitVolume} offset {offsetVolume}'\n",
    "    base_fetch_sql = base_fetch_sql.format(dbName='bioDB',tableName='author_table',limitVolume=limit,offsetVolume=offset)\n",
    "    cursor.execute(base_fetch_sql)\n",
    "    sql_data = cursor.fetchall()\n",
    "    sql_dict = [data_to_json_author(i) for i in sql_data]\n",
    "    bulk(es,sql_dict,index='paper-author-index',raise_on_error=True)\n",
    "    offset += limit - 1\n",
    "# 最后一桶\n",
    "base_fetch_sql = 'select * from {dbName}.{tableName} limit {limitVolume} offset {offsetVolume}'\n",
    "base_fetch_sql = base_fetch_sql.format(dbName='bioDB',tableName='author_table',limitVolume=limit,offsetVolume=offset)\n",
    "cursor.execute(base_fetch_sql)\n",
    "sql_data = cursor.fetchall()\n",
    "sql_dict = [data_to_json_author(i) for i in sql_data]\n",
    "bulk(es,sql_dict,index='paper-author-index',raise_on_error=True)"
   ]
  },
  {
   "cell_type": "code",
   "execution_count": null,
   "metadata": {},
   "outputs": [],
   "source": []
  },
  {
   "cell_type": "markdown",
   "metadata": {},
   "source": [
    "# 设置ES状态为可写（触发硬盘存储超限后集群会自动配置所有索引为只读）"
   ]
  },
  {
   "cell_type": "code",
   "execution_count": 42,
   "metadata": {
    "ExecuteTime": {
     "end_time": "2019-07-16T15:59:20.352083Z",
     "start_time": "2019-07-16T15:59:20.165817Z"
    }
   },
   "outputs": [],
   "source": [
    "import json\n",
    "\n",
    "import requests\n",
    "\n",
    "headers = {\n",
    "    'Accept': 'application/json, text/javascript, */*; q=0.01',\n",
    "    'Content-Type': 'application/json',\n",
    "    'Origin': 'chrome-extension://ffmkiejjmecolpfloofpjologoblkegm',\n",
    "    'User-Agent': 'Mozilla/5.0 (Windows NT 10.0; Win64; x64) AppleWebKit/537.36 (KHTML, like Gecko) Chrome/75.0.3770.100 Safari/537.36'\n",
    "}\n",
    "\n",
    "unlock_dict = {\n",
    "\"index.blocks.read_only_allow_delete\": \"false\"\n",
    "}\n",
    "\n",
    "ppp = requests.put('http://10.8.128.205:49200/paper-year-index/_settings',data=json.dumps(unlock_dict),headers=headers)"
   ]
  },
  {
   "cell_type": "code",
   "execution_count": 43,
   "metadata": {
    "ExecuteTime": {
     "end_time": "2019-07-16T15:59:20.357832Z",
     "start_time": "2019-07-16T15:59:20.354214Z"
    }
   },
   "outputs": [
    {
     "data": {
      "text/plain": [
       "'{\"acknowledged\":true}'"
      ]
     },
     "execution_count": 43,
     "metadata": {},
     "output_type": "execute_result"
    }
   ],
   "source": [
    "ppp.text"
   ]
  },
  {
   "cell_type": "markdown",
   "metadata": {},
   "source": [
    "# 论文检索对象"
   ]
  },
  {
   "cell_type": "code",
   "execution_count": 81,
   "metadata": {
    "ExecuteTime": {
     "end_time": "2019-07-16T13:03:44.537084Z",
     "start_time": "2019-07-16T13:03:44.510994Z"
    }
   },
   "outputs": [],
   "source": [
    "ess = esPatentRetrieval(host='10.8.128.205',port=29200)"
   ]
  },
  {
   "cell_type": "code",
   "execution_count": null,
   "metadata": {
    "ExecuteTime": {
     "end_time": "2019-07-16T13:03:45.596267Z",
     "start_time": "2019-07-16T13:03:45.229101Z"
    },
    "scrolled": true
   },
   "outputs": [],
   "source": [
    "ess.Retrieval('机器人','2000-01-22','2010-01-22',volume=100)"
   ]
  },
  {
   "cell_type": "code",
   "execution_count": null,
   "metadata": {},
   "outputs": [],
   "source": []
  }
 ],
 "metadata": {
  "kernelspec": {
   "display_name": "Python 3",
   "language": "python",
   "name": "python3"
  },
  "language_info": {
   "codemirror_mode": {
    "name": "ipython",
    "version": 3
   },
   "file_extension": ".py",
   "mimetype": "text/x-python",
   "name": "python",
   "nbconvert_exporter": "python",
   "pygments_lexer": "ipython3",
   "version": "3.6.8"
  }
 },
 "nbformat": 4,
 "nbformat_minor": 2
}
