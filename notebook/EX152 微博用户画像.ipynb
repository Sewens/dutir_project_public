{
 "cells": [
  {
   "cell_type": "code",
   "execution_count": 1,
   "metadata": {
    "ExecuteTime": {
     "end_time": "2019-07-24T06:34:38.890569Z",
     "start_time": "2019-07-24T06:34:38.314044Z"
    }
   },
   "outputs": [],
   "source": [
    "import time\n",
    "import random\n",
    "import os\n",
    "import re\n",
    "import pandas as pd\n",
    "import numpy as np\n",
    "from datetime import datetime\n",
    "from elasticsearch import Elasticsearch\n",
    "import mysql.connector"
   ]
  },
  {
   "cell_type": "code",
   "execution_count": 2,
   "metadata": {
    "ExecuteTime": {
     "end_time": "2019-07-24T06:34:38.919909Z",
     "start_time": "2019-07-24T06:34:38.895349Z"
    }
   },
   "outputs": [],
   "source": [
    "class esWeiboUserRetrieval():\n",
    "    '''\n",
    "    根据论文检索需求进行功能的微调\n",
    "    '''\n",
    "    _instance = None\n",
    "    _first_init = True\n",
    "    def __new__(cls, *args, **kw):\n",
    "        if not cls._instance:\n",
    "            cls._instance = super(esWeiboUserRetrieval, cls).__new__(cls)  \n",
    "        return cls._instance\n",
    "    \n",
    "    def __init__(self, host, port):\n",
    "        '''\n",
    "        使用ES进行论文检索 指定host、port以及专利index之后进行检索\n",
    "        '''\n",
    "        super(esWeiboUserRetrieval, self).__init__()\n",
    "        self.es = Elasticsearch(hosts=host, port=port, timeout=30, max_retries=10, retry_on_timeout=True)\n",
    "        self.indexName = 'weibo-user-index'\n",
    "\n",
    "    def do_search(self, U_nick_name, volume):\n",
    "        '''\n",
    "        do_search方法执行具体检索过程\n",
    "        wordQuery 本应为查询对应微博时所用的检索词 此处暂时不用 目前暂时只检索微博评论数据后续再修改对象为\n",
    "        \n",
    "        volume为每次检索返回的数目\n",
    "        '''\n",
    "        queryBody = {\n",
    "          \"query\": {\n",
    "            \"bool\": {\n",
    "              \"must\": [\n",
    "                {\n",
    "                  \"query_string\": {\n",
    "                    \"default_field\": \"U_nick_name\",\n",
    "                    \"query\": U_nick_name\n",
    "                  }\n",
    "                }\n",
    "              ],\n",
    "              \"must_not\": [],\n",
    "              \"should\": []\n",
    "            }\n",
    "          },\n",
    "          \"from\": 0,\n",
    "          \"size\": volume,\n",
    "          \"sort\": [],\n",
    "          \"aggs\": {}\n",
    "        }\n",
    "        result = self.es.search(index=self.indexName, body=queryBody)\n",
    "        return result\n",
    "\n",
    "    def format_search(self, result):\n",
    "        '''\n",
    "        format_search方法对检索结果进行格式化 构建符合要求的字段进行返回\n",
    "        输入result为检索结果 提取其中的检索结果进行后处理\n",
    "        使用ES检索后得到的结果中result['hits']['hits']为数组格式数据\n",
    "        其中每一个元素为一个dict 对应部分字段\n",
    "        '''\n",
    "        docs = result['hits']['hits']\n",
    "        docs = [i['_source'] for i in docs]\n",
    "        targetKeyList = 'U_ID,U_user_id,U_name,U_nick_name,U_location,U_sex,\\\n",
    "        U_sexual_orientation,U_Emotional_status,U_Birthday,U_constellation,U_crawl_time,\\\n",
    "        U_Blood,U_own_bolg_address_name,U_brief_introduction,U_Registration_time,U_QQ,U_email,U_MSN,\\\n",
    "        U_Work,U_educational,U_fans_Number,U_blog_Number,\\\n",
    "        U_credit,U_Head_Photo,U_senti,U_big5,U_big5_comment,U_concerns_Number,U_tag'\n",
    "        targetKeyList = [i.strip() for i in targetKeyList.split(',')]\n",
    "        dict_filter_by_keys = lambda d: {k: d[k] for k in targetKeyList}\n",
    "        dict_filter_id = lambda d: {k if not k == '_id' else 'id': d[k] for k in d}\n",
    "        docs = list(dict_filter_by_keys(doc) for doc in docs)\n",
    "        return docs\n",
    "    def Retrieval(self, U_nick_name, volume):\n",
    "        result = self.do_search(U_nick_name, volume)\n",
    "        docs = self.format_search(result)\n",
    "        return docs"
   ]
  },
  {
   "cell_type": "code",
   "execution_count": 3,
   "metadata": {
    "ExecuteTime": {
     "end_time": "2019-07-24T06:34:41.268541Z",
     "start_time": "2019-07-24T06:34:41.251191Z"
    }
   },
   "outputs": [],
   "source": [
    "eee = esWeiboUserRetrieval(host='10.8.128.205',port=49200,)\n",
    "result= eee.Retrieval(U_nick_name='飞',volume=100)"
   ]
  },
  {
   "cell_type": "code",
   "execution_count": 4,
   "metadata": {
    "ExecuteTime": {
     "end_time": "2019-07-24T06:34:44.113050Z",
     "start_time": "2019-07-24T06:34:44.104940Z"
    }
   },
   "outputs": [],
   "source": [
    "def Retrieve_page(user_list):\n",
    "    dict_user = {}\n",
    "    users = []\n",
    "    for i in user_list:\n",
    "        name = i[\"U_nick_name\"]\n",
    "        dict_user = {\"U_nick_name\":i[\"U_nick_name\"],\"U_blog_Number\":i[\"U_blog_Number\"],\"U_fans_Number\":i[\"U_fans_Number\"],\n",
    "             \"U_concerns_Number\":i[\"U_concerns_Number\"],\"U_tag\":i[\"U_tag\"]} \n",
    "        users.append(dict_user)\n",
    "    return users"
   ]
  },
  {
   "cell_type": "code",
   "execution_count": 5,
   "metadata": {
    "ExecuteTime": {
     "end_time": "2019-07-24T06:34:44.861292Z",
     "start_time": "2019-07-24T06:34:44.856616Z"
    }
   },
   "outputs": [],
   "source": [
    "a = Retrieve_page(result)"
   ]
  },
  {
   "cell_type": "code",
   "execution_count": 6,
   "metadata": {
    "ExecuteTime": {
     "end_time": "2019-07-24T06:34:45.251199Z",
     "start_time": "2019-07-24T06:34:45.233090Z"
    },
    "scrolled": false
   },
   "outputs": [
    {
     "data": {
      "text/plain": [
       "[{'U_nick_name': '-林鸿飞-',\n",
       "  'U_blog_Number': 7751,\n",
       "  'U_fans_Number': 11146,\n",
       "  'U_concerns_Number': 601,\n",
       "  'U_tag': '                                     邓丽君                                                                         西藏旅游                                                                         社会计算                                                                         社交网络                                                                         瑞士                                                                         爱琴海                                                                         加德满都                                                                         古典诗歌                                                                         信息检索                                                                         意见挖掘                                    '}]"
      ]
     },
     "execution_count": 6,
     "metadata": {},
     "output_type": "execute_result"
    }
   ],
   "source": [
    "a"
   ]
  },
  {
   "cell_type": "code",
   "execution_count": 7,
   "metadata": {
    "ExecuteTime": {
     "end_time": "2019-07-24T06:34:48.293902Z",
     "start_time": "2019-07-24T06:34:48.289076Z"
    }
   },
   "outputs": [],
   "source": [
    "a = Retrieve_page(result*2)"
   ]
  },
  {
   "cell_type": "code",
   "execution_count": null,
   "metadata": {},
   "outputs": [],
   "source": []
  }
 ],
 "metadata": {
  "kernelspec": {
   "display_name": "Python 3",
   "language": "python",
   "name": "python3"
  },
  "language_info": {
   "codemirror_mode": {
    "name": "ipython",
    "version": 3
   },
   "file_extension": ".py",
   "mimetype": "text/x-python",
   "name": "python",
   "nbconvert_exporter": "python",
   "pygments_lexer": "ipython3",
   "version": "3.6.8"
  }
 },
 "nbformat": 4,
 "nbformat_minor": 2
}
